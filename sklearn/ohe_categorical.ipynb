{
 "cells": [
  {
   "cell_type": "markdown",
   "metadata": {},
   "source": [
    "## One Hot encoding for categorical data"
   ]
  },
  {
   "cell_type": "code",
   "execution_count": 1,
   "metadata": {},
   "outputs": [],
   "source": [
    "import uuid\n",
    "\n",
    "import numpy as np\n",
    "import pandas as pd\n",
    "\n",
    "from sklearn.preprocessing import OneHotEncoder"
   ]
  },
  {
   "cell_type": "markdown",
   "metadata": {},
   "source": [
    "Let's make columns with some random strings"
   ]
  },
  {
   "cell_type": "code",
   "execution_count": 13,
   "metadata": {},
   "outputs": [
    {
     "name": "stdout",
     "output_type": "stream",
     "text": [
      "CPU times: user 20.2 s, sys: 5.45 s, total: 25.7 s\n",
      "Wall time: 25.7 s\n"
     ]
    }
   ],
   "source": [
    "%%time\n",
    "n_samples = 500_000\n",
    "\n",
    "def make_string_data(n_samples):\n",
    "    return [str(uuid.uuid4())[:4] for _ in range(n_samples)]\n",
    "\n",
    "df = pd.DataFrame({f'col_{idx}': make_string_data(n_samples) for idx in range(10)})"
   ]
  },
  {
   "cell_type": "code",
   "execution_count": 14,
   "metadata": {},
   "outputs": [
    {
     "data": {
      "text/html": [
       "<div>\n",
       "<style scoped>\n",
       "    .dataframe tbody tr th:only-of-type {\n",
       "        vertical-align: middle;\n",
       "    }\n",
       "\n",
       "    .dataframe tbody tr th {\n",
       "        vertical-align: top;\n",
       "    }\n",
       "\n",
       "    .dataframe thead th {\n",
       "        text-align: right;\n",
       "    }\n",
       "</style>\n",
       "<table border=\"1\" class=\"dataframe\">\n",
       "  <thead>\n",
       "    <tr style=\"text-align: right;\">\n",
       "      <th></th>\n",
       "      <th>col_0</th>\n",
       "      <th>col_1</th>\n",
       "      <th>col_2</th>\n",
       "      <th>col_3</th>\n",
       "      <th>col_4</th>\n",
       "      <th>col_5</th>\n",
       "      <th>col_6</th>\n",
       "      <th>col_7</th>\n",
       "      <th>col_8</th>\n",
       "      <th>col_9</th>\n",
       "    </tr>\n",
       "  </thead>\n",
       "  <tbody>\n",
       "    <tr>\n",
       "      <th>0</th>\n",
       "      <td>1d47</td>\n",
       "      <td>ca9d</td>\n",
       "      <td>e04e</td>\n",
       "      <td>0005</td>\n",
       "      <td>17d4</td>\n",
       "      <td>1844</td>\n",
       "      <td>3870</td>\n",
       "      <td>0923</td>\n",
       "      <td>2c6b</td>\n",
       "      <td>8a61</td>\n",
       "    </tr>\n",
       "    <tr>\n",
       "      <th>1</th>\n",
       "      <td>cf2c</td>\n",
       "      <td>b01f</td>\n",
       "      <td>b30b</td>\n",
       "      <td>8043</td>\n",
       "      <td>d6a4</td>\n",
       "      <td>5bc6</td>\n",
       "      <td>d2fe</td>\n",
       "      <td>75d5</td>\n",
       "      <td>ed05</td>\n",
       "      <td>9bec</td>\n",
       "    </tr>\n",
       "    <tr>\n",
       "      <th>2</th>\n",
       "      <td>e623</td>\n",
       "      <td>9870</td>\n",
       "      <td>bbe8</td>\n",
       "      <td>1391</td>\n",
       "      <td>510a</td>\n",
       "      <td>ab8d</td>\n",
       "      <td>f729</td>\n",
       "      <td>ee38</td>\n",
       "      <td>97f5</td>\n",
       "      <td>8631</td>\n",
       "    </tr>\n",
       "    <tr>\n",
       "      <th>3</th>\n",
       "      <td>6415</td>\n",
       "      <td>d013</td>\n",
       "      <td>ea7b</td>\n",
       "      <td>c71b</td>\n",
       "      <td>97af</td>\n",
       "      <td>d281</td>\n",
       "      <td>56cb</td>\n",
       "      <td>d997</td>\n",
       "      <td>a7eb</td>\n",
       "      <td>35a2</td>\n",
       "    </tr>\n",
       "    <tr>\n",
       "      <th>4</th>\n",
       "      <td>8707</td>\n",
       "      <td>bc88</td>\n",
       "      <td>cc83</td>\n",
       "      <td>f8ad</td>\n",
       "      <td>06a7</td>\n",
       "      <td>2202</td>\n",
       "      <td>1882</td>\n",
       "      <td>e99e</td>\n",
       "      <td>01dd</td>\n",
       "      <td>df34</td>\n",
       "    </tr>\n",
       "  </tbody>\n",
       "</table>\n",
       "</div>"
      ],
      "text/plain": [
       "  col_0 col_1 col_2 col_3 col_4 col_5 col_6 col_7 col_8 col_9\n",
       "0  1d47  ca9d  e04e  0005  17d4  1844  3870  0923  2c6b  8a61\n",
       "1  cf2c  b01f  b30b  8043  d6a4  5bc6  d2fe  75d5  ed05  9bec\n",
       "2  e623  9870  bbe8  1391  510a  ab8d  f729  ee38  97f5  8631\n",
       "3  6415  d013  ea7b  c71b  97af  d281  56cb  d997  a7eb  35a2\n",
       "4  8707  bc88  cc83  f8ad  06a7  2202  1882  e99e  01dd  df34"
      ]
     },
     "execution_count": 14,
     "metadata": {},
     "output_type": "execute_result"
    }
   ],
   "source": [
    "df.head()"
   ]
  },
  {
   "cell_type": "code",
   "execution_count": 108,
   "metadata": {},
   "outputs": [
    {
     "data": {
      "text/plain": [
       "col_0    65498\n",
       "col_1    65497\n",
       "col_2    65510\n",
       "col_3    65509\n",
       "col_4    65508\n",
       "col_5    65509\n",
       "col_6    65498\n",
       "col_7    65506\n",
       "col_8    65509\n",
       "col_9    65499\n",
       "dtype: int64"
      ]
     },
     "execution_count": 108,
     "metadata": {},
     "output_type": "execute_result"
    }
   ],
   "source": [
    "df.nunique(axis=0)"
   ]
  },
  {
   "cell_type": "code",
   "execution_count": 15,
   "metadata": {},
   "outputs": [
    {
     "data": {
      "text/plain": [
       "(500000, 10)"
      ]
     },
     "execution_count": 15,
     "metadata": {},
     "output_type": "execute_result"
    }
   ],
   "source": [
    "df.shape"
   ]
  },
  {
   "cell_type": "code",
   "execution_count": 81,
   "metadata": {},
   "outputs": [
    {
     "name": "stdout",
     "output_type": "stream",
     "text": [
      "5.65 s ± 292 ms per loop (mean ± std. dev. of 7 runs, 1 loop each)\n"
     ]
    }
   ],
   "source": [
    "%%timeit\n",
    "\n",
    "OneHotEncoder().fit_transform(df)"
   ]
  },
  {
   "cell_type": "code",
   "execution_count": 17,
   "metadata": {},
   "outputs": [],
   "source": [
    "df_cat = df.astype('category')"
   ]
  },
  {
   "cell_type": "code",
   "execution_count": 72,
   "metadata": {},
   "outputs": [
    {
     "name": "stdout",
     "output_type": "stream",
     "text": [
      "5.31 s ± 218 ms per loop (mean ± std. dev. of 7 runs, 1 loop each)\n"
     ]
    }
   ],
   "source": [
    "%%timeit\n",
    "\n",
    "OneHotEncoder().fit_transform(df_cat)"
   ]
  },
  {
   "cell_type": "code",
   "execution_count": 127,
   "metadata": {},
   "outputs": [],
   "source": [
    "from sklearn.base import BaseEstimator\n",
    "from sklearn.utils.validation import check_array\n",
    "import itertools\n",
    "\n",
    "import scipy.sparse\n",
    "\n",
    "class OneHotCatEncoder(BaseEstimator):\n",
    "    def __init__(self, handle_na='error'):\n",
    "        self.handle_na = handle_na\n",
    "        \n",
    "    def fit_transform(self, X, y=None):\n",
    "        if not isinstance(X, pd.DataFrame):\n",
    "            raise ValueError\n",
    "            \n",
    "        self._categories = []\n",
    "        self._feature_mask = []\n",
    "        self._columns = []\n",
    "        n_samples = X.shape[0]\n",
    "        out = []\n",
    "        for col in X.columns:\n",
    "            ds = X[col]\n",
    "            if ds.dtype.name != 'category':\n",
    "                ds = ds.astype('category')\n",
    "            if self.handle_na == 'error':\n",
    "                if ds.isna().sum() > 0:\n",
    "                    raise ValueError('NA found')\n",
    "            elif self.handle_na == 'category':\n",
    "                if 'NA' not in ds.cat.categories:\n",
    "                    ds = ds.cat.add_categories(['NA'])\n",
    "                    ds.fillna('NA', inplace=True)\n",
    "            else:\n",
    "                raise ValueError\n",
    "            X_res = scipy.sparse.csr_matrix((\n",
    "                np.ones(n_samples), \n",
    "                ds.cat.codes,\n",
    "                np.arange(n_samples+1)\n",
    "            ), shape=(n_samples, len(ds.cat.categories)))\n",
    "            # remove categories with no data\n",
    "            mask = X_res.sum(axis=0).A1 > 0\n",
    "            X_res = X_res[:, mask]\n",
    "            self._columns.append(col)\n",
    "            self._categories.append(ds.cat.categories[mask])\n",
    "            out.append(X_res)\n",
    "        return scipy.sparse.hstack(out, format='csr')\n",
    "    \n",
    "    def get_feature_names(self):\n",
    "        res = [[f'{col}_{category}' for category in self._categories[idx]]\n",
    "              for idx, col in enumerate(self._columns)]\n",
    "        return list(itertools.chain.from_iterable(res))\n",
    "        \n",
    "    def fit(self, X, y=None):\n",
    "        raise NotImplementedError('TODO')\n",
    "        \n",
    "    def transform(self, X, y=None):\n",
    "        raise NotImplementedError('TODO')"
   ]
  },
  {
   "cell_type": "code",
   "execution_count": 115,
   "metadata": {},
   "outputs": [
    {
     "name": "stdout",
     "output_type": "stream",
     "text": [
      "316 ms ± 26.5 ms per loop (mean ± std. dev. of 7 runs, 1 loop each)\n"
     ]
    }
   ],
   "source": [
    "%%timeit\n",
    "\n",
    "# Encoding categorical dtype\n",
    "\n",
    "OneHotCatEncoder().fit_transform(df_cat)"
   ]
  },
  {
   "cell_type": "code",
   "execution_count": 118,
   "metadata": {},
   "outputs": [
    {
     "name": "stdout",
     "output_type": "stream",
     "text": [
      "2.23 s ± 127 ms per loop (mean ± std. dev. of 7 runs, 1 loop each)\n"
     ]
    }
   ],
   "source": [
    "%%timeit\n",
    "\n",
    "# Converting object dtype to categorical internally \n",
    "\n",
    "OneHotCatEncoder().fit_transform(df)"
   ]
  },
  {
   "cell_type": "code",
   "execution_count": 116,
   "metadata": {},
   "outputs": [],
   "source": [
    "from numpy.testing import assert_allclose\n",
    "\n",
    "ohe2 = OneHotEncoder()\n",
    "X2 = ohe2.fit_transform(df_cat)\n",
    "\n",
    "ohe3 = OneHotCatEncoder()\n",
    "X3 = ohe3.fit_transform(df_cat)\n",
    "\n",
    "assert X2.shape == X3.shape\n",
    "assert X2.format == X3.format\n",
    "assert_allclose(X2.data, X3.data)\n",
    "assert_allclose(X2.indices, X3.indices)\n",
    "assert_allclose(X2.indptr, X3.indptr)\n",
    "assert list(ohe2.get_feature_names(df_cat.columns)) == list(ohe3.get_feature_names())"
   ]
  },
  {
   "cell_type": "markdown",
   "metadata": {},
   "source": [
    "## NA support"
   ]
  },
  {
   "cell_type": "code",
   "execution_count": 130,
   "metadata": {},
   "outputs": [
    {
     "data": {
      "text/html": [
       "<div>\n",
       "<style scoped>\n",
       "    .dataframe tbody tr th:only-of-type {\n",
       "        vertical-align: middle;\n",
       "    }\n",
       "\n",
       "    .dataframe tbody tr th {\n",
       "        vertical-align: top;\n",
       "    }\n",
       "\n",
       "    .dataframe thead th {\n",
       "        text-align: right;\n",
       "    }\n",
       "</style>\n",
       "<table border=\"1\" class=\"dataframe\">\n",
       "  <thead>\n",
       "    <tr style=\"text-align: right;\">\n",
       "      <th></th>\n",
       "      <th>a_1</th>\n",
       "      <th>a_2</th>\n",
       "      <th>b_c</th>\n",
       "      <th>b_d</th>\n",
       "    </tr>\n",
       "  </thead>\n",
       "  <tbody>\n",
       "    <tr>\n",
       "      <th>0</th>\n",
       "      <td>1.0</td>\n",
       "      <td>0.0</td>\n",
       "      <td>1.0</td>\n",
       "      <td>0.0</td>\n",
       "    </tr>\n",
       "    <tr>\n",
       "      <th>1</th>\n",
       "      <td>0.0</td>\n",
       "      <td>1.0</td>\n",
       "      <td>0.0</td>\n",
       "      <td>1.0</td>\n",
       "    </tr>\n",
       "    <tr>\n",
       "      <th>2</th>\n",
       "      <td>1.0</td>\n",
       "      <td>0.0</td>\n",
       "      <td>1.0</td>\n",
       "      <td>0.0</td>\n",
       "    </tr>\n",
       "  </tbody>\n",
       "</table>\n",
       "</div>"
      ],
      "text/plain": [
       "   a_1  a_2  b_c  b_d\n",
       "0  1.0  0.0  1.0  0.0\n",
       "1  0.0  1.0  0.0  1.0\n",
       "2  1.0  0.0  1.0  0.0"
      ]
     },
     "execution_count": 130,
     "metadata": {},
     "output_type": "execute_result"
    }
   ],
   "source": [
    "df2 = pd.DataFrame({'a': [1, 2, 1], \"b\": ['c', 'd', 'c']})\n",
    "\n",
    "ohe = OneHotCatEncoder(handle_na=\"error\")\n",
    "pd.DataFrame(est.fit_transform(df2).A, columns=est.get_feature_names())"
   ]
  },
  {
   "cell_type": "code",
   "execution_count": 134,
   "metadata": {},
   "outputs": [
    {
     "data": {
      "text/html": [
       "<div>\n",
       "<style scoped>\n",
       "    .dataframe tbody tr th:only-of-type {\n",
       "        vertical-align: middle;\n",
       "    }\n",
       "\n",
       "    .dataframe tbody tr th {\n",
       "        vertical-align: top;\n",
       "    }\n",
       "\n",
       "    .dataframe thead th {\n",
       "        text-align: right;\n",
       "    }\n",
       "</style>\n",
       "<table border=\"1\" class=\"dataframe\">\n",
       "  <thead>\n",
       "    <tr style=\"text-align: right;\">\n",
       "      <th></th>\n",
       "      <th>a_1</th>\n",
       "      <th>a_2</th>\n",
       "      <th>a_NA</th>\n",
       "      <th>b_c</th>\n",
       "      <th>b_d</th>\n",
       "    </tr>\n",
       "  </thead>\n",
       "  <tbody>\n",
       "    <tr>\n",
       "      <th>0</th>\n",
       "      <td>1.0</td>\n",
       "      <td>0.0</td>\n",
       "      <td>0.0</td>\n",
       "      <td>1.0</td>\n",
       "      <td>0.0</td>\n",
       "    </tr>\n",
       "    <tr>\n",
       "      <th>1</th>\n",
       "      <td>0.0</td>\n",
       "      <td>1.0</td>\n",
       "      <td>0.0</td>\n",
       "      <td>0.0</td>\n",
       "      <td>1.0</td>\n",
       "    </tr>\n",
       "    <tr>\n",
       "      <th>2</th>\n",
       "      <td>0.0</td>\n",
       "      <td>0.0</td>\n",
       "      <td>1.0</td>\n",
       "      <td>1.0</td>\n",
       "      <td>0.0</td>\n",
       "    </tr>\n",
       "  </tbody>\n",
       "</table>\n",
       "</div>"
      ],
      "text/plain": [
       "   a_1  a_2  a_NA  b_c  b_d\n",
       "0  1.0  0.0   0.0  1.0  0.0\n",
       "1  0.0  1.0   0.0  0.0  1.0\n",
       "2  0.0  0.0   1.0  1.0  0.0"
      ]
     },
     "execution_count": 134,
     "metadata": {},
     "output_type": "execute_result"
    }
   ],
   "source": [
    "df3 = pd.DataFrame({'a': np.array([1, 2, np.nan], dtype=object), \"b\": ['c', 'd', 'c']})\n",
    "\n",
    "est = OneHotCatEncoder(handle_na=\"category\")\n",
    "pd.DataFrame(est.fit_transform(df3).A, columns=est.get_feature_names())"
   ]
  },
  {
   "cell_type": "code",
   "execution_count": null,
   "metadata": {},
   "outputs": [],
   "source": []
  }
 ],
 "metadata": {
  "kernelspec": {
   "display_name": "Python 3",
   "language": "python",
   "name": "python3"
  },
  "language_info": {
   "codemirror_mode": {
    "name": "ipython",
    "version": 3
   },
   "file_extension": ".py",
   "mimetype": "text/x-python",
   "name": "python",
   "nbconvert_exporter": "python",
   "pygments_lexer": "ipython3",
   "version": "3.7.4"
  }
 },
 "nbformat": 4,
 "nbformat_minor": 2
}
