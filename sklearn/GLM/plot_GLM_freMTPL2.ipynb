{
 "cells": [
  {
   "cell_type": "markdown",
   "metadata": {},
   "source": [
    "# French Motor Third-Party Liability Claims\n",
    "\n",
    "Adapted from https://github.com/lorentzenchr/Tutorial_freMTPL2\n",
    "\n",
    "case study paper: https://papers.ssrn.com/sol3/papers.cfm?abstract_id=3164764\n",
    "\n",
    "R code: https://github.com/JSchelldorfer/ActuarialDataScience/tree/master/1%20-%20French%20Motor%20Third-Party%20Liability%20Claims"
   ]
  },
  {
   "cell_type": "markdown",
   "metadata": {},
   "source": [
    "## 1. Import Libraries and Helper Functions"
   ]
  },
  {
   "cell_type": "code",
   "execution_count": 1,
   "metadata": {},
   "outputs": [],
   "source": [
    "from functools import partial\n",
    "\n",
    "import numpy as np\n",
    "import matplotlib.pyplot as plt\n",
    "import pandas as pd\n",
    "import scipy.sparse as sparse\n",
    "\n",
    "from sklearn.compose import ColumnTransformer\n",
    "from sklearn.linear_model import GeneralizedLinearRegressor\n",
    "from sklearn.model_selection import train_test_split\n",
    "from sklearn.pipeline import Pipeline, make_pipeline\n",
    "from sklearn.preprocessing import FunctionTransformer, OneHotEncoder\n",
    "from sklearn.preprocessing import StandardScaler, KBinsDiscretizer"
   ]
  },
  {
   "cell_type": "code",
   "execution_count": 93,
   "metadata": {},
   "outputs": [],
   "source": [
    "def calc_obs_pred(df, feature, observed, predicted, weight):\n",
    "    \"\"\"Calculate a DataFrame with observed and predicted - aggregated per feature level.\n",
    "    \n",
    "    This makes most sense for categorical features.\n",
    "\n",
    "    Returns\n",
    "    -------\n",
    "    df_ : DataFrame with columns ['observed', 'predicted']\n",
    "    \"\"\"\n",
    "    df_ = df.loc[:, [feature, weight]].copy()\n",
    "    df_['observed'] = df[observed] * df[weight]\n",
    "    df_['predicted'] = df[predicted] * df[weight]    \n",
    "    df_ = (df_.groupby([feature])[weight, 'observed', 'predicted']\n",
    "          .sum()\n",
    "          .assign(observed = lambda x: x['observed']/x[weight])\n",
    "          .assign(predicted = lambda x: x['predicted']/x[weight])\n",
    "    )\n",
    "    return df_\n",
    "\n",
    "def plot_obs_pred(df, feature, observed, predicted, weight,\n",
    "                  y_label=None, title=None, kind_weight=None, ax=None):\n",
    "    \"\"\"Plot observed and predicted - aggregated per feature level.\n",
    "    \n",
    "    Parameters\n",
    "    ----------\n",
    "    df : DataFrame with at least one column named feature\n",
    "    observed : str\n",
    "        a column name of the observed target\n",
    "    predicted : str\n",
    "        a column name of the predicted target\n",
    "    weight : str\n",
    "        column name with the values of weights/exposure\n",
    "    \"\"\"\n",
    "    df_plot = calc_obs_pred(df, feature, observed, predicted, weight)\n",
    "\n",
    "    ax = df_plot.loc[:, ['observed', 'predicted']].plot(style='.', ax=ax)\n",
    "    y_max = df_plot.loc[:, ['observed', 'predicted']].values.max()*0.8\n",
    "    ax.fill_between(df_plot.index, 0,\n",
    "                    y_max*df_plot[weight] / df_plot[weight].values.max(),\n",
    "                    color='g', alpha=0.1)\n",
    "    ax.set(ylabel=y_label if y_label is not None else None,\n",
    "           title=title if title is not None else 'Train: Observed vs Predicted')"
   ]
  },
  {
   "cell_type": "markdown",
   "metadata": {},
   "source": [
    "## 2. Load and Prepare Datasets from Openml.org\n",
    "'freMTPL2freq' (id=41214) is a dataset with policy id (IDpol), several features and number of claims (ClaimNb).\n",
    "<br>\n",
    "'freMTPL2sev' (id=41215) has only policy id (IDpol) and total claim amount (ClaimAmount).\n",
    "<br> http://dutangc.free.fr/pub/RRepos/web/CASdatasets-index.html"
   ]
  },
  {
   "cell_type": "code",
   "execution_count": 3,
   "metadata": {},
   "outputs": [],
   "source": [
    "def load_mtpl2():\n",
    "    \"\"\"Fetcher for the MTPL2 dataset\n",
    "    \n",
    "    Corresponding to French Motor Third-Party Liability Claims\n",
    "    \"\"\"\n",
    "\n",
    "    # Note: this should use the OpenML DataFrame fetcher in the future\n",
    "    df_freq = pd.read_csv(\n",
    "        \"https://www.openml.org/data/get_csv/20649148/freMTPL2freq.csv\",\n",
    "        dtype={'IDpol': np.int},\n",
    "        index_col=0\n",
    "    )\n",
    "\n",
    "    df_sev = pd.read_csv(\n",
    "        \"https://www.openml.org/data/get_csv/20649149/freMTPL2sev.arff\",\n",
    "        index_col=0\n",
    "    )\n",
    "    \n",
    "    # sum ClaimAmount over identical IDs\n",
    "    df_sev = df_sev.groupby(level=0).sum()\n",
    "\n",
    "    df = df_freq.join(df_sev, how='left')\n",
    "    df['ClaimAmount'].fillna(0, inplace=True)\n",
    "    \n",
    "    # unquote string fields\n",
    "    for column_name in df.columns[df.dtypes.values == np.object]:\n",
    "        df[column_name] = df[column_name].str.strip(\"'\") \n",
    "    return df"
   ]
  },
  {
   "cell_type": "code",
   "execution_count": 5,
   "metadata": {},
   "outputs": [],
   "source": [
    "df = load_mtpl2()"
   ]
  },
  {
   "cell_type": "code",
   "execution_count": 6,
   "metadata": {},
   "outputs": [],
   "source": [
    "# Note: claims with zero amount must be ignored in severity model \n",
    "# as support is (0, inf) not [0, inf).\n",
    "df.loc[(df.ClaimAmount == 0) & (df.ClaimNb >= 1), 'ClaimNb'] = 0"
   ]
  },
  {
   "cell_type": "code",
   "execution_count": 7,
   "metadata": {},
   "outputs": [
    {
     "data": {
      "text/html": [
       "<div>\n",
       "<style scoped>\n",
       "    .dataframe tbody tr th:only-of-type {\n",
       "        vertical-align: middle;\n",
       "    }\n",
       "\n",
       "    .dataframe tbody tr th {\n",
       "        vertical-align: top;\n",
       "    }\n",
       "\n",
       "    .dataframe thead th {\n",
       "        text-align: right;\n",
       "    }\n",
       "</style>\n",
       "<table border=\"1\" class=\"dataframe\">\n",
       "  <thead>\n",
       "    <tr style=\"text-align: right;\">\n",
       "      <th></th>\n",
       "      <th>ClaimNb</th>\n",
       "      <th>Exposure</th>\n",
       "      <th>Area</th>\n",
       "      <th>VehPower</th>\n",
       "      <th>VehAge</th>\n",
       "      <th>DrivAge</th>\n",
       "      <th>BonusMalus</th>\n",
       "      <th>VehBrand</th>\n",
       "      <th>VehGas</th>\n",
       "      <th>Density</th>\n",
       "      <th>Region</th>\n",
       "      <th>ClaimAmount</th>\n",
       "    </tr>\n",
       "    <tr>\n",
       "      <th>IDpol</th>\n",
       "      <th></th>\n",
       "      <th></th>\n",
       "      <th></th>\n",
       "      <th></th>\n",
       "      <th></th>\n",
       "      <th></th>\n",
       "      <th></th>\n",
       "      <th></th>\n",
       "      <th></th>\n",
       "      <th></th>\n",
       "      <th></th>\n",
       "      <th></th>\n",
       "    </tr>\n",
       "  </thead>\n",
       "  <tbody>\n",
       "    <tr>\n",
       "      <th>139</th>\n",
       "      <td>1</td>\n",
       "      <td>0.75</td>\n",
       "      <td>F</td>\n",
       "      <td>7</td>\n",
       "      <td>1</td>\n",
       "      <td>61</td>\n",
       "      <td>50</td>\n",
       "      <td>B12</td>\n",
       "      <td>Regular</td>\n",
       "      <td>27000</td>\n",
       "      <td>R11</td>\n",
       "      <td>303.00</td>\n",
       "    </tr>\n",
       "    <tr>\n",
       "      <th>190</th>\n",
       "      <td>1</td>\n",
       "      <td>0.14</td>\n",
       "      <td>B</td>\n",
       "      <td>12</td>\n",
       "      <td>5</td>\n",
       "      <td>50</td>\n",
       "      <td>60</td>\n",
       "      <td>B12</td>\n",
       "      <td>Diesel</td>\n",
       "      <td>56</td>\n",
       "      <td>R25</td>\n",
       "      <td>1981.84</td>\n",
       "    </tr>\n",
       "    <tr>\n",
       "      <th>414</th>\n",
       "      <td>1</td>\n",
       "      <td>0.14</td>\n",
       "      <td>E</td>\n",
       "      <td>4</td>\n",
       "      <td>0</td>\n",
       "      <td>36</td>\n",
       "      <td>85</td>\n",
       "      <td>B12</td>\n",
       "      <td>Regular</td>\n",
       "      <td>4792</td>\n",
       "      <td>R11</td>\n",
       "      <td>1456.55</td>\n",
       "    </tr>\n",
       "    <tr>\n",
       "      <th>424</th>\n",
       "      <td>2</td>\n",
       "      <td>0.62</td>\n",
       "      <td>F</td>\n",
       "      <td>10</td>\n",
       "      <td>0</td>\n",
       "      <td>51</td>\n",
       "      <td>100</td>\n",
       "      <td>B12</td>\n",
       "      <td>Regular</td>\n",
       "      <td>27000</td>\n",
       "      <td>R11</td>\n",
       "      <td>10834.00</td>\n",
       "    </tr>\n",
       "    <tr>\n",
       "      <th>463</th>\n",
       "      <td>1</td>\n",
       "      <td>0.31</td>\n",
       "      <td>A</td>\n",
       "      <td>5</td>\n",
       "      <td>0</td>\n",
       "      <td>45</td>\n",
       "      <td>50</td>\n",
       "      <td>B12</td>\n",
       "      <td>Regular</td>\n",
       "      <td>12</td>\n",
       "      <td>R73</td>\n",
       "      <td>3986.67</td>\n",
       "    </tr>\n",
       "  </tbody>\n",
       "</table>\n",
       "</div>"
      ],
      "text/plain": [
       "       ClaimNb  Exposure Area  VehPower  VehAge  DrivAge  BonusMalus VehBrand  \\\n",
       "IDpol                                                                           \n",
       "139          1      0.75    F         7       1       61          50      B12   \n",
       "190          1      0.14    B        12       5       50          60      B12   \n",
       "414          1      0.14    E         4       0       36          85      B12   \n",
       "424          2      0.62    F        10       0       51         100      B12   \n",
       "463          1      0.31    A         5       0       45          50      B12   \n",
       "\n",
       "        VehGas  Density Region  ClaimAmount  \n",
       "IDpol                                        \n",
       "139    Regular    27000    R11       303.00  \n",
       "190     Diesel       56    R25      1981.84  \n",
       "414    Regular     4792    R11      1456.55  \n",
       "424    Regular    27000    R11     10834.00  \n",
       "463    Regular       12    R73      3986.67  "
      ]
     },
     "execution_count": 7,
     "metadata": {},
     "output_type": "execute_result"
    }
   ],
   "source": [
    "df[df.ClaimAmount>0].head()"
   ]
  },
  {
   "cell_type": "code",
   "execution_count": 8,
   "metadata": {},
   "outputs": [
    {
     "data": {
      "text/html": [
       "<div>\n",
       "<style scoped>\n",
       "    .dataframe tbody tr th:only-of-type {\n",
       "        vertical-align: middle;\n",
       "    }\n",
       "\n",
       "    .dataframe tbody tr th {\n",
       "        vertical-align: top;\n",
       "    }\n",
       "\n",
       "    .dataframe thead th {\n",
       "        text-align: right;\n",
       "    }\n",
       "</style>\n",
       "<table border=\"1\" class=\"dataframe\">\n",
       "  <thead>\n",
       "    <tr style=\"text-align: right;\">\n",
       "      <th></th>\n",
       "      <th>ClaimNb</th>\n",
       "      <th>Exposure</th>\n",
       "      <th>VehPower</th>\n",
       "      <th>VehAge</th>\n",
       "      <th>DrivAge</th>\n",
       "      <th>BonusMalus</th>\n",
       "      <th>Density</th>\n",
       "      <th>ClaimAmount</th>\n",
       "    </tr>\n",
       "  </thead>\n",
       "  <tbody>\n",
       "    <tr>\n",
       "      <th>count</th>\n",
       "      <td>678013.000000</td>\n",
       "      <td>678013.000000</td>\n",
       "      <td>678013.000000</td>\n",
       "      <td>678013.000000</td>\n",
       "      <td>678013.000000</td>\n",
       "      <td>678013.000000</td>\n",
       "      <td>678013.000000</td>\n",
       "      <td>6.780130e+05</td>\n",
       "    </tr>\n",
       "    <tr>\n",
       "      <th>mean</th>\n",
       "      <td>0.039004</td>\n",
       "      <td>0.528750</td>\n",
       "      <td>6.454631</td>\n",
       "      <td>7.044265</td>\n",
       "      <td>45.499122</td>\n",
       "      <td>59.761502</td>\n",
       "      <td>1792.422405</td>\n",
       "      <td>8.835998e+01</td>\n",
       "    </tr>\n",
       "    <tr>\n",
       "      <th>std</th>\n",
       "      <td>0.207176</td>\n",
       "      <td>0.364442</td>\n",
       "      <td>2.050906</td>\n",
       "      <td>5.666232</td>\n",
       "      <td>14.137444</td>\n",
       "      <td>15.636658</td>\n",
       "      <td>3958.646564</td>\n",
       "      <td>5.822454e+03</td>\n",
       "    </tr>\n",
       "    <tr>\n",
       "      <th>min</th>\n",
       "      <td>0.000000</td>\n",
       "      <td>0.002732</td>\n",
       "      <td>4.000000</td>\n",
       "      <td>0.000000</td>\n",
       "      <td>18.000000</td>\n",
       "      <td>50.000000</td>\n",
       "      <td>1.000000</td>\n",
       "      <td>0.000000e+00</td>\n",
       "    </tr>\n",
       "    <tr>\n",
       "      <th>25%</th>\n",
       "      <td>0.000000</td>\n",
       "      <td>0.180000</td>\n",
       "      <td>5.000000</td>\n",
       "      <td>2.000000</td>\n",
       "      <td>34.000000</td>\n",
       "      <td>50.000000</td>\n",
       "      <td>92.000000</td>\n",
       "      <td>0.000000e+00</td>\n",
       "    </tr>\n",
       "    <tr>\n",
       "      <th>50%</th>\n",
       "      <td>0.000000</td>\n",
       "      <td>0.490000</td>\n",
       "      <td>6.000000</td>\n",
       "      <td>6.000000</td>\n",
       "      <td>44.000000</td>\n",
       "      <td>50.000000</td>\n",
       "      <td>393.000000</td>\n",
       "      <td>0.000000e+00</td>\n",
       "    </tr>\n",
       "    <tr>\n",
       "      <th>75%</th>\n",
       "      <td>0.000000</td>\n",
       "      <td>0.990000</td>\n",
       "      <td>7.000000</td>\n",
       "      <td>11.000000</td>\n",
       "      <td>55.000000</td>\n",
       "      <td>64.000000</td>\n",
       "      <td>1658.000000</td>\n",
       "      <td>0.000000e+00</td>\n",
       "    </tr>\n",
       "    <tr>\n",
       "      <th>max</th>\n",
       "      <td>16.000000</td>\n",
       "      <td>2.010000</td>\n",
       "      <td>15.000000</td>\n",
       "      <td>100.000000</td>\n",
       "      <td>100.000000</td>\n",
       "      <td>230.000000</td>\n",
       "      <td>27000.000000</td>\n",
       "      <td>4.075401e+06</td>\n",
       "    </tr>\n",
       "  </tbody>\n",
       "</table>\n",
       "</div>"
      ],
      "text/plain": [
       "             ClaimNb       Exposure       VehPower         VehAge  \\\n",
       "count  678013.000000  678013.000000  678013.000000  678013.000000   \n",
       "mean        0.039004       0.528750       6.454631       7.044265   \n",
       "std         0.207176       0.364442       2.050906       5.666232   \n",
       "min         0.000000       0.002732       4.000000       0.000000   \n",
       "25%         0.000000       0.180000       5.000000       2.000000   \n",
       "50%         0.000000       0.490000       6.000000       6.000000   \n",
       "75%         0.000000       0.990000       7.000000      11.000000   \n",
       "max        16.000000       2.010000      15.000000     100.000000   \n",
       "\n",
       "             DrivAge     BonusMalus        Density   ClaimAmount  \n",
       "count  678013.000000  678013.000000  678013.000000  6.780130e+05  \n",
       "mean       45.499122      59.761502    1792.422405  8.835998e+01  \n",
       "std        14.137444      15.636658    3958.646564  5.822454e+03  \n",
       "min        18.000000      50.000000       1.000000  0.000000e+00  \n",
       "25%        34.000000      50.000000      92.000000  0.000000e+00  \n",
       "50%        44.000000      50.000000     393.000000  0.000000e+00  \n",
       "75%        55.000000      64.000000    1658.000000  0.000000e+00  \n",
       "max       100.000000     230.000000   27000.000000  4.075401e+06  "
      ]
     },
     "execution_count": 8,
     "metadata": {},
     "output_type": "execute_result"
    }
   ],
   "source": [
    "df.describe()"
   ]
  },
  {
   "cell_type": "code",
   "execution_count": 9,
   "metadata": {},
   "outputs": [],
   "source": [
    "# correct for unreasonable observations (that might be data error)\n",
    "df['ClaimNb'].clip(upper=4, inplace=True)\n",
    "df['Exposure'].clip(upper=1, inplace=True)"
   ]
  },
  {
   "cell_type": "code",
   "execution_count": 10,
   "metadata": {},
   "outputs": [
    {
     "data": {
      "text/plain": [
       "count    678013.000000\n",
       "mean         59.761502\n",
       "std          15.636658\n",
       "min          50.000000\n",
       "25%          50.000000\n",
       "50%          50.000000\n",
       "75%          64.000000\n",
       "max         230.000000\n",
       "Name: BonusMalus, dtype: float64"
      ]
     },
     "execution_count": 10,
     "metadata": {},
     "output_type": "execute_result"
    }
   ],
   "source": [
    "df['BonusMalus'].describe()"
   ]
  },
  {
   "cell_type": "markdown",
   "metadata": {},
   "source": [
    "## 2. Feature Transformation Pipeline for GLMs"
   ]
  },
  {
   "cell_type": "code",
   "execution_count": 11,
   "metadata": {},
   "outputs": [
    {
     "name": "stdout",
     "output_type": "stream",
     "text": [
      "CPU times: user 2.94 s, sys: 80 ms, total: 3.02 s\n",
      "Wall time: 785 ms\n"
     ]
    }
   ],
   "source": [
    "%%time\n",
    "\n",
    "column_trans = ColumnTransformer(\n",
    "    [\n",
    "     ('Veh_Driv_Age', KBinsDiscretizer(n_bins=10), ['VehAge', 'DrivAge']),\n",
    "     ('Veh_Brand_Gas_Region', OneHotEncoder(), ['VehBrand', 'VehPower', 'VehGas', 'Region', 'Area']),\n",
    "     (\"BonusMalus\",  \"passthrough\", [\"BonusMalus\"]),\n",
    "     ('Density_log',\n",
    "          make_pipeline(FunctionTransformer(np.log, validate=False),\n",
    "                        StandardScaler()),\n",
    "      ['Density']),\n",
    "    ],\n",
    "    remainder = 'drop'\n",
    ")\n",
    "X = column_trans.fit_transform(df)"
   ]
  },
  {
   "cell_type": "markdown",
   "metadata": {},
   "source": [
    "## 3. Frequency model -- Poisson distribution\n",
    "From now on, we use claim number with positive claim amount `ClaimNb`."
   ]
  },
  {
   "cell_type": "code",
   "execution_count": 29,
   "metadata": {},
   "outputs": [
    {
     "name": "stdout",
     "output_type": "stream",
     "text": [
      "CPU times: user 7.05 s, sys: 441 ms, total: 7.49 s\n",
      "Wall time: 2.22 s\n"
     ]
    }
   ],
   "source": [
    "%%time\n",
    "\n",
    "df['Frequency'] = df.ClaimNb/df.Exposure\n",
    "df[\"AvgClaimAmount\"] = df.ClaimAmount / np.fmax(df.ClaimNb, 1)\n",
    "\n",
    "\n",
    "df_train, df_test, X_train, X_test = train_test_split(df, X, random_state=2)\n",
    "\n",
    "\n",
    "glm_freq = GeneralizedLinearRegressor(family='poisson', alpha=0)\n",
    "glm_freq.fit(X_train, df_train.Frequency, sample_weight=df_train.Exposure)"
   ]
  },
  {
   "cell_type": "code",
   "execution_count": 76,
   "metadata": {},
   "outputs": [
    {
     "data": {
      "text/html": [
       "<div>\n",
       "<style scoped>\n",
       "    .dataframe tbody tr th:only-of-type {\n",
       "        vertical-align: middle;\n",
       "    }\n",
       "\n",
       "    .dataframe tbody tr th {\n",
       "        vertical-align: top;\n",
       "    }\n",
       "\n",
       "    .dataframe thead th {\n",
       "        text-align: right;\n",
       "    }\n",
       "</style>\n",
       "<table border=\"1\" class=\"dataframe\">\n",
       "  <thead>\n",
       "    <tr style=\"text-align: right;\">\n",
       "      <th>subset</th>\n",
       "      <th>test</th>\n",
       "      <th>train</th>\n",
       "    </tr>\n",
       "    <tr>\n",
       "      <th>metric</th>\n",
       "      <th></th>\n",
       "      <th></th>\n",
       "    </tr>\n",
       "  </thead>\n",
       "  <tbody>\n",
       "    <tr>\n",
       "      <th>D² explained</th>\n",
       "      <td>0.041</td>\n",
       "      <td>0.045</td>\n",
       "    </tr>\n",
       "    <tr>\n",
       "      <th>MAE</th>\n",
       "      <td>0.137</td>\n",
       "      <td>0.139</td>\n",
       "    </tr>\n",
       "    <tr>\n",
       "      <th>R²</th>\n",
       "      <td>0.003</td>\n",
       "      <td>0.008</td>\n",
       "    </tr>\n",
       "    <tr>\n",
       "      <th>average deviance</th>\n",
       "      <td>0.238</td>\n",
       "      <td>0.243</td>\n",
       "    </tr>\n",
       "  </tbody>\n",
       "</table>\n",
       "</div>"
      ],
      "text/plain": [
       "subset             test  train\n",
       "metric                        \n",
       "D² explained      0.041  0.045\n",
       "MAE               0.137  0.139\n",
       "R²                0.003  0.008\n",
       "average deviance  0.238  0.243"
      ]
     },
     "execution_count": 76,
     "metadata": {},
     "output_type": "execute_result"
    }
   ],
   "source": [
    "from sklearn.metrics import mean_absolute_error, r2_score\n",
    "\n",
    "def score_estimator(estimator, target, weight, X_train, X_test, df_train, df_test):\n",
    "    res = []\n",
    "   \n",
    "    for subset_label, X, y, weights in [\n",
    "                ('train', X_train, df_train[target], df_train[weight]),\n",
    "                ('test', X_test, df_test[target], df_test[weight])]:\n",
    "        for score_label, metric in [\n",
    "           ('D² explained', None),\n",
    "           ('average deviance',\n",
    "               lambda y, y_pred, weights: estimator._family_instance.deviance(y, y_pred, weights) / len(y)),\n",
    "           ('MAE', mean_absolute_error),\n",
    "           ('R²', r2_score)\n",
    "    ]:\n",
    "            y_pred = estimator.predict(X)\n",
    "            if score_label == 'D² explained':\n",
    "                score = estimator.score(X, y, weights)\n",
    "            else:\n",
    "                \n",
    "                score = metric(y, y_pred, weights)\n",
    "            \n",
    "            res.append({\n",
    "                \"subset\": subset_label,\n",
    "                \"metric\": score_label,\n",
    "                \"score\": score\n",
    "            })\n",
    "    \n",
    "    res = (pd.DataFrame(res).set_index(['metric', 'subset'])\n",
    "                        .score\n",
    "                        .unstack(-1)\n",
    "                        .round(3))\n",
    "    return res\n",
    "\n",
    "score_estimator(glm_freq, \"Frequency\", \"Exposure\", X_train, X_test, df_train, df_test)"
   ]
  },
  {
   "cell_type": "code",
   "execution_count": 95,
   "metadata": {
    "scrolled": false
   },
   "outputs": [
    {
     "data": {
      "image/png": "[encoded data removed]",
      "text/plain": [
       "<Figure size 1152x576 with 4 Axes>"
      ]
     },
     "metadata": {
      "needs_background": "light"
     },
     "output_type": "display_data"
    }
   ],
   "source": [
    "df_plot_train, df_plot_test = df_train.copy(), df_test.copy()\n",
    "\n",
    "df_plot_train['Freq_Predicted'] = glm_freq.predict(X_train)\n",
    "df_plot_test['Freq_Predicted'] = glm_freq.predict(X_test)\n",
    "\n",
    "\n",
    "fig, ax = plt.subplots(2, 2, figsize=(16, 8))\n",
    "fig.subplots_adjust(hspace=0.3, wspace=0.2)\n",
    "\n",
    "\n",
    "# plot DivAge\n",
    "plot_obs_pred(df_plot_train, 'DrivAge', 'Frequency', 'Freq_Predicted', 'Exposure',\n",
    "              y_label='Claim Frequency', title='train data',\n",
    "              ax=ax[0, 0])\n",
    "\n",
    "plot_obs_pred(df_plot_test, 'DrivAge', 'Frequency', 'Freq_Predicted', 'Exposure',\n",
    "              y_label='Claim Frequency', title='test data',\n",
    "              ax=ax[0, 1])\n",
    "\n",
    "# plot VehAge\n",
    "plot_obs_pred(df_plot_train, 'VehAge', 'Frequency', 'Freq_Predicted', 'Exposure',\n",
    "              y_label='Claim Frequency', title='train data', ax=ax[1, 0])\n",
    "\n",
    "plot_obs_pred(df_plot_test, 'BonusMalus', 'Frequency', 'Freq_Predicted', 'Exposure',\n",
    "              y_label='Claim Frequency', title='test data', ax=ax[1, 1])\n",
    "\n",
    "fig.suptitle(\"Marginal dependency plot\");\n"
   ]
  },
  {
   "cell_type": "markdown",
   "metadata": {},
   "source": [
    "## 4. Severity GLM -  Gamma Distribution\n",
    "We fit a GLM model for the severity with the same features as the freq model.\n",
    "\n",
    "Note:\n",
    "- We filter out ClaimAmount == 0 as the Gamma distribution as support on $(0, \\infty)$ not $[0, \\infty)$\n",
    "- We use ClaimNb as sample weights.\n",
    "- We use the same split in train and test data such that we can predict the final claim amount on the test set."
   ]
  },
  {
   "cell_type": "code",
   "execution_count": 15,
   "metadata": {},
   "outputs": [
    {
     "data": {
      "text/plain": [
       "GeneralizedLinearRegressor(P1='identity', P2='identity', alpha=1,\n",
       "                           check_input=True, copy_X=True, diag_fisher=False,\n",
       "                           family='gamma', fit_dispersion=None,\n",
       "                           fit_intercept=True, l1_ratio=0, link='auto',\n",
       "                           max_iter=100, random_state=None, selection='cyclic',\n",
       "                           solver='auto', start_params='guess', tol=0.0001,\n",
       "                           verbose=0, warm_start=False)"
      ]
     },
     "execution_count": 15,
     "metadata": {},
     "output_type": "execute_result"
    }
   ],
   "source": [
    "mask_train = df_train['ClaimAmount'] > 0\n",
    "mask_test = df_test['ClaimAmount'] > 0\n",
    "\n",
    "glm_sev = GeneralizedLinearRegressor(family='gamma', alpha=1)\n",
    "\n",
    "glm_sev.fit(X_train[mask_train.values], df_train.loc[mask_train, 'AvgClaimAmount'],\n",
    "            sample_weight=df_train.loc[mask_train, 'ClaimNb'])"
   ]
  },
  {
   "cell_type": "code",
   "execution_count": 56,
   "metadata": {},
   "outputs": [
    {
     "data": {
      "text/html": [
       "<div>\n",
       "<style scoped>\n",
       "    .dataframe tbody tr th:only-of-type {\n",
       "        vertical-align: middle;\n",
       "    }\n",
       "\n",
       "    .dataframe tbody tr th {\n",
       "        vertical-align: top;\n",
       "    }\n",
       "\n",
       "    .dataframe thead th {\n",
       "        text-align: right;\n",
       "    }\n",
       "</style>\n",
       "<table border=\"1\" class=\"dataframe\">\n",
       "  <thead>\n",
       "    <tr style=\"text-align: right;\">\n",
       "      <th>subset</th>\n",
       "      <th>test</th>\n",
       "      <th>train</th>\n",
       "    </tr>\n",
       "    <tr>\n",
       "      <th>metric</th>\n",
       "      <th></th>\n",
       "      <th></th>\n",
       "    </tr>\n",
       "  </thead>\n",
       "  <tbody>\n",
       "    <tr>\n",
       "      <th>D² explained</th>\n",
       "      <td>0.015</td>\n",
       "      <td>0.058</td>\n",
       "    </tr>\n",
       "    <tr>\n",
       "      <th>MAE</th>\n",
       "      <td>2100.691</td>\n",
       "      <td>2315.521</td>\n",
       "    </tr>\n",
       "    <tr>\n",
       "      <th>R²</th>\n",
       "      <td>0.000</td>\n",
       "      <td>0.001</td>\n",
       "    </tr>\n",
       "    <tr>\n",
       "      <th>average deviance</th>\n",
       "      <td>1.637</td>\n",
       "      <td>1.743</td>\n",
       "    </tr>\n",
       "  </tbody>\n",
       "</table>\n",
       "</div>"
      ],
      "text/plain": [
       "subset                test     train\n",
       "metric                              \n",
       "D² explained         0.015     0.058\n",
       "MAE               2100.691  2315.521\n",
       "R²                   0.000     0.001\n",
       "average deviance     1.637     1.743"
      ]
     },
     "execution_count": 56,
     "metadata": {},
     "output_type": "execute_result"
    }
   ],
   "source": [
    "score_estimator(glm_sev, 'AvgClaimAmount', 'ClaimNb',\n",
    "                X_train[mask_train.values], X_test[mask_test.values],\n",
    "                df_train[mask_train], df_test[mask_test])"
   ]
  },
  {
   "cell_type": "code",
   "execution_count": 57,
   "metadata": {},
   "outputs": [
    {
     "data": {
      "text/plain": [
       "2.2785482990722215"
      ]
     },
     "execution_count": 57,
     "metadata": {},
     "output_type": "execute_result"
    }
   ],
   "source": [
    "df_train.AvgClaimAmount[df_train.AvgClaimAmount].mean()"
   ]
  },
  {
   "cell_type": "code",
   "execution_count": 58,
   "metadata": {},
   "outputs": [
    {
     "data": {
      "text/plain": [
       "2272.6940375132554"
      ]
     },
     "execution_count": 58,
     "metadata": {},
     "output_type": "execute_result"
    }
   ],
   "source": [
    "df_train.AvgClaimAmount[df_train.AvgClaimAmount > 0].mean()"
   ]
  },
  {
   "cell_type": "code",
   "execution_count": 59,
   "metadata": {},
   "outputs": [
    {
     "data": {
      "text/plain": [
       "2122.179025984535"
      ]
     },
     "execution_count": 59,
     "metadata": {},
     "output_type": "execute_result"
    }
   ],
   "source": [
    "glm_sev.predict(X_train[~mask_train.values]).mean()"
   ]
  },
  {
   "cell_type": "code",
   "execution_count": 71,
   "metadata": {},
   "outputs": [
    {
     "data": {
      "text/plain": [
       "0.038056571805792694"
      ]
     },
     "execution_count": 71,
     "metadata": {},
     "output_type": "execute_result"
    }
   ],
   "source": [
    "glm_freq.predict(X_train[~mask_train.values], sample_weight=df_train.Exposure[~mask_train]).mean()"
   ]
  },
  {
   "cell_type": "code",
   "execution_count": 69,
   "metadata": {},
   "outputs": [
    {
     "data": {
      "text/plain": [
       "0.0"
      ]
     },
     "execution_count": 69,
     "metadata": {},
     "output_type": "execute_result"
    }
   ],
   "source": [
    "df_train.loc[~mask_train, 'Frequency'].mean()"
   ]
  },
  {
   "cell_type": "code",
   "execution_count": 28,
   "metadata": {},
   "outputs": [
    {
     "data": {
      "image/png": "[encoded data removed]",
      "text/plain": [
       "<Figure size 1152x576 with 4 Axes>"
      ]
     },
     "metadata": {
      "needs_background": "light"
     },
     "output_type": "display_data"
    }
   ],
   "source": [
    "df_plot_train = df_train.copy()\n",
    "\n",
    "df_plot_train.loc[mask_train, 'AvgClaimAmount_pred'] = glm_sev.predict(X_train[mask_train.values])\n",
    "df_plot_test.loc[mask_test,'AvgClaimAmount_pred'] = glm_sev.predict(X_test[mask_test.values])\n",
    "\n",
    "\n",
    "fig, ax = plt.subplots(2, 2, figsize=(16, 8))\n",
    "fig.subplots_adjust(hspace=0.3, wspace=0.2)\n",
    "\n",
    "fig.suptitle(\"Marginal dependency plot\")\n",
    "\n",
    "# plot DivAge\n",
    "plot_obs_pred(df_plot_test.loc[mask_test],\n",
    "              'DrivAge', 'AvgClaimAmount', 'AvgClaimAmount_pred', 'Exposure',\n",
    "              y_label='Average Claim Severity', title='train data', ax=ax[0, 0])\n",
    "\n",
    "plot_obs_pred(df_plot_train.loc[mask_train],\n",
    "              'DrivAge', 'AvgClaimAmount', 'AvgClaimAmount_pred', 'Exposure',\n",
    "              y_label='Average Claim Severity', title='test data', ax=ax[0, 1])\n",
    "\n",
    "# plot VehAge\n",
    "plot_obs_pred(df_plot_train, 'VehAge', 'AvgClaimAmount', 'AvgClaimAmount_pred', 'Exposure',\n",
    "              y_label='Average Claim Severity', title='train data', ax=ax[1, 0])\n",
    "\n",
    "plot_obs_pred(df_plot_test, 'BonusMalus', 'AvgClaimAmount', 'AvgClaimAmount_pred', 'Exposure',\n",
    "              y_label='Average Claim Severity', title='test data', ax=ax[1, 1])"
   ]
  },
  {
   "cell_type": "markdown",
   "metadata": {},
   "source": [
    "## 5. Total loss - Compound Poisson\n",
    "\n",
    "The total loss (i.e. `ClaimAmount`) can be modeled as either the product of the frequency model (`glm_freq`) by the severity model (`glm_sev`), or as a compound Poisson distribution "
   ]
  },
  {
   "cell_type": "code",
   "execution_count": 111,
   "metadata": {},
   "outputs": [],
   "source": [
    "from sklearn.linear_model._glm import TweedieDistribution"
   ]
  },
  {
   "cell_type": "code",
   "execution_count": 113,
   "metadata": {},
   "outputs": [
    {
     "data": {
      "text/plain": [
       "GridSearchCV(cv=5, error_score=nan,\n",
       "             estimator=GeneralizedLinearRegressor(P1='identity', P2='identity',\n",
       "                                                  alpha=1.0, check_input=True,\n",
       "                                                  copy_X=True,\n",
       "                                                  diag_fisher=False,\n",
       "                                                  family='normal',\n",
       "                                                  fit_dispersion=None,\n",
       "                                                  fit_intercept=True,\n",
       "                                                  l1_ratio=0, link='auto',\n",
       "                                                  max_iter=100,\n",
       "                                                  random_state=None,\n",
       "                                                  selection='cyclic',\n",
       "                                                  solver='auto',\n",
       "                                                  start_params='guess',\n",
       "                                                  tol=0.0001, verbose=0,\n",
       "                                                  warm_start...\n",
       "                                    <sklearn.linear_model._glm.TweedieDistribution object at 0x7fb68f54ce80>,\n",
       "                                    <sklearn.linear_model._glm.TweedieDistribution object at 0x7fb68f54cf60>,\n",
       "                                    <sklearn.linear_model._glm.TweedieDistribution object at 0x7fb68f54c7b8>,\n",
       "                                    <sklearn.linear_model._glm.TweedieDistribution object at 0x7fb68f54c8d0>]},\n",
       "             pre_dispatch='2*n_jobs', refit=True, return_train_score=False,\n",
       "             scoring=None, verbose=0)"
      ]
     },
     "execution_count": 113,
     "metadata": {},
     "output_type": "execute_result"
    }
   ],
   "source": [
    "from sklearn.model_selection import GridSearchCV\n",
    "\n",
    "# this takes a while\n",
    "params = {'family': [TweedieDistribution(power=power)\n",
    "                     for power in np.linspace(1, 2, 20)]}\n",
    "\n",
    "glm_cv = GridSearchCV(GeneralizedLinearRegressor(), cv=5, param_grid=params, n_jobs=4)\n",
    "glm_cv.fit(X_train, df_train['ClaimAmount'],\n",
    "           sample_weight=df_train['Exposure'])"
   ]
  },
  {
   "cell_type": "code",
   "execution_count": 115,
   "metadata": {},
   "outputs": [
    {
     "data": {
      "text/plain": [
       "1.368421052631579"
      ]
     },
     "execution_count": 115,
     "metadata": {},
     "output_type": "execute_result"
    }
   ],
   "source": [
    "glm_cv.best_estimator_.family.power"
   ]
  },
  {
   "cell_type": "code",
   "execution_count": 116,
   "metadata": {},
   "outputs": [
    {
     "data": {
      "text/plain": [
       "GeneralizedLinearRegressor(P1='identity', P2='identity', alpha=1.0,\n",
       "                           check_input=True, copy_X=True, diag_fisher=False,\n",
       "                           family=<sklearn.linear_model._glm.TweedieDistribution object at 0x7fb68f6a6b38>,\n",
       "                           fit_dispersion=None, fit_intercept=True, l1_ratio=0,\n",
       "                           link='auto', max_iter=100, random_state=None,\n",
       "                           selection='cyclic', solver='auto',\n",
       "                           start_params='guess', tol=0.0001, verbose=0,\n",
       "                           warm_start=False)"
      ]
     },
     "execution_count": 116,
     "metadata": {},
     "output_type": "execute_result"
    }
   ],
   "source": [
    "family = TweedieDistribution(power=1.37)\n",
    "\n",
    "glm_total = GeneralizedLinearRegressor(family=family)\n",
    "\n",
    "glm_total.fit(X_train, df_train['ClaimAmount'],\n",
    "            sample_weight=df_train['Exposure'])"
   ]
  },
  {
   "cell_type": "code",
   "execution_count": 117,
   "metadata": {},
   "outputs": [
    {
     "data": {
      "text/html": [
       "<div>\n",
       "<style scoped>\n",
       "    .dataframe tbody tr th:only-of-type {\n",
       "        vertical-align: middle;\n",
       "    }\n",
       "\n",
       "    .dataframe tbody tr th {\n",
       "        vertical-align: top;\n",
       "    }\n",
       "\n",
       "    .dataframe thead th {\n",
       "        text-align: right;\n",
       "    }\n",
       "</style>\n",
       "<table border=\"1\" class=\"dataframe\">\n",
       "  <thead>\n",
       "    <tr style=\"text-align: right;\">\n",
       "      <th>subset</th>\n",
       "      <th>test</th>\n",
       "      <th>train</th>\n",
       "    </tr>\n",
       "    <tr>\n",
       "      <th>metric</th>\n",
       "      <th></th>\n",
       "      <th></th>\n",
       "    </tr>\n",
       "  </thead>\n",
       "  <tbody>\n",
       "    <tr>\n",
       "      <th>D² explained</th>\n",
       "      <td>0.044</td>\n",
       "      <td>0.073</td>\n",
       "    </tr>\n",
       "    <tr>\n",
       "      <th>MAE</th>\n",
       "      <td>175.596</td>\n",
       "      <td>185.163</td>\n",
       "    </tr>\n",
       "    <tr>\n",
       "      <th>R²</th>\n",
       "      <td>-0.000</td>\n",
       "      <td>0.000</td>\n",
       "    </tr>\n",
       "    <tr>\n",
       "      <th>average deviance</th>\n",
       "      <td>54.429</td>\n",
       "      <td>56.885</td>\n",
       "    </tr>\n",
       "  </tbody>\n",
       "</table>\n",
       "</div>"
      ],
      "text/plain": [
       "subset               test    train\n",
       "metric                            \n",
       "D² explained        0.044    0.073\n",
       "MAE               175.596  185.163\n",
       "R²                 -0.000    0.000\n",
       "average deviance   54.429   56.885"
      ]
     },
     "execution_count": 117,
     "metadata": {},
     "output_type": "execute_result"
    }
   ],
   "source": [
    "score_estimator(glm_total, 'ClaimAmount', 'Exposure',\n",
    "                X_train, X_test, df_train, df_test)"
   ]
  },
  {
   "cell_type": "code",
   "execution_count": 119,
   "metadata": {},
   "outputs": [
    {
     "name": "stdout",
     "output_type": "stream",
     "text": [
      "Total claim amount on train set, observed = 46355171, pred (freq*sev) = 45235715, pred (tweedie) = 53066135\n",
      "Total claim amount on test set, observed = 13554045, pred (freq*sev) = 15159626, pred (tweedie) = 17738888\n"
     ]
    }
   ],
   "source": [
    "\n",
    "for label, X, df in [('train', X_train, df_train),\n",
    "                     ('test', X_test, df_test)]:\n",
    "    print(\"Total claim amount on {} set, observed = {:.0f}, pred (freq*sev) = {:.0f}, pred (tweedie) = {:.0f}\".\n",
    "         format(\n",
    "             label,\n",
    "             df['ClaimAmount'].values.sum(),\n",
    "             np.sum(df['Exposure'].values * glm_freq.predict(X) * glm_sev.predict(X)),\n",
    "             np.sum(glm_total.predict(X))\n",
    "     ))"
   ]
  }
 ],
 "metadata": {
  "kernelspec": {
   "display_name": "Python 3",
   "language": "python",
   "name": "python3"
  },
  "language_info": {
   "codemirror_mode": {
    "name": "ipython",
    "version": 3
   },
   "file_extension": ".py",
   "mimetype": "text/x-python",
   "name": "python",
   "nbconvert_exporter": "python",
   "pygments_lexer": "ipython3",
   "version": "3.7.3"
  }
 },
 "nbformat": 4,
 "nbformat_minor": 2
}
