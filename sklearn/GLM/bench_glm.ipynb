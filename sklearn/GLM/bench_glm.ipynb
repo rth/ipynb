{
 "cells": [
  {
   "cell_type": "markdown",
   "metadata": {},
   "source": [
    "# GLM run time benchmarks\n",
    "\n",
    "Benchmarks for the GeneralizedLinearRegressor added in [scikit-learn#9405](https://github.com/scikit-learn/scikit-learn/pull/9405).\n",
    "\n",
    "The below results are obtained on an Intel(R) Xeon(R) CPU E3-1270 v6 @ 3.80GHz  (4 CPU cores)\n",
    "\n",
    "## Conclusions\n",
    "\n",
    "We start by presenting conclusions. For more details and figures, see benchmarks below.\n",
    "\n",
    "### Dense data\n",
    "\n",
    "**Solver comparison**\n",
    "\n",
    "Comparing different solvers for `family=\"normal\"`\n",
    " - in the case `n_features << n_samples`, `solver=\"irls\"` appears to be the fastest overall for `n_features < 20`. For larger number of features, `\"lbfgs\"` is preferable.\n",
    " - in the case `n_features > n_samples` both `cd` and `irls` behave poorly. In general `cd` is slowest particularly when the number of features is large. \n",
    "\n",
    "Empirically, I didn't see significant difference in the runtime between `family=\"normal\", link=\"identity\"` and `family=\"poisson\", link=\"poisson\"` (or `family=\"binomial\", link=\"logit\"`), so some of these and following conclusions can probably be generalized.\n",
    "\n",
    "\n",
    "**Comparing with existing scikit-learn models with `family=\"normal\"`**\n",
    "\n",
    "This are preliminary results, and all parameters need to be double-checked again that\n",
    "tolerances and the number or iterators are identical. The equivalence on the obtained solution is checked in test, but again it may need more checks.\n",
    "\n",
    " - `Ridge` and `GeneralLinearRegressor` don't have identical solvers, but FWIW using the \"cholesky\" and \"lbfgs\" respectively, overall `Ridge` is 2-3x faster.\n",
    " - Interestingly this implementation with `cd` solver and `l1_ratio=0.5` appears to be faster than `ElasticNet` by 2-3x. Again more checks are needed to make sure that the comparison is valid.\n",
    " - GLS with `family=\"binomial\", loss=\"logit\"` 1-1.3x slower than LogisticRegression when both use `solver=\"lbfgs\"`. Interestingly, with `solver=\"irls\"` this implementation can be faster if\n",
    " `n_features` is small.\n",
    "\n",
    "### Sparse data\n",
    "\n",
    "Here, the results are less competitive. I think some of the intermediary\n",
    "arrays must be cast t dense, even with relatively small datasets (subset of\n",
    "RCV1: ~40k features, a few 10k-100k samples). I have run into memory error\n",
    "with all solvers (on a 32GB RAM machine), and by reducing the data size the\n",
    "computations are still relatively slow. It might be preferable to say that\n",
    "some solvers don't support sparse arrays, rather than yielding memory errors."
   ]
  },
  {
   "cell_type": "code",
   "execution_count": 1,
   "metadata": {},
   "outputs": [],
   "source": [
    "import numpy as np\n",
    "import pandas as pd\n",
    "import sklearn\n",
    "\n",
    "%matplotlib inline\n",
    "import matplotlib.pyplot as plt\n",
    "\n",
    "from sklearn.model_selection import train_test_split\n",
    "from sklearn.linear_model import GeneralizedLinearRegressor\n",
    "from sklearn.datasets import make_regression, make_classification\n",
    "from sklearn.preprocessing import StandardScaler\n",
    "from sklearn.datasets import fetch_rcv1\n",
    "\n",
    "from neurtu import delayed, timeit, Benchmark"
   ]
  },
  {
   "cell_type": "markdown",
   "metadata": {},
   "source": [
    "## 1. Solver comparison\n",
    "\n",
    "In this benchmark we use synthetic data created with [make_regression](https://scikit-learn.org/stable/modules/generated/sklearn.datasets.make_regression.html)"
   ]
  },
  {
   "cell_type": "code",
   "execution_count": 2,
   "metadata": {},
   "outputs": [],
   "source": [
    "def make_solver_benchmark(\n",
    "    n_features=50,\n",
    "    ax=None,\n",
    "    n_samples_range=np.linspace(1000, 100_000, 5, dtype=np.int),\n",
    "    task=\"regression\",\n",
    "    repeat=1,\n",
    "    sparse=False,\n",
    "    metric_name=\"wall_time\",\n",
    "    **kwargs,\n",
    "):\n",
    "    \"\"\"Benchmark different solvers of GeneralizedLinearRegressor\"\"\"\n",
    "\n",
    "    dataset_kwargs = dict(\n",
    "        n_samples=n_samples_range.max(),\n",
    "        n_features=n_features,\n",
    "        n_informative=n_features // 5,\n",
    "    )\n",
    "    if task == \"regression\":\n",
    "        if sparse:\n",
    "            rcv1 = fetch_rcv1()\n",
    "            _, y = make_regression(n_samples=n_samples_range.max(), random_state=42)\n",
    "            if (\n",
    "                rcv1.data.shape[0] < n_samples_range.max()\n",
    "                or rcv1.data.shape[1] < n_features\n",
    "            ):\n",
    "                raise ValueError\n",
    "            X = rcv1.data\n",
    "        else:\n",
    "            if sparse:\n",
    "                raise NotImplementedError\n",
    "            X, y = make_regression(\n",
    "                effective_rank=n_features // 5, tail_strength=0.6, **dataset_kwargs\n",
    "            )\n",
    "\n",
    "        y += abs(y.min())\n",
    "    elif task == \"classification\":\n",
    "        X, y = make_classification(n_classes=2, **dataset_kwargs)\n",
    "    else:\n",
    "        raise ValueError\n",
    "    if not sparse:\n",
    "        X = StandardScaler().fit_transform(X)\n",
    "\n",
    "    # make sure the target is positive\n",
    "\n",
    "    if n_samples_range.max() > 10000:\n",
    "        n_samples_scale = 1000\n",
    "    else:\n",
    "        n_samples_scale = 1\n",
    "\n",
    "    bench = []\n",
    "\n",
    "    if not sparse:\n",
    "        solver_list = [\"irls\", \"lbfgs\", \"newton-cg\", \"cd\"]\n",
    "    else:\n",
    "        solver_list = [\"lbfgs\", \"newton-cg\", \"cd\"]\n",
    "    for n_samples in n_samples_range:\n",
    "        for solver in solver_list:\n",
    "            model = GeneralizedLinearRegressor(solver=solver, **kwargs)\n",
    "            bench.append(\n",
    "                delayed(\n",
    "                    model,\n",
    "                    tags={\"n_samples\": n_samples / n_samples_scale, \"solver\": solver},\n",
    "                ).fit(X[:n_samples, :n_features], y[:n_samples])\n",
    "            )\n",
    "    res = Benchmark(repeat=repeat, **{metric_name: True})(bench)\n",
    "    if repeat > 1:\n",
    "        res = res.loc[:, (metric_name, \"mean\")].unstack(-1)\n",
    "    else:\n",
    "        res = res.loc[:, metric_name].unstack(-1)\n",
    "    ax = res.plot(marker=\"o\", ax=ax)\n",
    "    ax.set(\n",
    "        title=f\"n_features={n_features}\",\n",
    "        xlim=(0, n_samples_range.max() / n_samples_scale),\n",
    "    )\n",
    "    if metric_name == \"wall_time\":\n",
    "        ax.set(ylabel=\"wall time (s)\")\n",
    "    elif metric_name == \"peak_memory\":\n",
    "        ax.set(ylabel=\"peak memory (MB)\")\n",
    "    if n_samples_scale > 1:\n",
    "        ax.set(xlabel=\"n_samples (10³)\")\n",
    "    else:\n",
    "        ax.set(xlabel=\"n_samples\")"
   ]
  },
  {
   "cell_type": "markdown",
   "metadata": {},
   "source": [
    "### 1.1. Dense n_samples>>n_features, alpha=1, family=\"normal\", link=\"identity\"\n",
    "\n",
    "#### 1.1.1 Run time"
   ]
  },
  {
   "cell_type": "code",
   "execution_count": 238,
   "metadata": {},
   "outputs": [
    {
     "data": {
      "application/vnd.jupyter.widget-view+json": {
       "model_id": "",
       "version_major": 2,
       "version_minor": 0
      },
      "text/plain": [
       "HBox(children=(IntProgress(value=0, max=20), HTML(value='')))"
      ]
     },
     "metadata": {},
     "output_type": "display_data"
    },
    {
     "data": {
      "application/vnd.jupyter.widget-view+json": {
       "model_id": "",
       "version_major": 2,
       "version_minor": 0
      },
      "text/plain": [
       "HBox(children=(IntProgress(value=0, max=20), HTML(value='')))"
      ]
     },
     "metadata": {},
     "output_type": "display_data"
    },
    {
     "data": {
      "application/vnd.jupyter.widget-view+json": {
       "model_id": "",
       "version_major": 2,
       "version_minor": 0
      },
      "text/plain": [
       "HBox(children=(IntProgress(value=0, max=20), HTML(value='')))"
      ]
     },
     "metadata": {},
     "output_type": "display_data"
    },
    {
     "name": "stdout",
     "output_type": "stream",
     "text": [
      "CPU times: user 6min, sys: 13.6 s, total: 6min 13s\n",
      "Wall time: 1min 40s\n"
     ]
    },
    {
     "data": {
      "image/png": "[encoded data removed]",
      "text/plain": [
       "<Figure size 864x288 with 3 Axes>"
      ]
     },
     "metadata": {
      "needs_background": "light"
     },
     "output_type": "display_data"
    }
   ],
   "source": [
    "%%time\n",
    "\n",
    "fig, ax = plt.subplots(1, 3, figsize=(12, 4))\n",
    "\n",
    "kwargs = {}\n",
    "\n",
    "make_solver_benchmark(n_features=10, ax=ax[0])\n",
    "make_solver_benchmark(n_features=100, ax=ax[1])\n",
    "make_solver_benchmark(n_features=1000, ax=ax[2])\n",
    "\n",
    "with sklearn.config_context(print_changed_only=True):\n",
    "    fig.suptitle(\n",
    "        str(GeneralizedLinearRegressor(**kwargs))\n",
    "        + \" dense benchmark on make_regression() data\"\n",
    "    )"
   ]
  },
  {
   "cell_type": "markdown",
   "metadata": {},
   "source": [
    "### 1.1.2 Memory usage"
   ]
  },
  {
   "cell_type": "code",
   "execution_count": 246,
   "metadata": {},
   "outputs": [
    {
     "data": {
      "application/vnd.jupyter.widget-view+json": {
       "model_id": "",
       "version_major": 2,
       "version_minor": 0
      },
      "text/plain": [
       "HBox(children=(IntProgress(value=0, max=20), HTML(value='')))"
      ]
     },
     "metadata": {},
     "output_type": "display_data"
    },
    {
     "data": {
      "application/vnd.jupyter.widget-view+json": {
       "model_id": "",
       "version_major": 2,
       "version_minor": 0
      },
      "text/plain": [
       "HBox(children=(IntProgress(value=0, max=20), HTML(value='')))"
      ]
     },
     "metadata": {},
     "output_type": "display_data"
    },
    {
     "data": {
      "application/vnd.jupyter.widget-view+json": {
       "model_id": "",
       "version_major": 2,
       "version_minor": 0
      },
      "text/plain": [
       "HBox(children=(IntProgress(value=0, max=20), HTML(value='')))"
      ]
     },
     "metadata": {},
     "output_type": "display_data"
    },
    {
     "name": "stdout",
     "output_type": "stream",
     "text": [
      "CPU times: user 5min 49s, sys: 20.1 s, total: 6min 9s\n",
      "Wall time: 1min 40s\n"
     ]
    },
    {
     "data": {
      "image/png": "[encoded data removed]",
      "text/plain": [
       "<Figure size 864x288 with 3 Axes>"
      ]
     },
     "metadata": {
      "needs_background": "light"
     },
     "output_type": "display_data"
    }
   ],
   "source": [
    "%%time\n",
    "\n",
    "fig, ax = plt.subplots(1, 3, figsize=(12, 4))\n",
    "\n",
    "kwargs = {\"metric_name\": \"peak_memory\"}\n",
    "\n",
    "make_solver_benchmark(n_features=10, ax=ax[0], **kwargs)\n",
    "make_solver_benchmark(n_features=100, ax=ax[1], **kwargs)\n",
    "make_solver_benchmark(n_features=1000, ax=ax[2], **kwargs)\n",
    "\n",
    "with sklearn.config_context(print_changed_only=True):\n",
    "    fig.suptitle(\n",
    "        str(GeneralizedLinearRegressor())\n",
    "        + \" dense benchmark on make_regression() data\"\n",
    "    )"
   ]
  },
  {
   "cell_type": "markdown",
   "metadata": {},
   "source": [
    "### 1.2. Dense n_samples<n_features, alpha=1, family=\"normal\", link=\"identity\""
   ]
  },
  {
   "cell_type": "code",
   "execution_count": 61,
   "metadata": {},
   "outputs": [
    {
     "data": {
      "application/vnd.jupyter.widget-view+json": {
       "model_id": "",
       "version_major": 2,
       "version_minor": 0
      },
      "text/plain": [
       "HBox(children=(IntProgress(value=0, max=20), HTML(value='')))"
      ]
     },
     "metadata": {},
     "output_type": "display_data"
    },
    {
     "name": "stderr",
     "output_type": "stream",
     "text": [
      "/home/rth/src/scikit-learn/sklearn/linear_model/_glm.py:1388: ConvergenceWarning: Coordinate descent failed to converge. Increase the maximum number of iterations max_iter (currently 100)\n",
      "  \" (currently {0})\".format(max_iter), ConvergenceWarning)\n",
      "/home/rth/src/scikit-learn/sklearn/linear_model/_glm.py:1388: ConvergenceWarning: Coordinate descent failed to converge. Increase the maximum number of iterations max_iter (currently 100)\n",
      "  \" (currently {0})\".format(max_iter), ConvergenceWarning)\n"
     ]
    },
    {
     "data": {
      "application/vnd.jupyter.widget-view+json": {
       "model_id": "",
       "version_major": 2,
       "version_minor": 0
      },
      "text/plain": [
       "HBox(children=(IntProgress(value=0, max=20), HTML(value='')))"
      ]
     },
     "metadata": {},
     "output_type": "display_data"
    },
    {
     "name": "stderr",
     "output_type": "stream",
     "text": [
      "/home/rth/src/scikit-learn/sklearn/linear_model/_glm.py:1388: ConvergenceWarning: Coordinate descent failed to converge. Increase the maximum number of iterations max_iter (currently 100)\n",
      "  \" (currently {0})\".format(max_iter), ConvergenceWarning)\n",
      "/home/rth/src/scikit-learn/sklearn/linear_model/_glm.py:1388: ConvergenceWarning: Coordinate descent failed to converge. Increase the maximum number of iterations max_iter (currently 100)\n",
      "  \" (currently {0})\".format(max_iter), ConvergenceWarning)\n",
      "/home/rth/src/scikit-learn/sklearn/linear_model/_glm.py:1388: ConvergenceWarning: Coordinate descent failed to converge. Increase the maximum number of iterations max_iter (currently 100)\n",
      "  \" (currently {0})\".format(max_iter), ConvergenceWarning)\n",
      "/home/rth/src/scikit-learn/sklearn/linear_model/_glm.py:1388: ConvergenceWarning: Coordinate descent failed to converge. Increase the maximum number of iterations max_iter (currently 100)\n",
      "  \" (currently {0})\".format(max_iter), ConvergenceWarning)\n"
     ]
    },
    {
     "data": {
      "application/vnd.jupyter.widget-view+json": {
       "model_id": "",
       "version_major": 2,
       "version_minor": 0
      },
      "text/plain": [
       "HBox(children=(IntProgress(value=0, max=20), HTML(value='')))"
      ]
     },
     "metadata": {},
     "output_type": "display_data"
    },
    {
     "name": "stderr",
     "output_type": "stream",
     "text": [
      "/home/rth/src/scikit-learn/sklearn/linear_model/_glm.py:1388: ConvergenceWarning: Coordinate descent failed to converge. Increase the maximum number of iterations max_iter (currently 100)\n",
      "  \" (currently {0})\".format(max_iter), ConvergenceWarning)\n",
      "/home/rth/src/scikit-learn/sklearn/linear_model/_glm.py:1388: ConvergenceWarning: Coordinate descent failed to converge. Increase the maximum number of iterations max_iter (currently 100)\n",
      "  \" (currently {0})\".format(max_iter), ConvergenceWarning)\n",
      "/home/rth/src/scikit-learn/sklearn/linear_model/_glm.py:1388: ConvergenceWarning: Coordinate descent failed to converge. Increase the maximum number of iterations max_iter (currently 100)\n",
      "  \" (currently {0})\".format(max_iter), ConvergenceWarning)\n",
      "/home/rth/src/scikit-learn/sklearn/linear_model/_glm.py:1388: ConvergenceWarning: Coordinate descent failed to converge. Increase the maximum number of iterations max_iter (currently 100)\n",
      "  \" (currently {0})\".format(max_iter), ConvergenceWarning)\n",
      "/home/rth/src/scikit-learn/sklearn/linear_model/_glm.py:1388: ConvergenceWarning: Coordinate descent failed to converge. Increase the maximum number of iterations max_iter (currently 100)\n",
      "  \" (currently {0})\".format(max_iter), ConvergenceWarning)\n"
     ]
    },
    {
     "name": "stdout",
     "output_type": "stream",
     "text": [
      "CPU times: user 18min 17s, sys: 48.2 s, total: 19min 5s\n",
      "Wall time: 4min 46s\n"
     ]
    },
    {
     "data": {
      "image/png": "[encoded data removed]",
      "text/plain": [
       "<Figure size 864x288 with 3 Axes>"
      ]
     },
     "metadata": {
      "needs_background": "light"
     },
     "output_type": "display_data"
    }
   ],
   "source": [
    "%%time\n",
    "\n",
    "fig, ax = plt.subplots(1, 3, figsize=(12, 4))\n",
    "\n",
    "kwargs = {}\n",
    "\n",
    "n_samples_range = np.linspace(40, 200, 5, dtype=np.int)\n",
    "\n",
    "make_solver_benchmark(n_features=1000, n_samples_range=n_samples_range, ax=ax[0])\n",
    "make_solver_benchmark(n_features=2000, n_samples_range=n_samples_range, ax=ax[1])\n",
    "make_solver_benchmark(n_features=4000, n_samples_range=n_samples_range, ax=ax[2])\n",
    "\n",
    "with sklearn.config_context(print_changed_only=True):\n",
    "    fig.suptitle(\n",
    "        str(GeneralizedLinearRegressor(**kwargs))\n",
    "        + \" on make_regression() data\"\n",
    "    )"
   ]
  },
  {
   "cell_type": "markdown",
   "metadata": {},
   "source": [
    "### 1.3. Dense, n_samples>>n_features, family=\"poisson\", link=\"log\"\n",
    "\n",
    "The target doesn't follow the appropriate distribution, this merely intends to compare run time. The results are fairly similar to the case family=\"normal\", link=\"identity\""
   ]
  },
  {
   "cell_type": "code",
   "execution_count": 53,
   "metadata": {},
   "outputs": [
    {
     "data": {
      "application/vnd.jupyter.widget-view+json": {
       "model_id": "",
       "version_major": 2,
       "version_minor": 0
      },
      "text/plain": [
       "HBox(children=(IntProgress(value=0, max=20), HTML(value='')))"
      ]
     },
     "metadata": {},
     "output_type": "display_data"
    },
    {
     "data": {
      "application/vnd.jupyter.widget-view+json": {
       "model_id": "",
       "version_major": 2,
       "version_minor": 0
      },
      "text/plain": [
       "HBox(children=(IntProgress(value=0, max=20), HTML(value='')))"
      ]
     },
     "metadata": {},
     "output_type": "display_data"
    },
    {
     "data": {
      "application/vnd.jupyter.widget-view+json": {
       "model_id": "",
       "version_major": 2,
       "version_minor": 0
      },
      "text/plain": [
       "HBox(children=(IntProgress(value=0, max=20), HTML(value='')))"
      ]
     },
     "metadata": {},
     "output_type": "display_data"
    },
    {
     "name": "stdout",
     "output_type": "stream",
     "text": [
      "CPU times: user 4min 45s, sys: 12.9 s, total: 4min 58s\n",
      "Wall time: 1min 21s\n"
     ]
    },
    {
     "data": {
      "image/png": "[encoded data removed]",
      "text/plain": [
       "<Figure size 864x288 with 3 Axes>"
      ]
     },
     "metadata": {
      "needs_background": "light"
     },
     "output_type": "display_data"
    }
   ],
   "source": [
    "%%time\n",
    "\n",
    "fig, ax = plt.subplots(1, 3, figsize=(12, 4))\n",
    "\n",
    "kwargs = {\"family\": \"poisson\", \"link\": \"log\"}\n",
    "\n",
    "make_regression_benchmark(n_features=10, ax=ax[0])\n",
    "make_regression_benchmark(n_features=100, ax=ax[1])\n",
    "make_regression_benchmark(n_features=1000, ax=ax[2])\n",
    "\n",
    "with sklearn.config_context(print_changed_only=True):\n",
    "    fig.suptitle(\n",
    "        str(GeneralizedLinearRegressor(**kwargs))\n",
    "        + \" on make_regression() data\"\n",
    "    )"
   ]
  },
  {
   "cell_type": "markdown",
   "metadata": {},
   "source": [
    "### 1.4. Dense, n_samples>>n_features, family=\"binomial\" (i.e. LogisticRegression)"
   ]
  },
  {
   "cell_type": "code",
   "execution_count": 178,
   "metadata": {},
   "outputs": [
    {
     "data": {
      "application/vnd.jupyter.widget-view+json": {
       "model_id": "",
       "version_major": 2,
       "version_minor": 0
      },
      "text/plain": [
       "HBox(children=(IntProgress(value=0, max=20), HTML(value='')))"
      ]
     },
     "metadata": {},
     "output_type": "display_data"
    },
    {
     "data": {
      "application/vnd.jupyter.widget-view+json": {
       "model_id": "",
       "version_major": 2,
       "version_minor": 0
      },
      "text/plain": [
       "HBox(children=(IntProgress(value=0, max=20), HTML(value='')))"
      ]
     },
     "metadata": {},
     "output_type": "display_data"
    },
    {
     "data": {
      "application/vnd.jupyter.widget-view+json": {
       "model_id": "",
       "version_major": 2,
       "version_minor": 0
      },
      "text/plain": [
       "HBox(children=(IntProgress(value=0, max=20), HTML(value='')))"
      ]
     },
     "metadata": {},
     "output_type": "display_data"
    },
    {
     "name": "stdout",
     "output_type": "stream",
     "text": [
      "CPU times: user 4min 6s, sys: 11.1 s, total: 4min 17s\n",
      "Wall time: 1min 9s\n"
     ]
    },
    {
     "data": {
      "image/png": "[encoded data removed]",
      "text/plain": [
       "<Figure size 864x288 with 3 Axes>"
      ]
     },
     "metadata": {
      "needs_background": "light"
     },
     "output_type": "display_data"
    }
   ],
   "source": [
    "%%time\n",
    "\n",
    "fig, ax = plt.subplots(1, 3, figsize=(12, 4))\n",
    "\n",
    "kwargs = dict(family=\"binomial\", task=\"classification\")\n",
    "\n",
    "make_solver_benchmark(n_features=10, ax=ax[0], **kwargs)\n",
    "make_solver_benchmark(n_features=100, ax=ax[1], **kwargs)\n",
    "make_solver_benchmark(n_features=1000, ax=ax[2], **kwargs)\n",
    "\n",
    "glm_kwargs = {key: val for key, val in kwargs.items()\n",
    "              if key not in ['task', 'repeat']}\n",
    "\n",
    "with sklearn.config_context(print_changed_only=True):\n",
    "    fig.suptitle(\n",
    "        str(GeneralizedLinearRegressor(**glm_kwargs))\n",
    "        + \" on make_classification() data\"\n",
    "    )"
   ]
  },
  {
   "cell_type": "markdown",
   "metadata": {},
   "source": [
    "### 1.5. Sparse, n_samples>>n_features, family=\"normal\"\n",
    "\n",
    "#### 1.5.1 Run time"
   ]
  },
  {
   "cell_type": "code",
   "execution_count": 210,
   "metadata": {},
   "outputs": [
    {
     "data": {
      "application/vnd.jupyter.widget-view+json": {
       "model_id": "",
       "version_major": 2,
       "version_minor": 0
      },
      "text/plain": [
       "HBox(children=(IntProgress(value=0, max=15), HTML(value='')))"
      ]
     },
     "metadata": {},
     "output_type": "display_data"
    },
    {
     "data": {
      "application/vnd.jupyter.widget-view+json": {
       "model_id": "",
       "version_major": 2,
       "version_minor": 0
      },
      "text/plain": [
       "HBox(children=(IntProgress(value=0, max=15), HTML(value='')))"
      ]
     },
     "metadata": {},
     "output_type": "display_data"
    },
    {
     "name": "stdout",
     "output_type": "stream",
     "text": [
      "CPU times: user 6min 14s, sys: 1min 31s, total: 7min 46s\n",
      "Wall time: 6min 44s\n"
     ]
    },
    {
     "data": {
      "image/png": "[encoded data removed]",
      "text/plain": [
       "<Figure size 864x288 with 3 Axes>"
      ]
     },
     "metadata": {
      "needs_background": "light"
     },
     "output_type": "display_data"
    }
   ],
   "source": [
    "%%time\n",
    "\n",
    "fig, ax = plt.subplots(1, 3, figsize=(12, 4))\n",
    "\n",
    "kwargs = dict(sparse=True)\n",
    "\n",
    "make_solver_benchmark(n_features=10000, ax=ax[0], **kwargs)\n",
    "make_solver_benchmark(n_features=20000, ax=ax[1], **kwargs)\n",
    "#make_solver_benchmark(n_features=47000, ax=ax[2], **kwargs)\n",
    "\n",
    "glm_kwargs = {key: val for key, val in kwargs.items()\n",
    "              if key not in ['task', 'repeat', 'sparse']}\n",
    "\n",
    "with sklearn.config_context(print_changed_only=True):\n",
    "    fig.suptitle(\n",
    "        str(GeneralizedLinearRegressor(**glm_kwargs))\n",
    "        + \" dense benchmark on make_regression() data\"\n",
    "    )"
   ]
  },
  {
   "cell_type": "markdown",
   "metadata": {},
   "source": [
    "#### 1.5.1 Memory usage"
   ]
  },
  {
   "cell_type": "code",
   "execution_count": 245,
   "metadata": {},
   "outputs": [
    {
     "data": {
      "application/vnd.jupyter.widget-view+json": {
       "model_id": "",
       "version_major": 2,
       "version_minor": 0
      },
      "text/plain": [
       "HBox(children=(IntProgress(value=0, max=15), HTML(value='')))"
      ]
     },
     "metadata": {},
     "output_type": "display_data"
    },
    {
     "data": {
      "application/vnd.jupyter.widget-view+json": {
       "model_id": "",
       "version_major": 2,
       "version_minor": 0
      },
      "text/plain": [
       "HBox(children=(IntProgress(value=0, max=15), HTML(value='')))"
      ]
     },
     "metadata": {},
     "output_type": "display_data"
    },
    {
     "data": {
      "image/png": "[encoded data removed]",
      "text/plain": [
       "<Figure size 576x288 with 2 Axes>"
      ]
     },
     "metadata": {
      "needs_background": "light"
     },
     "output_type": "display_data"
    }
   ],
   "source": [
    "#%%time\n",
    "\n",
    "# Note: this takes a while\n",
    "\n",
    "fig, ax = plt.subplots(1, 2, figsize=(8, 4))\n",
    "\n",
    "kwargs = dict(sparse=True, metric_name=\"peak_memory\")\n",
    "\n",
    "make_solver_benchmark(n_features=5000, ax=ax[0], **kwargs)\n",
    "make_solver_benchmark(n_features=10000, ax=ax[1], **kwargs)\n",
    "\n",
    "glm_kwargs = {\n",
    "    key: val\n",
    "    for key, val in kwargs.items()\n",
    "    if key not in [\"task\", \"repeat\", \"sparse\", \"metric_name\"]\n",
    "}\n",
    "\n",
    "with sklearn.config_context(print_changed_only=True):\n",
    "    fig.suptitle(\n",
    "        str(GeneralizedLinearRegressor(**glm_kwargs))\n",
    "        + \" dense benchmark on make_regression() data\"\n",
    "    )"
   ]
  },
  {
   "cell_type": "markdown",
   "metadata": {},
   "source": [
    "## 2. Comparison with existing scikit-learn models"
   ]
  },
  {
   "cell_type": "code",
   "execution_count": 12,
   "metadata": {},
   "outputs": [],
   "source": [
    "from matplotlib.ticker import EngFormatter\n",
    "from sklearn.metrics import mean_absolute_error, accuracy_score\n",
    "\n",
    "\n",
    "def bench_estimators_relative(\n",
    "    estimator,\n",
    "    estimator_ref,\n",
    "    n_features_range=np.array([2, 10, 50, 200, 1000]),\n",
    "    n_samples_range=np.array([1000, 4000, 10_000, 40_000, 100_000, 400_000]),\n",
    "    str_repr=True,\n",
    "    repeat=1,\n",
    "    task=\"regression\",\n",
    "    sparse=False,\n",
    "    metric=\"wall_time\",\n",
    "):\n",
    "\n",
    "    n_features_range = n_features_range.round().astype(np.int)\n",
    "    n_samples_range = n_samples_range.round().astype(np.int)\n",
    "\n",
    "    dataset_kwargs = dict(\n",
    "        n_samples=n_samples_range.max(),\n",
    "        n_features=n_features_range.max(),\n",
    "        n_informative=n_features_range.max() // 5,\n",
    "    )\n",
    "    if task == \"regression\":\n",
    "        if sparse:\n",
    "            rcv1 = fetch_rcv1()\n",
    "            _, y = make_regression(n_samples=n_samples_range.max(), random_state=42)\n",
    "            if (\n",
    "                rcv1.data.shape[0] < n_samples_range.max()\n",
    "                or rcv1.data.shape[1] < n_features\n",
    "            ):\n",
    "                raise ValueError\n",
    "            X = rcv1.data\n",
    "        else:\n",
    "            X, y = make_regression(\n",
    "                effective_rank=n_features_range.max() // 5,\n",
    "                tail_strength=0.6,\n",
    "                **dataset_kwargs,\n",
    "            )\n",
    "    elif task == \"classification\":\n",
    "        X, y = make_classification(n_classes=2, **dataset_kwargs)\n",
    "    else:\n",
    "        raise ValueError\n",
    "\n",
    "    X = StandardScaler().fit_transform(X)\n",
    "\n",
    "    bench = []\n",
    "    if metric == \"intercept_coef_err\":\n",
    "        from tqdm.auto import tqdm\n",
    "\n",
    "        n_samples_range_iter = tqdm(n_samples_range, leave=False)\n",
    "    else:\n",
    "        n_samples_range_iter = n_samples_range\n",
    "\n",
    "    for n_samples in n_samples_range_iter:\n",
    "        for n_features in n_features_range:\n",
    "            if metric == \"intercept_coef_err\":\n",
    "                estimator_ref.fit(X[:n_samples, :n_features], y[:n_samples])\n",
    "                estimator.fit(X[:n_samples, :n_features], y[:n_samples])\n",
    "                intercept_err = np.mean(\n",
    "                    np.abs(\n",
    "                        (estimator.intercept_ - estimator_ref.intercept_)\n",
    "                        / estimator_ref.intercept_\n",
    "                    )\n",
    "                )\n",
    "                mask = estimator_ref.coef_ >= 1e-9\n",
    "                coef_err = np.mean(\n",
    "                    np.abs(\n",
    "                        (estimator.coef_ - estimator_ref.coef_)[mask]\n",
    "                        / estimator_ref.coef_[mask]\n",
    "                    )\n",
    "                )\n",
    "\n",
    "                bench.append(\n",
    "                    {\n",
    "                        \"n_samples\": n_samples,\n",
    "                        \"n_features\": n_features,\n",
    "                        \"err\": f\"{intercept_err:.1e} | {coef_err:.1e}\",\n",
    "                    }\n",
    "                )\n",
    "            elif metric == \"train_test_err\":\n",
    "                X_train, X_test, y_train, y_test = train_test_split(\n",
    "                    X[:n_samples, :n_features], y[:n_samples], random_state=42\n",
    "                )\n",
    "                estimator_ref.fit(X_train, y_train)\n",
    "                estimator.fit(X_test, y_test)\n",
    "                if task == \"regression\":\n",
    "                    evaluation_score = mean_absolute_error\n",
    "                elif task == \"classification\":\n",
    "                    evaluation_score = accuracy_score\n",
    "                else:\n",
    "                    raise ValueError\n",
    "\n",
    "                train_score_ref = mean_absolute_error(\n",
    "                    y_train, estimator_ref.predict(X_train)\n",
    "                )\n",
    "                train_score = mean_absolute_error(y_train, estimator.predict(X_train))\n",
    "                test_score_ref = mean_absolute_error(\n",
    "                    y_test, estimator_ref.predict(X_test)\n",
    "                )\n",
    "                test_score = mean_absolute_error(y_test, estimator.predict(X_test))\n",
    "\n",
    "                bench.append(\n",
    "                    {\n",
    "                        \"n_samples\": n_samples,\n",
    "                        \"n_features\": n_features,\n",
    "                        \"err\": f\"ref: {train_score_ref:.3f} | {test_score_ref:.3f} - \"\n",
    "                        f\"GLM: {train_score:.3f} | {test_score_ref:.3f}\",\n",
    "                    }\n",
    "                )\n",
    "\n",
    "            else:\n",
    "                for model in [estimator, estimator_ref]:\n",
    "                    with sklearn.config_context(print_changed_only=True):\n",
    "                        tags = {\n",
    "                            \"n_samples\": n_samples,\n",
    "                            \"n_features\": n_features,\n",
    "                            \"model\": str(model),\n",
    "                        }\n",
    "                    bench.append(\n",
    "                        delayed(model, tags=tags).fit(\n",
    "                            X[:n_samples, :n_features], y[:n_samples]\n",
    "                        )\n",
    "                    )\n",
    "    if metric in [\"intercept_coef_err\", \"train_test_err\"]:\n",
    "        return (\n",
    "            pd.DataFrame(bench).set_index([\"n_samples\", \"n_features\"]).err.unstack(-1)\n",
    "        )\n",
    "    else:\n",
    "        if repeat > 1:\n",
    "            res = timeit(bench, repeat=3).loc[:, (\"wall_time\", \"mean\")].unstack(-1)\n",
    "        else:\n",
    "            res = timeit(bench).wall_time.unstack(-1)\n",
    "        ratio = (res.iloc[:, 1] / res.iloc[:, 0]).unstack(-1).round(1)\n",
    "        ref_t = res.iloc[:, 1].unstack(-1)\n",
    "        if str_repr:\n",
    "            fmt = EngFormatter(unit=\"s\", places=0)\n",
    "            return (\n",
    "                \"x\" + ratio.astype(str) + \" (\" + ref_t.applymap(fmt.format_data) + \")\"\n",
    "            )\n",
    "        return ratio, ref_t"
   ]
  },
  {
   "cell_type": "markdown",
   "metadata": {},
   "source": [
    "### 2.1 Comparison with Ridge, dense, default solver\n",
    "\n",
    "The below table includes\n",
    " - The speed factor (`xN`): i.e. how many times the GLM regressor is faster than Ridge.In this case it's always slower. Default solvers are used: \"irls\" for GLM and \"cholesky\" for `Ridge`. \n",
    " - Baseline run time: the run time for the reference estimator (here `Ridge`)."
   ]
  },
  {
   "cell_type": "code",
   "execution_count": 151,
   "metadata": {
    "scrolled": true
   },
   "outputs": [
    {
     "data": {
      "application/vnd.jupyter.widget-view+json": {
       "model_id": "",
       "version_major": 2,
       "version_minor": 0
      },
      "text/plain": [
       "HBox(children=(IntProgress(value=0, max=60), HTML(value='')))"
      ]
     },
     "metadata": {},
     "output_type": "display_data"
    },
    {
     "data": {
      "text/html": [
       "<div>\n",
       "<style scoped>\n",
       "    .dataframe tbody tr th:only-of-type {\n",
       "        vertical-align: middle;\n",
       "    }\n",
       "\n",
       "    .dataframe tbody tr th {\n",
       "        vertical-align: top;\n",
       "    }\n",
       "\n",
       "    .dataframe thead th {\n",
       "        text-align: right;\n",
       "    }\n",
       "</style>\n",
       "<table border=\"1\" class=\"dataframe\">\n",
       "  <thead>\n",
       "    <tr style=\"text-align: right;\">\n",
       "      <th>n_features</th>\n",
       "      <th>2</th>\n",
       "      <th>10</th>\n",
       "      <th>50</th>\n",
       "      <th>200</th>\n",
       "      <th>1000</th>\n",
       "    </tr>\n",
       "    <tr>\n",
       "      <th>n_samples</th>\n",
       "      <th></th>\n",
       "      <th></th>\n",
       "      <th></th>\n",
       "      <th></th>\n",
       "      <th></th>\n",
       "    </tr>\n",
       "  </thead>\n",
       "  <tbody>\n",
       "    <tr>\n",
       "      <th>1000</th>\n",
       "      <td>x0.6 (350 µs)</td>\n",
       "      <td>x0.6 (385 µs)</td>\n",
       "      <td>x0.4 (539 µs)</td>\n",
       "      <td>x0.2 (1 ms)</td>\n",
       "      <td>x0.1 (19 ms)</td>\n",
       "    </tr>\n",
       "    <tr>\n",
       "      <th>4000</th>\n",
       "      <td>x0.5 (498 µs)</td>\n",
       "      <td>x0.6 (602 µs)</td>\n",
       "      <td>x0.5 (1 ms)</td>\n",
       "      <td>x0.4 (6 ms)</td>\n",
       "      <td>x0.2 (45 ms)</td>\n",
       "    </tr>\n",
       "    <tr>\n",
       "      <th>10000</th>\n",
       "      <td>x0.5 (802 µs)</td>\n",
       "      <td>x0.6 (1 ms)</td>\n",
       "      <td>x0.7 (4 ms)</td>\n",
       "      <td>x0.5 (14 ms)</td>\n",
       "      <td>x0.2 (101 ms)</td>\n",
       "    </tr>\n",
       "    <tr>\n",
       "      <th>40000</th>\n",
       "      <td>x0.5 (3 ms)</td>\n",
       "      <td>x0.7 (5 ms)</td>\n",
       "      <td>x0.7 (14 ms)</td>\n",
       "      <td>x0.5 (68 ms)</td>\n",
       "      <td>x0.3 (370 ms)</td>\n",
       "    </tr>\n",
       "    <tr>\n",
       "      <th>100000</th>\n",
       "      <td>x0.7 (10 ms)</td>\n",
       "      <td>x0.8 (14 ms)</td>\n",
       "      <td>x0.5 (36 ms)</td>\n",
       "      <td>x0.5 (168 ms)</td>\n",
       "      <td>x0.3 (908 ms)</td>\n",
       "    </tr>\n",
       "    <tr>\n",
       "      <th>400000</th>\n",
       "      <td>x0.7 (41 ms)</td>\n",
       "      <td>x0.6 (60 ms)</td>\n",
       "      <td>x0.6 (182 ms)</td>\n",
       "      <td>x0.5 (649 ms)</td>\n",
       "      <td>x0.3 (4 s)</td>\n",
       "    </tr>\n",
       "  </tbody>\n",
       "</table>\n",
       "</div>"
      ],
      "text/plain": [
       "n_features           2              10             50             200   \\\n",
       "n_samples                                                                \n",
       "1000        x0.6 (350 µs)  x0.6 (385 µs)  x0.4 (539 µs)    x0.2 (1 ms)   \n",
       "4000        x0.5 (498 µs)  x0.6 (602 µs)    x0.5 (1 ms)    x0.4 (6 ms)   \n",
       "10000       x0.5 (802 µs)    x0.6 (1 ms)    x0.7 (4 ms)   x0.5 (14 ms)   \n",
       "40000         x0.5 (3 ms)    x0.7 (5 ms)   x0.7 (14 ms)   x0.5 (68 ms)   \n",
       "100000       x0.7 (10 ms)   x0.8 (14 ms)   x0.5 (36 ms)  x0.5 (168 ms)   \n",
       "400000       x0.7 (41 ms)   x0.6 (60 ms)  x0.6 (182 ms)  x0.5 (649 ms)   \n",
       "\n",
       "n_features           1000  \n",
       "n_samples                  \n",
       "1000         x0.1 (19 ms)  \n",
       "4000         x0.2 (45 ms)  \n",
       "10000       x0.2 (101 ms)  \n",
       "40000       x0.3 (370 ms)  \n",
       "100000      x0.3 (908 ms)  \n",
       "400000         x0.3 (4 s)  "
      ]
     },
     "metadata": {},
     "output_type": "display_data"
    },
    {
     "name": "stdout",
     "output_type": "stream",
     "text": [
      "CPU times: user 9min 51s, sys: 28.6 s, total: 10min 20s\n",
      "Wall time: 3min 7s\n"
     ]
    }
   ],
   "source": [
    "%%time\n",
    "\n",
    "from sklearn.linear_model import Ridge\n",
    "\n",
    "res = bench_estimators_relative(\n",
    "    GeneralizedLinearRegressor(), estimator_ref=Ridge(), repeat=3\n",
    ")\n",
    "display(res)"
   ]
  },
  {
   "cell_type": "markdown",
   "metadata": {},
   "source": [
    "We can also look at the relative error for `intercept_` | `coef_` between the the reference and the GLM implementation"
   ]
  },
  {
   "cell_type": "code",
   "execution_count": 265,
   "metadata": {},
   "outputs": [
    {
     "data": {
      "application/vnd.jupyter.widget-view+json": {
       "model_id": "",
       "version_major": 2,
       "version_minor": 0
      },
      "text/plain": [
       "HBox(children=(IntProgress(value=0, max=6), HTML(value='')))"
      ]
     },
     "metadata": {},
     "output_type": "display_data"
    },
    {
     "data": {
      "text/html": [
       "<div>\n",
       "<style scoped>\n",
       "    .dataframe tbody tr th:only-of-type {\n",
       "        vertical-align: middle;\n",
       "    }\n",
       "\n",
       "    .dataframe tbody tr th {\n",
       "        vertical-align: top;\n",
       "    }\n",
       "\n",
       "    .dataframe thead th {\n",
       "        text-align: right;\n",
       "    }\n",
       "</style>\n",
       "<table border=\"1\" class=\"dataframe\">\n",
       "  <thead>\n",
       "    <tr style=\"text-align: right;\">\n",
       "      <th>n_features</th>\n",
       "      <th>2</th>\n",
       "      <th>10</th>\n",
       "      <th>50</th>\n",
       "      <th>200</th>\n",
       "      <th>1000</th>\n",
       "    </tr>\n",
       "    <tr>\n",
       "      <th>n_samples</th>\n",
       "      <th></th>\n",
       "      <th></th>\n",
       "      <th></th>\n",
       "      <th></th>\n",
       "      <th></th>\n",
       "    </tr>\n",
       "  </thead>\n",
       "  <tbody>\n",
       "    <tr>\n",
       "      <th>1000</th>\n",
       "      <td>4.9e-01 | 5.0e-01</td>\n",
       "      <td>6.6e-01 | 4.1e+00</td>\n",
       "      <td>5.4e-02 | 6.9e-01</td>\n",
       "      <td>3.5e-01 | 8.3e-01</td>\n",
       "      <td>1.8e+00 | 9.4e+00</td>\n",
       "    </tr>\n",
       "    <tr>\n",
       "      <th>4000</th>\n",
       "      <td>6.5e-02 | 5.2e-01</td>\n",
       "      <td>2.9e-01 | 5.3e-01</td>\n",
       "      <td>5.1e-01 | 5.1e-01</td>\n",
       "      <td>5.7e-01 | 7.2e-01</td>\n",
       "      <td>4.2e-01 | 1.3e+03</td>\n",
       "    </tr>\n",
       "    <tr>\n",
       "      <th>10000</th>\n",
       "      <td>1.1e-02 | 5.3e-01</td>\n",
       "      <td>4.6e-02 | 5.3e-01</td>\n",
       "      <td>4.5e-02 | 6.3e-01</td>\n",
       "      <td>3.8e-02 | 7.3e-01</td>\n",
       "      <td>1.3e+00 | 2.3e+03</td>\n",
       "    </tr>\n",
       "    <tr>\n",
       "      <th>40000</th>\n",
       "      <td>1.7e-01 | 5.1e-01</td>\n",
       "      <td>7.6e-02 | 5.4e-01</td>\n",
       "      <td>4.2e+01 | 7.9e-01</td>\n",
       "      <td>7.4e-01 | 7.2e-01</td>\n",
       "      <td>5.1e-01 | 6.0e+04</td>\n",
       "    </tr>\n",
       "    <tr>\n",
       "      <th>100000</th>\n",
       "      <td>2.0e-02 | 5.1e-01</td>\n",
       "      <td>3.2e-02 | 6.3e-01</td>\n",
       "      <td>1.4e-01 | 5.2e-01</td>\n",
       "      <td>1.9e-01 | 5.7e-01</td>\n",
       "      <td>4.6e-01 | 3.4e+04</td>\n",
       "    </tr>\n",
       "    <tr>\n",
       "      <th>400000</th>\n",
       "      <td>4.2e-15 | 5.1e-01</td>\n",
       "      <td>9.0e-15 | 6.1e-01</td>\n",
       "      <td>1.2e-14 | 5.9e-01</td>\n",
       "      <td>3.7e-14 | 7.2e-01</td>\n",
       "      <td>6.9e-15 | 1.3e+05</td>\n",
       "    </tr>\n",
       "  </tbody>\n",
       "</table>\n",
       "</div>"
      ],
      "text/plain": [
       "n_features               2                  10                 50    \\\n",
       "n_samples                                                             \n",
       "1000        4.9e-01 | 5.0e-01  6.6e-01 | 4.1e+00  5.4e-02 | 6.9e-01   \n",
       "4000        6.5e-02 | 5.2e-01  2.9e-01 | 5.3e-01  5.1e-01 | 5.1e-01   \n",
       "10000       1.1e-02 | 5.3e-01  4.6e-02 | 5.3e-01  4.5e-02 | 6.3e-01   \n",
       "40000       1.7e-01 | 5.1e-01  7.6e-02 | 5.4e-01  4.2e+01 | 7.9e-01   \n",
       "100000      2.0e-02 | 5.1e-01  3.2e-02 | 6.3e-01  1.4e-01 | 5.2e-01   \n",
       "400000      4.2e-15 | 5.1e-01  9.0e-15 | 6.1e-01  1.2e-14 | 5.9e-01   \n",
       "\n",
       "n_features               200                1000  \n",
       "n_samples                                         \n",
       "1000        3.5e-01 | 8.3e-01  1.8e+00 | 9.4e+00  \n",
       "4000        5.7e-01 | 7.2e-01  4.2e-01 | 1.3e+03  \n",
       "10000       3.8e-02 | 7.3e-01  1.3e+00 | 2.3e+03  \n",
       "40000       7.4e-01 | 7.2e-01  5.1e-01 | 6.0e+04  \n",
       "100000      1.9e-01 | 5.7e-01  4.6e-01 | 3.4e+04  \n",
       "400000      3.7e-14 | 7.2e-01  6.9e-15 | 1.3e+05  "
      ]
     },
     "metadata": {},
     "output_type": "display_data"
    }
   ],
   "source": [
    "from sklearn.linear_model import Ridge\n",
    "\n",
    "res = bench_estimators_relative(\n",
    "    GeneralizedLinearRegressor(), estimator_ref=Ridge(),\n",
    "    metric=\"intercept_coef_err\"\n",
    ")\n",
    "display(res)"
   ]
  },
  {
   "cell_type": "markdown",
   "metadata": {},
   "source": [
    "New let's look at the Mean Average Error (MAE) for the reference implementation and the GLM implementation. The table below includes train and test MAE in both cases,"
   ]
  },
  {
   "cell_type": "code",
   "execution_count": 8,
   "metadata": {},
   "outputs": [
    {
     "data": {
      "text/html": [
       "<div>\n",
       "<style scoped>\n",
       "    .dataframe tbody tr th:only-of-type {\n",
       "        vertical-align: middle;\n",
       "    }\n",
       "\n",
       "    .dataframe tbody tr th {\n",
       "        vertical-align: top;\n",
       "    }\n",
       "\n",
       "    .dataframe thead th {\n",
       "        text-align: right;\n",
       "    }\n",
       "</style>\n",
       "<table border=\"1\" class=\"dataframe\">\n",
       "  <thead>\n",
       "    <tr style=\"text-align: right;\">\n",
       "      <th>n_features</th>\n",
       "      <th>2</th>\n",
       "      <th>10</th>\n",
       "      <th>50</th>\n",
       "      <th>200</th>\n",
       "      <th>1000</th>\n",
       "    </tr>\n",
       "    <tr>\n",
       "      <th>n_samples</th>\n",
       "      <th></th>\n",
       "      <th></th>\n",
       "      <th></th>\n",
       "      <th></th>\n",
       "      <th></th>\n",
       "    </tr>\n",
       "  </thead>\n",
       "  <tbody>\n",
       "    <tr>\n",
       "      <th>1000</th>\n",
       "      <td>ref: 0.609 | 0.576 - GLM: 0.623 | 0.576</td>\n",
       "      <td>ref: 0.597 | 0.573 - GLM: 0.617 | 0.573</td>\n",
       "      <td>ref: 0.576 | 0.541 - GLM: 0.607 | 0.541</td>\n",
       "      <td>ref: 0.461 | 0.574 - GLM: 0.590 | 0.574</td>\n",
       "      <td>ref: 0.001 | 0.253 - GLM: 0.510 | 0.253</td>\n",
       "    </tr>\n",
       "    <tr>\n",
       "      <th>4000</th>\n",
       "      <td>ref: 0.600 | 0.588 - GLM: 0.600 | 0.588</td>\n",
       "      <td>ref: 0.594 | 0.585 - GLM: 0.599 | 0.585</td>\n",
       "      <td>ref: 0.576 | 0.579 - GLM: 0.592 | 0.579</td>\n",
       "      <td>ref: 0.506 | 0.538 - GLM: 0.558 | 0.538</td>\n",
       "      <td>ref: 0.000 | 0.000 - GLM: 0.369 | 0.000</td>\n",
       "    </tr>\n",
       "    <tr>\n",
       "      <th>10000</th>\n",
       "      <td>ref: 0.588 | 0.594 - GLM: 0.589 | 0.594</td>\n",
       "      <td>ref: 0.584 | 0.591 - GLM: 0.586 | 0.591</td>\n",
       "      <td>ref: 0.570 | 0.579 - GLM: 0.577 | 0.579</td>\n",
       "      <td>ref: 0.503 | 0.521 - GLM: 0.537 | 0.521</td>\n",
       "      <td>ref: 0.000 | 0.000 - GLM: 0.309 | 0.000</td>\n",
       "    </tr>\n",
       "    <tr>\n",
       "      <th>40000</th>\n",
       "      <td>ref: 0.586 | 0.586 - GLM: 0.586 | 0.586</td>\n",
       "      <td>ref: 0.584 | 0.583 - GLM: 0.584 | 0.583</td>\n",
       "      <td>ref: 0.572 | 0.572 - GLM: 0.576 | 0.572</td>\n",
       "      <td>ref: 0.509 | 0.515 - GLM: 0.531 | 0.515</td>\n",
       "      <td>ref: 0.000 | 0.000 - GLM: 0.287 | 0.000</td>\n",
       "    </tr>\n",
       "    <tr>\n",
       "      <th>100000</th>\n",
       "      <td>ref: 0.586 | 0.589 - GLM: 0.587 | 0.589</td>\n",
       "      <td>ref: 0.584 | 0.587 - GLM: 0.585 | 0.587</td>\n",
       "      <td>ref: 0.572 | 0.574 - GLM: 0.576 | 0.574</td>\n",
       "      <td>ref: 0.510 | 0.513 - GLM: 0.530 | 0.513</td>\n",
       "      <td>ref: 0.000 | 0.000 - GLM: 0.284 | 0.000</td>\n",
       "    </tr>\n",
       "    <tr>\n",
       "      <th>400000</th>\n",
       "      <td>ref: 0.585 | 0.584 - GLM: 0.585 | 0.584</td>\n",
       "      <td>ref: 0.583 | 0.581 - GLM: 0.583 | 0.581</td>\n",
       "      <td>ref: 0.570 | 0.570 - GLM: 0.574 | 0.570</td>\n",
       "      <td>ref: 0.508 | 0.508 - GLM: 0.528 | 0.508</td>\n",
       "      <td>ref: 0.000 | 0.000 - GLM: 0.282 | 0.000</td>\n",
       "    </tr>\n",
       "  </tbody>\n",
       "</table>\n",
       "</div>"
      ],
      "text/plain": [
       "n_features                                     2     \\\n",
       "n_samples                                             \n",
       "1000        ref: 0.609 | 0.576 - GLM: 0.623 | 0.576   \n",
       "4000        ref: 0.600 | 0.588 - GLM: 0.600 | 0.588   \n",
       "10000       ref: 0.588 | 0.594 - GLM: 0.589 | 0.594   \n",
       "40000       ref: 0.586 | 0.586 - GLM: 0.586 | 0.586   \n",
       "100000      ref: 0.586 | 0.589 - GLM: 0.587 | 0.589   \n",
       "400000      ref: 0.585 | 0.584 - GLM: 0.585 | 0.584   \n",
       "\n",
       "n_features                                     10    \\\n",
       "n_samples                                             \n",
       "1000        ref: 0.597 | 0.573 - GLM: 0.617 | 0.573   \n",
       "4000        ref: 0.594 | 0.585 - GLM: 0.599 | 0.585   \n",
       "10000       ref: 0.584 | 0.591 - GLM: 0.586 | 0.591   \n",
       "40000       ref: 0.584 | 0.583 - GLM: 0.584 | 0.583   \n",
       "100000      ref: 0.584 | 0.587 - GLM: 0.585 | 0.587   \n",
       "400000      ref: 0.583 | 0.581 - GLM: 0.583 | 0.581   \n",
       "\n",
       "n_features                                     50    \\\n",
       "n_samples                                             \n",
       "1000        ref: 0.576 | 0.541 - GLM: 0.607 | 0.541   \n",
       "4000        ref: 0.576 | 0.579 - GLM: 0.592 | 0.579   \n",
       "10000       ref: 0.570 | 0.579 - GLM: 0.577 | 0.579   \n",
       "40000       ref: 0.572 | 0.572 - GLM: 0.576 | 0.572   \n",
       "100000      ref: 0.572 | 0.574 - GLM: 0.576 | 0.574   \n",
       "400000      ref: 0.570 | 0.570 - GLM: 0.574 | 0.570   \n",
       "\n",
       "n_features                                     200   \\\n",
       "n_samples                                             \n",
       "1000        ref: 0.461 | 0.574 - GLM: 0.590 | 0.574   \n",
       "4000        ref: 0.506 | 0.538 - GLM: 0.558 | 0.538   \n",
       "10000       ref: 0.503 | 0.521 - GLM: 0.537 | 0.521   \n",
       "40000       ref: 0.509 | 0.515 - GLM: 0.531 | 0.515   \n",
       "100000      ref: 0.510 | 0.513 - GLM: 0.530 | 0.513   \n",
       "400000      ref: 0.508 | 0.508 - GLM: 0.528 | 0.508   \n",
       "\n",
       "n_features                                     1000  \n",
       "n_samples                                            \n",
       "1000        ref: 0.001 | 0.253 - GLM: 0.510 | 0.253  \n",
       "4000        ref: 0.000 | 0.000 - GLM: 0.369 | 0.000  \n",
       "10000       ref: 0.000 | 0.000 - GLM: 0.309 | 0.000  \n",
       "40000       ref: 0.000 | 0.000 - GLM: 0.287 | 0.000  \n",
       "100000      ref: 0.000 | 0.000 - GLM: 0.284 | 0.000  \n",
       "400000      ref: 0.000 | 0.000 - GLM: 0.282 | 0.000  "
      ]
     },
     "metadata": {},
     "output_type": "display_data"
    }
   ],
   "source": [
    "from sklearn.linear_model import Ridge\n",
    "\n",
    "res = bench_estimators_relative(\n",
    "    GeneralizedLinearRegressor(), estimator_ref=Ridge(),\n",
    "    metric=\"train_test_err\"\n",
    ")\n",
    "display(res)"
   ]
  },
  {
   "cell_type": "markdown",
   "metadata": {},
   "source": [
    "### 2.2 Comparison with ElasticNet, L1+L2 penalty, cd solver\n",
    "\n",
    "#### 2.2.1 Dense\n",
    "\n",
    "The below table includes\n",
    " - The speed factor (`xN`): i.e. how many times the GLM regressor is faster than ElasticNet. In this case it's appears to be faster (need to double-check).\n",
    " - Baseline run time: the run time for the reference estimator (here `ElasticNet`)."
   ]
  },
  {
   "cell_type": "code",
   "execution_count": 152,
   "metadata": {},
   "outputs": [
    {
     "data": {
      "application/vnd.jupyter.widget-view+json": {
       "model_id": "",
       "version_major": 2,
       "version_minor": 0
      },
      "text/plain": [
       "HBox(children=(IntProgress(value=0, max=60), HTML(value='')))"
      ]
     },
     "metadata": {},
     "output_type": "display_data"
    },
    {
     "data": {
      "text/html": [
       "<div>\n",
       "<style scoped>\n",
       "    .dataframe tbody tr th:only-of-type {\n",
       "        vertical-align: middle;\n",
       "    }\n",
       "\n",
       "    .dataframe tbody tr th {\n",
       "        vertical-align: top;\n",
       "    }\n",
       "\n",
       "    .dataframe thead th {\n",
       "        text-align: right;\n",
       "    }\n",
       "</style>\n",
       "<table border=\"1\" class=\"dataframe\">\n",
       "  <thead>\n",
       "    <tr style=\"text-align: right;\">\n",
       "      <th>n_features</th>\n",
       "      <th>2</th>\n",
       "      <th>10</th>\n",
       "      <th>50</th>\n",
       "      <th>200</th>\n",
       "      <th>1000</th>\n",
       "    </tr>\n",
       "    <tr>\n",
       "      <th>n_samples</th>\n",
       "      <th></th>\n",
       "      <th></th>\n",
       "      <th></th>\n",
       "      <th></th>\n",
       "      <th></th>\n",
       "    </tr>\n",
       "  </thead>\n",
       "  <tbody>\n",
       "    <tr>\n",
       "      <th>1000</th>\n",
       "      <td>x5.0 (1 ms)</td>\n",
       "      <td>x5.0 (1 ms)</td>\n",
       "      <td>x4.3 (2 ms)</td>\n",
       "      <td>x4.5 (4 ms)</td>\n",
       "      <td>x6.6 (41 ms)</td>\n",
       "    </tr>\n",
       "    <tr>\n",
       "      <th>4000</th>\n",
       "      <td>x5.3 (1 ms)</td>\n",
       "      <td>x3.6 (2 ms)</td>\n",
       "      <td>x2.2 (3 ms)</td>\n",
       "      <td>x2.0 (13 ms)</td>\n",
       "      <td>x4.7 (167 ms)</td>\n",
       "    </tr>\n",
       "    <tr>\n",
       "      <th>10000</th>\n",
       "      <td>x5.4 (2 ms)</td>\n",
       "      <td>x3.1 (3 ms)</td>\n",
       "      <td>x1.7 (7 ms)</td>\n",
       "      <td>x2.1 (37 ms)</td>\n",
       "      <td>x3.8 (424 ms)</td>\n",
       "    </tr>\n",
       "    <tr>\n",
       "      <th>40000</th>\n",
       "      <td>x4.5 (4 ms)</td>\n",
       "      <td>x1.7 (7 ms)</td>\n",
       "      <td>x1.4 (27 ms)</td>\n",
       "      <td>x2.1 (185 ms)</td>\n",
       "      <td>x3.2 (1 s)</td>\n",
       "    </tr>\n",
       "    <tr>\n",
       "      <th>100000</th>\n",
       "      <td>x5.1 (15 ms)</td>\n",
       "      <td>x2.2 (27 ms)</td>\n",
       "      <td>x2.2 (159 ms)</td>\n",
       "      <td>x2.3 (642 ms)</td>\n",
       "      <td>x3.2 (4 s)</td>\n",
       "    </tr>\n",
       "    <tr>\n",
       "      <th>400000</th>\n",
       "      <td>x4.7 (61 ms)</td>\n",
       "      <td>x2.2 (133 ms)</td>\n",
       "      <td>x1.8 (614 ms)</td>\n",
       "      <td>x2.0 (3 s)</td>\n",
       "      <td>x2.8 (18 s)</td>\n",
       "    </tr>\n",
       "  </tbody>\n",
       "</table>\n",
       "</div>"
      ],
      "text/plain": [
       "n_features          2              10             50             200   \\\n",
       "n_samples                                                               \n",
       "1000         x5.0 (1 ms)    x5.0 (1 ms)    x4.3 (2 ms)    x4.5 (4 ms)   \n",
       "4000         x5.3 (1 ms)    x3.6 (2 ms)    x2.2 (3 ms)   x2.0 (13 ms)   \n",
       "10000        x5.4 (2 ms)    x3.1 (3 ms)    x1.7 (7 ms)   x2.1 (37 ms)   \n",
       "40000        x4.5 (4 ms)    x1.7 (7 ms)   x1.4 (27 ms)  x2.1 (185 ms)   \n",
       "100000      x5.1 (15 ms)   x2.2 (27 ms)  x2.2 (159 ms)  x2.3 (642 ms)   \n",
       "400000      x4.7 (61 ms)  x2.2 (133 ms)  x1.8 (614 ms)     x2.0 (3 s)   \n",
       "\n",
       "n_features           1000  \n",
       "n_samples                  \n",
       "1000         x6.6 (41 ms)  \n",
       "4000        x4.7 (167 ms)  \n",
       "10000       x3.8 (424 ms)  \n",
       "40000          x3.2 (1 s)  \n",
       "100000         x3.2 (4 s)  \n",
       "400000        x2.8 (18 s)  "
      ]
     },
     "metadata": {},
     "output_type": "display_data"
    },
    {
     "name": "stdout",
     "output_type": "stream",
     "text": [
      "CPU times: user 10min 21s, sys: 35.7 s, total: 10min 56s\n",
      "Wall time: 3min 47s\n"
     ]
    }
   ],
   "source": [
    "%%time\n",
    "\n",
    "from sklearn.linear_model import ElasticNet\n",
    "\n",
    "res = bench_estimators_relative(\n",
    "    GeneralizedLinearRegressor(solver=\"cd\", l1_ratio=0.5, start_params='zero'),\n",
    "    estimator_ref=ElasticNet(max_iter=100, l1_ratio=0.5),\n",
    "    repeat=3\n",
    ")\n",
    "display(res)"
   ]
  },
  {
   "cell_type": "markdown",
   "metadata": {},
   "source": [
    "Evaluating the impact of the `start_params` parameters."
   ]
  },
  {
   "cell_type": "code",
   "execution_count": 153,
   "metadata": {},
   "outputs": [
    {
     "data": {
      "application/vnd.jupyter.widget-view+json": {
       "model_id": "",
       "version_major": 2,
       "version_minor": 0
      },
      "text/plain": [
       "HBox(children=(IntProgress(value=0, max=60), HTML(value='')))"
      ]
     },
     "metadata": {},
     "output_type": "display_data"
    },
    {
     "data": {
      "text/html": [
       "<div>\n",
       "<style scoped>\n",
       "    .dataframe tbody tr th:only-of-type {\n",
       "        vertical-align: middle;\n",
       "    }\n",
       "\n",
       "    .dataframe tbody tr th {\n",
       "        vertical-align: top;\n",
       "    }\n",
       "\n",
       "    .dataframe thead th {\n",
       "        text-align: right;\n",
       "    }\n",
       "</style>\n",
       "<table border=\"1\" class=\"dataframe\">\n",
       "  <thead>\n",
       "    <tr style=\"text-align: right;\">\n",
       "      <th>n_features</th>\n",
       "      <th>2</th>\n",
       "      <th>10</th>\n",
       "      <th>50</th>\n",
       "      <th>200</th>\n",
       "      <th>1000</th>\n",
       "    </tr>\n",
       "    <tr>\n",
       "      <th>n_samples</th>\n",
       "      <th></th>\n",
       "      <th></th>\n",
       "      <th></th>\n",
       "      <th></th>\n",
       "      <th></th>\n",
       "    </tr>\n",
       "  </thead>\n",
       "  <tbody>\n",
       "    <tr>\n",
       "      <th>1000</th>\n",
       "      <td>x3.4 (758 µs)</td>\n",
       "      <td>x3.6 (918 µs)</td>\n",
       "      <td>x3.9 (2 ms)</td>\n",
       "      <td>x5.5 (6 ms)</td>\n",
       "      <td>x9.3 (57 ms)</td>\n",
       "    </tr>\n",
       "    <tr>\n",
       "      <th>4000</th>\n",
       "      <td>x3.7 (1 ms)</td>\n",
       "      <td>x2.7 (1 ms)</td>\n",
       "      <td>x2.1 (3 ms)</td>\n",
       "      <td>x2.4 (16 ms)</td>\n",
       "      <td>x5.7 (200 ms)</td>\n",
       "    </tr>\n",
       "    <tr>\n",
       "      <th>10000</th>\n",
       "      <td>x4.2 (2 ms)</td>\n",
       "      <td>x2.5 (2 ms)</td>\n",
       "      <td>x1.8 (7 ms)</td>\n",
       "      <td>x2.2 (38 ms)</td>\n",
       "      <td>x4.6 (513 ms)</td>\n",
       "    </tr>\n",
       "    <tr>\n",
       "      <th>40000</th>\n",
       "      <td>x6.2 (6 ms)</td>\n",
       "      <td>x2.2 (9 ms)</td>\n",
       "      <td>x1.7 (33 ms)</td>\n",
       "      <td>x2.4 (234 ms)</td>\n",
       "      <td>x4.3 (2 s)</td>\n",
       "    </tr>\n",
       "    <tr>\n",
       "      <th>100000</th>\n",
       "      <td>x4.5 (13 ms)</td>\n",
       "      <td>x1.9 (23 ms)</td>\n",
       "      <td>x2.2 (156 ms)</td>\n",
       "      <td>x2.3 (657 ms)</td>\n",
       "      <td>x3.8 (5 s)</td>\n",
       "    </tr>\n",
       "    <tr>\n",
       "      <th>400000</th>\n",
       "      <td>x4.1 (53 ms)</td>\n",
       "      <td>x1.8 (110 ms)</td>\n",
       "      <td>x1.8 (589 ms)</td>\n",
       "      <td>x2.0 (3 s)</td>\n",
       "      <td>x3.3 (21 s)</td>\n",
       "    </tr>\n",
       "  </tbody>\n",
       "</table>\n",
       "</div>"
      ],
      "text/plain": [
       "n_features           2              10             50             200   \\\n",
       "n_samples                                                                \n",
       "1000        x3.4 (758 µs)  x3.6 (918 µs)    x3.9 (2 ms)    x5.5 (6 ms)   \n",
       "4000          x3.7 (1 ms)    x2.7 (1 ms)    x2.1 (3 ms)   x2.4 (16 ms)   \n",
       "10000         x4.2 (2 ms)    x2.5 (2 ms)    x1.8 (7 ms)   x2.2 (38 ms)   \n",
       "40000         x6.2 (6 ms)    x2.2 (9 ms)   x1.7 (33 ms)  x2.4 (234 ms)   \n",
       "100000       x4.5 (13 ms)   x1.9 (23 ms)  x2.2 (156 ms)  x2.3 (657 ms)   \n",
       "400000       x4.1 (53 ms)  x1.8 (110 ms)  x1.8 (589 ms)     x2.0 (3 s)   \n",
       "\n",
       "n_features           1000  \n",
       "n_samples                  \n",
       "1000         x9.3 (57 ms)  \n",
       "4000        x5.7 (200 ms)  \n",
       "10000       x4.6 (513 ms)  \n",
       "40000          x4.3 (2 s)  \n",
       "100000         x3.8 (5 s)  \n",
       "400000        x3.3 (21 s)  "
      ]
     },
     "metadata": {},
     "output_type": "display_data"
    },
    {
     "name": "stdout",
     "output_type": "stream",
     "text": [
      "CPU times: user 11min 13s, sys: 38.5 s, total: 11min 52s\n",
      "Wall time: 4min 1s\n"
     ]
    }
   ],
   "source": [
    "%%time\n",
    "\n",
    "from sklearn.linear_model import ElasticNet\n",
    "\n",
    "res = bench_estimators_relative(\n",
    "    GeneralizedLinearRegressor(solver=\"cd\", l1_ratio=0.5, start_params='guess'),\n",
    "    estimator_ref=ElasticNet(max_iter=100, l1_ratio=0.5),\n",
    "    repeat=3                 \n",
    ")\n",
    "display(res)"
   ]
  },
  {
   "cell_type": "markdown",
   "metadata": {},
   "source": [
    "Relative error for `intercept_` | `coef_`"
   ]
  },
  {
   "cell_type": "code",
   "execution_count": 270,
   "metadata": {
    "scrolled": true
   },
   "outputs": [
    {
     "data": {
      "application/vnd.jupyter.widget-view+json": {
       "model_id": "",
       "version_major": 2,
       "version_minor": 0
      },
      "text/plain": [
       "HBox(children=(IntProgress(value=0, max=6), HTML(value='')))"
      ]
     },
     "metadata": {},
     "output_type": "display_data"
    },
    {
     "name": "stderr",
     "output_type": "stream",
     "text": [
      "/home/rth/miniconda3/envs/sklearn-env/lib/python3.7/site-packages/numpy/core/fromnumeric.py:3118: RuntimeWarning: Mean of empty slice.\n",
      "  out=out, **kwargs)\n",
      "/home/rth/miniconda3/envs/sklearn-env/lib/python3.7/site-packages/numpy/core/_methods.py:85: RuntimeWarning: invalid value encountered in double_scalars\n",
      "  ret = ret.dtype.type(ret / rcount)\n",
      "/home/rth/miniconda3/envs/sklearn-env/lib/python3.7/site-packages/numpy/core/fromnumeric.py:3118: RuntimeWarning: Mean of empty slice.\n",
      "  out=out, **kwargs)\n",
      "/home/rth/miniconda3/envs/sklearn-env/lib/python3.7/site-packages/numpy/core/_methods.py:85: RuntimeWarning: invalid value encountered in double_scalars\n",
      "  ret = ret.dtype.type(ret / rcount)\n",
      "/home/rth/miniconda3/envs/sklearn-env/lib/python3.7/site-packages/numpy/core/fromnumeric.py:3118: RuntimeWarning: Mean of empty slice.\n",
      "  out=out, **kwargs)\n",
      "/home/rth/miniconda3/envs/sklearn-env/lib/python3.7/site-packages/numpy/core/_methods.py:85: RuntimeWarning: invalid value encountered in double_scalars\n",
      "  ret = ret.dtype.type(ret / rcount)\n",
      "/home/rth/miniconda3/envs/sklearn-env/lib/python3.7/site-packages/numpy/core/fromnumeric.py:3118: RuntimeWarning: Mean of empty slice.\n",
      "  out=out, **kwargs)\n",
      "/home/rth/miniconda3/envs/sklearn-env/lib/python3.7/site-packages/numpy/core/_methods.py:85: RuntimeWarning: invalid value encountered in double_scalars\n",
      "  ret = ret.dtype.type(ret / rcount)\n",
      "/home/rth/miniconda3/envs/sklearn-env/lib/python3.7/site-packages/numpy/core/fromnumeric.py:3118: RuntimeWarning: Mean of empty slice.\n",
      "  out=out, **kwargs)\n",
      "/home/rth/miniconda3/envs/sklearn-env/lib/python3.7/site-packages/numpy/core/_methods.py:85: RuntimeWarning: invalid value encountered in double_scalars\n",
      "  ret = ret.dtype.type(ret / rcount)\n",
      "/home/rth/miniconda3/envs/sklearn-env/lib/python3.7/site-packages/numpy/core/fromnumeric.py:3118: RuntimeWarning: Mean of empty slice.\n",
      "  out=out, **kwargs)\n",
      "/home/rth/miniconda3/envs/sklearn-env/lib/python3.7/site-packages/numpy/core/_methods.py:85: RuntimeWarning: invalid value encountered in double_scalars\n",
      "  ret = ret.dtype.type(ret / rcount)\n",
      "/home/rth/miniconda3/envs/sklearn-env/lib/python3.7/site-packages/numpy/core/fromnumeric.py:3118: RuntimeWarning: Mean of empty slice.\n",
      "  out=out, **kwargs)\n",
      "/home/rth/miniconda3/envs/sklearn-env/lib/python3.7/site-packages/numpy/core/_methods.py:85: RuntimeWarning: invalid value encountered in double_scalars\n",
      "  ret = ret.dtype.type(ret / rcount)\n",
      "/home/rth/miniconda3/envs/sklearn-env/lib/python3.7/site-packages/numpy/core/fromnumeric.py:3118: RuntimeWarning: Mean of empty slice.\n",
      "  out=out, **kwargs)\n",
      "/home/rth/miniconda3/envs/sklearn-env/lib/python3.7/site-packages/numpy/core/_methods.py:85: RuntimeWarning: invalid value encountered in double_scalars\n",
      "  ret = ret.dtype.type(ret / rcount)\n",
      "/home/rth/miniconda3/envs/sklearn-env/lib/python3.7/site-packages/numpy/core/fromnumeric.py:3118: RuntimeWarning: Mean of empty slice.\n",
      "  out=out, **kwargs)\n",
      "/home/rth/miniconda3/envs/sklearn-env/lib/python3.7/site-packages/numpy/core/_methods.py:85: RuntimeWarning: invalid value encountered in double_scalars\n",
      "  ret = ret.dtype.type(ret / rcount)\n",
      "/home/rth/miniconda3/envs/sklearn-env/lib/python3.7/site-packages/numpy/core/fromnumeric.py:3118: RuntimeWarning: Mean of empty slice.\n",
      "  out=out, **kwargs)\n",
      "/home/rth/miniconda3/envs/sklearn-env/lib/python3.7/site-packages/numpy/core/_methods.py:85: RuntimeWarning: invalid value encountered in double_scalars\n",
      "  ret = ret.dtype.type(ret / rcount)\n",
      "/home/rth/miniconda3/envs/sklearn-env/lib/python3.7/site-packages/numpy/core/fromnumeric.py:3118: RuntimeWarning: Mean of empty slice.\n",
      "  out=out, **kwargs)\n",
      "/home/rth/miniconda3/envs/sklearn-env/lib/python3.7/site-packages/numpy/core/_methods.py:85: RuntimeWarning: invalid value encountered in double_scalars\n",
      "  ret = ret.dtype.type(ret / rcount)\n",
      "/home/rth/miniconda3/envs/sklearn-env/lib/python3.7/site-packages/numpy/core/fromnumeric.py:3118: RuntimeWarning: Mean of empty slice.\n",
      "  out=out, **kwargs)\n",
      "/home/rth/miniconda3/envs/sklearn-env/lib/python3.7/site-packages/numpy/core/_methods.py:85: RuntimeWarning: invalid value encountered in double_scalars\n",
      "  ret = ret.dtype.type(ret / rcount)\n",
      "/home/rth/miniconda3/envs/sklearn-env/lib/python3.7/site-packages/numpy/core/fromnumeric.py:3118: RuntimeWarning: Mean of empty slice.\n",
      "  out=out, **kwargs)\n",
      "/home/rth/miniconda3/envs/sklearn-env/lib/python3.7/site-packages/numpy/core/_methods.py:85: RuntimeWarning: invalid value encountered in double_scalars\n",
      "  ret = ret.dtype.type(ret / rcount)\n",
      "/home/rth/miniconda3/envs/sklearn-env/lib/python3.7/site-packages/numpy/core/fromnumeric.py:3118: RuntimeWarning: Mean of empty slice.\n",
      "  out=out, **kwargs)\n",
      "/home/rth/miniconda3/envs/sklearn-env/lib/python3.7/site-packages/numpy/core/_methods.py:85: RuntimeWarning: invalid value encountered in double_scalars\n",
      "  ret = ret.dtype.type(ret / rcount)\n",
      "/home/rth/miniconda3/envs/sklearn-env/lib/python3.7/site-packages/numpy/core/fromnumeric.py:3118: RuntimeWarning: Mean of empty slice.\n",
      "  out=out, **kwargs)\n",
      "/home/rth/miniconda3/envs/sklearn-env/lib/python3.7/site-packages/numpy/core/_methods.py:85: RuntimeWarning: invalid value encountered in double_scalars\n",
      "  ret = ret.dtype.type(ret / rcount)\n",
      "/home/rth/miniconda3/envs/sklearn-env/lib/python3.7/site-packages/numpy/core/fromnumeric.py:3118: RuntimeWarning: Mean of empty slice.\n",
      "  out=out, **kwargs)\n",
      "/home/rth/miniconda3/envs/sklearn-env/lib/python3.7/site-packages/numpy/core/_methods.py:85: RuntimeWarning: invalid value encountered in double_scalars\n",
      "  ret = ret.dtype.type(ret / rcount)\n",
      "/home/rth/miniconda3/envs/sklearn-env/lib/python3.7/site-packages/numpy/core/fromnumeric.py:3118: RuntimeWarning: Mean of empty slice.\n",
      "  out=out, **kwargs)\n",
      "/home/rth/miniconda3/envs/sklearn-env/lib/python3.7/site-packages/numpy/core/_methods.py:85: RuntimeWarning: invalid value encountered in double_scalars\n",
      "  ret = ret.dtype.type(ret / rcount)\n",
      "/home/rth/miniconda3/envs/sklearn-env/lib/python3.7/site-packages/numpy/core/fromnumeric.py:3118: RuntimeWarning: Mean of empty slice.\n",
      "  out=out, **kwargs)\n",
      "/home/rth/miniconda3/envs/sklearn-env/lib/python3.7/site-packages/numpy/core/_methods.py:85: RuntimeWarning: invalid value encountered in double_scalars\n",
      "  ret = ret.dtype.type(ret / rcount)\n",
      "/home/rth/miniconda3/envs/sklearn-env/lib/python3.7/site-packages/numpy/core/fromnumeric.py:3118: RuntimeWarning: Mean of empty slice.\n",
      "  out=out, **kwargs)\n",
      "/home/rth/miniconda3/envs/sklearn-env/lib/python3.7/site-packages/numpy/core/_methods.py:85: RuntimeWarning: invalid value encountered in double_scalars\n",
      "  ret = ret.dtype.type(ret / rcount)\n",
      "/home/rth/miniconda3/envs/sklearn-env/lib/python3.7/site-packages/numpy/core/fromnumeric.py:3118: RuntimeWarning: Mean of empty slice.\n",
      "  out=out, **kwargs)\n",
      "/home/rth/miniconda3/envs/sklearn-env/lib/python3.7/site-packages/numpy/core/_methods.py:85: RuntimeWarning: invalid value encountered in double_scalars\n",
      "  ret = ret.dtype.type(ret / rcount)\n",
      "/home/rth/miniconda3/envs/sklearn-env/lib/python3.7/site-packages/numpy/core/fromnumeric.py:3118: RuntimeWarning: Mean of empty slice.\n",
      "  out=out, **kwargs)\n",
      "/home/rth/miniconda3/envs/sklearn-env/lib/python3.7/site-packages/numpy/core/_methods.py:85: RuntimeWarning: invalid value encountered in double_scalars\n",
      "  ret = ret.dtype.type(ret / rcount)\n",
      "/home/rth/miniconda3/envs/sklearn-env/lib/python3.7/site-packages/numpy/core/fromnumeric.py:3118: RuntimeWarning: Mean of empty slice.\n",
      "  out=out, **kwargs)\n",
      "/home/rth/miniconda3/envs/sklearn-env/lib/python3.7/site-packages/numpy/core/_methods.py:85: RuntimeWarning: invalid value encountered in double_scalars\n",
      "  ret = ret.dtype.type(ret / rcount)\n",
      "/home/rth/miniconda3/envs/sklearn-env/lib/python3.7/site-packages/numpy/core/fromnumeric.py:3118: RuntimeWarning: Mean of empty slice.\n",
      "  out=out, **kwargs)\n",
      "/home/rth/miniconda3/envs/sklearn-env/lib/python3.7/site-packages/numpy/core/_methods.py:85: RuntimeWarning: invalid value encountered in double_scalars\n",
      "  ret = ret.dtype.type(ret / rcount)\n",
      "/home/rth/miniconda3/envs/sklearn-env/lib/python3.7/site-packages/numpy/core/fromnumeric.py:3118: RuntimeWarning: Mean of empty slice.\n",
      "  out=out, **kwargs)\n",
      "/home/rth/miniconda3/envs/sklearn-env/lib/python3.7/site-packages/numpy/core/_methods.py:85: RuntimeWarning: invalid value encountered in double_scalars\n",
      "  ret = ret.dtype.type(ret / rcount)\n"
     ]
    },
    {
     "name": "stderr",
     "output_type": "stream",
     "text": [
      "/home/rth/miniconda3/envs/sklearn-env/lib/python3.7/site-packages/numpy/core/fromnumeric.py:3118: RuntimeWarning: Mean of empty slice.\n",
      "  out=out, **kwargs)\n",
      "/home/rth/miniconda3/envs/sklearn-env/lib/python3.7/site-packages/numpy/core/_methods.py:85: RuntimeWarning: invalid value encountered in double_scalars\n",
      "  ret = ret.dtype.type(ret / rcount)\n",
      "/home/rth/miniconda3/envs/sklearn-env/lib/python3.7/site-packages/numpy/core/fromnumeric.py:3118: RuntimeWarning: Mean of empty slice.\n",
      "  out=out, **kwargs)\n",
      "/home/rth/miniconda3/envs/sklearn-env/lib/python3.7/site-packages/numpy/core/_methods.py:85: RuntimeWarning: invalid value encountered in double_scalars\n",
      "  ret = ret.dtype.type(ret / rcount)\n",
      "/home/rth/miniconda3/envs/sklearn-env/lib/python3.7/site-packages/numpy/core/fromnumeric.py:3118: RuntimeWarning: Mean of empty slice.\n",
      "  out=out, **kwargs)\n",
      "/home/rth/miniconda3/envs/sklearn-env/lib/python3.7/site-packages/numpy/core/_methods.py:85: RuntimeWarning: invalid value encountered in double_scalars\n",
      "  ret = ret.dtype.type(ret / rcount)\n",
      "/home/rth/miniconda3/envs/sklearn-env/lib/python3.7/site-packages/numpy/core/fromnumeric.py:3118: RuntimeWarning: Mean of empty slice.\n",
      "  out=out, **kwargs)\n",
      "/home/rth/miniconda3/envs/sklearn-env/lib/python3.7/site-packages/numpy/core/_methods.py:85: RuntimeWarning: invalid value encountered in double_scalars\n",
      "  ret = ret.dtype.type(ret / rcount)\n",
      "/home/rth/miniconda3/envs/sklearn-env/lib/python3.7/site-packages/numpy/core/fromnumeric.py:3118: RuntimeWarning: Mean of empty slice.\n",
      "  out=out, **kwargs)\n",
      "/home/rth/miniconda3/envs/sklearn-env/lib/python3.7/site-packages/numpy/core/_methods.py:85: RuntimeWarning: invalid value encountered in double_scalars\n",
      "  ret = ret.dtype.type(ret / rcount)\n",
      "/home/rth/miniconda3/envs/sklearn-env/lib/python3.7/site-packages/numpy/core/fromnumeric.py:3118: RuntimeWarning: Mean of empty slice.\n",
      "  out=out, **kwargs)\n",
      "/home/rth/miniconda3/envs/sklearn-env/lib/python3.7/site-packages/numpy/core/_methods.py:85: RuntimeWarning: invalid value encountered in double_scalars\n",
      "  ret = ret.dtype.type(ret / rcount)\n"
     ]
    },
    {
     "data": {
      "text/html": [
       "<div>\n",
       "<style scoped>\n",
       "    .dataframe tbody tr th:only-of-type {\n",
       "        vertical-align: middle;\n",
       "    }\n",
       "\n",
       "    .dataframe tbody tr th {\n",
       "        vertical-align: top;\n",
       "    }\n",
       "\n",
       "    .dataframe thead th {\n",
       "        text-align: right;\n",
       "    }\n",
       "</style>\n",
       "<table border=\"1\" class=\"dataframe\">\n",
       "  <thead>\n",
       "    <tr style=\"text-align: right;\">\n",
       "      <th>n_features</th>\n",
       "      <th>2</th>\n",
       "      <th>10</th>\n",
       "      <th>50</th>\n",
       "      <th>200</th>\n",
       "      <th>1000</th>\n",
       "    </tr>\n",
       "    <tr>\n",
       "      <th>n_samples</th>\n",
       "      <th></th>\n",
       "      <th></th>\n",
       "      <th></th>\n",
       "      <th></th>\n",
       "      <th></th>\n",
       "    </tr>\n",
       "  </thead>\n",
       "  <tbody>\n",
       "    <tr>\n",
       "      <th>1000</th>\n",
       "      <td>0.0e+00 | nan</td>\n",
       "      <td>0.0e+00 | nan</td>\n",
       "      <td>0.0e+00 | nan</td>\n",
       "      <td>0.0e+00 | nan</td>\n",
       "      <td>0.0e+00 | nan</td>\n",
       "    </tr>\n",
       "    <tr>\n",
       "      <th>4000</th>\n",
       "      <td>3.6e-16 | nan</td>\n",
       "      <td>3.6e-16 | nan</td>\n",
       "      <td>3.6e-16 | nan</td>\n",
       "      <td>3.6e-16 | nan</td>\n",
       "      <td>3.6e-16 | nan</td>\n",
       "    </tr>\n",
       "    <tr>\n",
       "      <th>10000</th>\n",
       "      <td>3.7e-15 | nan</td>\n",
       "      <td>3.7e-15 | nan</td>\n",
       "      <td>3.7e-15 | nan</td>\n",
       "      <td>3.7e-15 | nan</td>\n",
       "      <td>3.7e-15 | nan</td>\n",
       "    </tr>\n",
       "    <tr>\n",
       "      <th>40000</th>\n",
       "      <td>3.2e-15 | nan</td>\n",
       "      <td>3.2e-15 | nan</td>\n",
       "      <td>3.2e-15 | nan</td>\n",
       "      <td>3.2e-15 | nan</td>\n",
       "      <td>3.2e-15 | nan</td>\n",
       "    </tr>\n",
       "    <tr>\n",
       "      <th>100000</th>\n",
       "      <td>3.6e-14 | nan</td>\n",
       "      <td>3.6e-14 | nan</td>\n",
       "      <td>3.6e-14 | nan</td>\n",
       "      <td>3.6e-14 | nan</td>\n",
       "      <td>3.6e-14 | nan</td>\n",
       "    </tr>\n",
       "    <tr>\n",
       "      <th>400000</th>\n",
       "      <td>1.8e-15 | nan</td>\n",
       "      <td>1.8e-15 | nan</td>\n",
       "      <td>1.8e-15 | nan</td>\n",
       "      <td>1.8e-15 | nan</td>\n",
       "      <td>1.8e-15 | nan</td>\n",
       "    </tr>\n",
       "  </tbody>\n",
       "</table>\n",
       "</div>"
      ],
      "text/plain": [
       "n_features           2              10             50             200   \\\n",
       "n_samples                                                                \n",
       "1000        0.0e+00 | nan  0.0e+00 | nan  0.0e+00 | nan  0.0e+00 | nan   \n",
       "4000        3.6e-16 | nan  3.6e-16 | nan  3.6e-16 | nan  3.6e-16 | nan   \n",
       "10000       3.7e-15 | nan  3.7e-15 | nan  3.7e-15 | nan  3.7e-15 | nan   \n",
       "40000       3.2e-15 | nan  3.2e-15 | nan  3.2e-15 | nan  3.2e-15 | nan   \n",
       "100000      3.6e-14 | nan  3.6e-14 | nan  3.6e-14 | nan  3.6e-14 | nan   \n",
       "400000      1.8e-15 | nan  1.8e-15 | nan  1.8e-15 | nan  1.8e-15 | nan   \n",
       "\n",
       "n_features           1000  \n",
       "n_samples                  \n",
       "1000        0.0e+00 | nan  \n",
       "4000        3.6e-16 | nan  \n",
       "10000       3.7e-15 | nan  \n",
       "40000       3.2e-15 | nan  \n",
       "100000      3.6e-14 | nan  \n",
       "400000      1.8e-15 | nan  "
      ]
     },
     "metadata": {},
     "output_type": "display_data"
    },
    {
     "name": "stdout",
     "output_type": "stream",
     "text": [
      "CPU times: user 4min 24s, sys: 17.8 s, total: 4min 42s\n",
      "Wall time: 1min 47s\n"
     ]
    }
   ],
   "source": [
    "from sklearn.linear_model import ElasticNet\n",
    "\n",
    "res = bench_estimators_relative(\n",
    "    GeneralizedLinearRegressor(solver=\"cd\", l1_ratio=0.5, start_params='guess'),\n",
    "    estimator_ref=ElasticNet(max_iter=100, l1_ratio=0.5),\n",
    "    metric=\"intercept_coef_err\"                \n",
    ")\n",
    "display(res)"
   ]
  },
  {
   "cell_type": "markdown",
   "metadata": {},
   "source": [
    "MAE for the reference implementation and the GLM implementation on the train | test datasets"
   ]
  },
  {
   "cell_type": "code",
   "execution_count": 9,
   "metadata": {},
   "outputs": [
    {
     "data": {
      "text/html": [
       "<div>\n",
       "<style scoped>\n",
       "    .dataframe tbody tr th:only-of-type {\n",
       "        vertical-align: middle;\n",
       "    }\n",
       "\n",
       "    .dataframe tbody tr th {\n",
       "        vertical-align: top;\n",
       "    }\n",
       "\n",
       "    .dataframe thead th {\n",
       "        text-align: right;\n",
       "    }\n",
       "</style>\n",
       "<table border=\"1\" class=\"dataframe\">\n",
       "  <thead>\n",
       "    <tr style=\"text-align: right;\">\n",
       "      <th>n_features</th>\n",
       "      <th>2</th>\n",
       "      <th>10</th>\n",
       "      <th>50</th>\n",
       "      <th>200</th>\n",
       "      <th>1000</th>\n",
       "    </tr>\n",
       "    <tr>\n",
       "      <th>n_samples</th>\n",
       "      <th></th>\n",
       "      <th></th>\n",
       "      <th></th>\n",
       "      <th></th>\n",
       "      <th></th>\n",
       "    </tr>\n",
       "  </thead>\n",
       "  <tbody>\n",
       "    <tr>\n",
       "      <th>1000</th>\n",
       "      <td>ref: 0.598 | 0.612 - GLM: 0.601 | 0.612</td>\n",
       "      <td>ref: 0.598 | 0.612 - GLM: 0.601 | 0.612</td>\n",
       "      <td>ref: 0.598 | 0.612 - GLM: 0.601 | 0.612</td>\n",
       "      <td>ref: 0.598 | 0.612 - GLM: 0.601 | 0.612</td>\n",
       "      <td>ref: 0.598 | 0.612 - GLM: 0.601 | 0.612</td>\n",
       "    </tr>\n",
       "    <tr>\n",
       "      <th>4000</th>\n",
       "      <td>ref: 0.604 | 0.625 - GLM: 0.604 | 0.625</td>\n",
       "      <td>ref: 0.604 | 0.625 - GLM: 0.604 | 0.625</td>\n",
       "      <td>ref: 0.604 | 0.625 - GLM: 0.604 | 0.625</td>\n",
       "      <td>ref: 0.604 | 0.625 - GLM: 0.604 | 0.625</td>\n",
       "      <td>ref: 0.604 | 0.625 - GLM: 0.604 | 0.625</td>\n",
       "    </tr>\n",
       "    <tr>\n",
       "      <th>10000</th>\n",
       "      <td>ref: 0.601 | 0.618 - GLM: 0.601 | 0.618</td>\n",
       "      <td>ref: 0.601 | 0.618 - GLM: 0.601 | 0.618</td>\n",
       "      <td>ref: 0.601 | 0.618 - GLM: 0.601 | 0.618</td>\n",
       "      <td>ref: 0.601 | 0.618 - GLM: 0.601 | 0.618</td>\n",
       "      <td>ref: 0.601 | 0.618 - GLM: 0.601 | 0.618</td>\n",
       "    </tr>\n",
       "    <tr>\n",
       "      <th>40000</th>\n",
       "      <td>ref: 0.607 | 0.608 - GLM: 0.607 | 0.608</td>\n",
       "      <td>ref: 0.607 | 0.608 - GLM: 0.607 | 0.608</td>\n",
       "      <td>ref: 0.607 | 0.608 - GLM: 0.607 | 0.608</td>\n",
       "      <td>ref: 0.607 | 0.608 - GLM: 0.607 | 0.608</td>\n",
       "      <td>ref: 0.607 | 0.608 - GLM: 0.607 | 0.608</td>\n",
       "    </tr>\n",
       "    <tr>\n",
       "      <th>100000</th>\n",
       "      <td>ref: 0.606 | 0.607 - GLM: 0.606 | 0.607</td>\n",
       "      <td>ref: 0.606 | 0.607 - GLM: 0.606 | 0.607</td>\n",
       "      <td>ref: 0.606 | 0.607 - GLM: 0.606 | 0.607</td>\n",
       "      <td>ref: 0.606 | 0.607 - GLM: 0.606 | 0.607</td>\n",
       "      <td>ref: 0.606 | 0.607 - GLM: 0.606 | 0.607</td>\n",
       "    </tr>\n",
       "    <tr>\n",
       "      <th>400000</th>\n",
       "      <td>ref: 0.609 | 0.610 - GLM: 0.609 | 0.610</td>\n",
       "      <td>ref: 0.609 | 0.610 - GLM: 0.609 | 0.610</td>\n",
       "      <td>ref: 0.609 | 0.610 - GLM: 0.609 | 0.610</td>\n",
       "      <td>ref: 0.609 | 0.610 - GLM: 0.609 | 0.610</td>\n",
       "      <td>ref: 0.609 | 0.610 - GLM: 0.609 | 0.610</td>\n",
       "    </tr>\n",
       "  </tbody>\n",
       "</table>\n",
       "</div>"
      ],
      "text/plain": [
       "n_features                                     2     \\\n",
       "n_samples                                             \n",
       "1000        ref: 0.598 | 0.612 - GLM: 0.601 | 0.612   \n",
       "4000        ref: 0.604 | 0.625 - GLM: 0.604 | 0.625   \n",
       "10000       ref: 0.601 | 0.618 - GLM: 0.601 | 0.618   \n",
       "40000       ref: 0.607 | 0.608 - GLM: 0.607 | 0.608   \n",
       "100000      ref: 0.606 | 0.607 - GLM: 0.606 | 0.607   \n",
       "400000      ref: 0.609 | 0.610 - GLM: 0.609 | 0.610   \n",
       "\n",
       "n_features                                     10    \\\n",
       "n_samples                                             \n",
       "1000        ref: 0.598 | 0.612 - GLM: 0.601 | 0.612   \n",
       "4000        ref: 0.604 | 0.625 - GLM: 0.604 | 0.625   \n",
       "10000       ref: 0.601 | 0.618 - GLM: 0.601 | 0.618   \n",
       "40000       ref: 0.607 | 0.608 - GLM: 0.607 | 0.608   \n",
       "100000      ref: 0.606 | 0.607 - GLM: 0.606 | 0.607   \n",
       "400000      ref: 0.609 | 0.610 - GLM: 0.609 | 0.610   \n",
       "\n",
       "n_features                                     50    \\\n",
       "n_samples                                             \n",
       "1000        ref: 0.598 | 0.612 - GLM: 0.601 | 0.612   \n",
       "4000        ref: 0.604 | 0.625 - GLM: 0.604 | 0.625   \n",
       "10000       ref: 0.601 | 0.618 - GLM: 0.601 | 0.618   \n",
       "40000       ref: 0.607 | 0.608 - GLM: 0.607 | 0.608   \n",
       "100000      ref: 0.606 | 0.607 - GLM: 0.606 | 0.607   \n",
       "400000      ref: 0.609 | 0.610 - GLM: 0.609 | 0.610   \n",
       "\n",
       "n_features                                     200   \\\n",
       "n_samples                                             \n",
       "1000        ref: 0.598 | 0.612 - GLM: 0.601 | 0.612   \n",
       "4000        ref: 0.604 | 0.625 - GLM: 0.604 | 0.625   \n",
       "10000       ref: 0.601 | 0.618 - GLM: 0.601 | 0.618   \n",
       "40000       ref: 0.607 | 0.608 - GLM: 0.607 | 0.608   \n",
       "100000      ref: 0.606 | 0.607 - GLM: 0.606 | 0.607   \n",
       "400000      ref: 0.609 | 0.610 - GLM: 0.609 | 0.610   \n",
       "\n",
       "n_features                                     1000  \n",
       "n_samples                                            \n",
       "1000        ref: 0.598 | 0.612 - GLM: 0.601 | 0.612  \n",
       "4000        ref: 0.604 | 0.625 - GLM: 0.604 | 0.625  \n",
       "10000       ref: 0.601 | 0.618 - GLM: 0.601 | 0.618  \n",
       "40000       ref: 0.607 | 0.608 - GLM: 0.607 | 0.608  \n",
       "100000      ref: 0.606 | 0.607 - GLM: 0.606 | 0.607  \n",
       "400000      ref: 0.609 | 0.610 - GLM: 0.609 | 0.610  "
      ]
     },
     "metadata": {},
     "output_type": "display_data"
    }
   ],
   "source": [
    "from sklearn.linear_model import ElasticNet\n",
    "\n",
    "res = bench_estimators_relative(\n",
    "    GeneralizedLinearRegressor(solver=\"cd\", l1_ratio=0.5, start_params='guess'),\n",
    "    estimator_ref=ElasticNet(max_iter=100, l1_ratio=0.5),\n",
    "    metric=\"train_test_err\"                \n",
    ")\n",
    "display(res)"
   ]
  },
  {
   "cell_type": "markdown",
   "metadata": {},
   "source": [
    "### 2.3 Comparison with LogisticRegression, binary classification\n",
    "\n",
    "#### 2.3.1 lbfgs-lbfgs solver, dense"
   ]
  },
  {
   "cell_type": "code",
   "execution_count": 168,
   "metadata": {},
   "outputs": [
    {
     "data": {
      "application/vnd.jupyter.widget-view+json": {
       "model_id": "",
       "version_major": 2,
       "version_minor": 0
      },
      "text/plain": [
       "HBox(children=(IntProgress(value=0, max=60), HTML(value='')))"
      ]
     },
     "metadata": {},
     "output_type": "display_data"
    },
    {
     "data": {
      "text/html": [
       "<div>\n",
       "<style scoped>\n",
       "    .dataframe tbody tr th:only-of-type {\n",
       "        vertical-align: middle;\n",
       "    }\n",
       "\n",
       "    .dataframe tbody tr th {\n",
       "        vertical-align: top;\n",
       "    }\n",
       "\n",
       "    .dataframe thead th {\n",
       "        text-align: right;\n",
       "    }\n",
       "</style>\n",
       "<table border=\"1\" class=\"dataframe\">\n",
       "  <thead>\n",
       "    <tr style=\"text-align: right;\">\n",
       "      <th>n_features</th>\n",
       "      <th>2</th>\n",
       "      <th>10</th>\n",
       "      <th>50</th>\n",
       "      <th>200</th>\n",
       "      <th>1000</th>\n",
       "    </tr>\n",
       "    <tr>\n",
       "      <th>n_samples</th>\n",
       "      <th></th>\n",
       "      <th></th>\n",
       "      <th></th>\n",
       "      <th></th>\n",
       "      <th></th>\n",
       "    </tr>\n",
       "  </thead>\n",
       "  <tbody>\n",
       "    <tr>\n",
       "      <th>1000</th>\n",
       "      <td>x0.8 (1 ms)</td>\n",
       "      <td>x0.8 (1 ms)</td>\n",
       "      <td>x0.9 (2 ms)</td>\n",
       "      <td>x0.9 (3 ms)</td>\n",
       "      <td>x1.0 (23 ms)</td>\n",
       "    </tr>\n",
       "    <tr>\n",
       "      <th>4000</th>\n",
       "      <td>x0.7 (2 ms)</td>\n",
       "      <td>x0.7 (2 ms)</td>\n",
       "      <td>x0.8 (3 ms)</td>\n",
       "      <td>x0.7 (7 ms)</td>\n",
       "      <td>x1.2 (109 ms)</td>\n",
       "    </tr>\n",
       "    <tr>\n",
       "      <th>10000</th>\n",
       "      <td>x0.6 (4 ms)</td>\n",
       "      <td>x0.7 (5 ms)</td>\n",
       "      <td>x0.7 (6 ms)</td>\n",
       "      <td>x0.7 (18 ms)</td>\n",
       "      <td>x0.7 (143 ms)</td>\n",
       "    </tr>\n",
       "    <tr>\n",
       "      <th>40000</th>\n",
       "      <td>x0.7 (14 ms)</td>\n",
       "      <td>x0.7 (17 ms)</td>\n",
       "      <td>x0.8 (26 ms)</td>\n",
       "      <td>x0.7 (86 ms)</td>\n",
       "      <td>x0.6 (476 ms)</td>\n",
       "    </tr>\n",
       "    <tr>\n",
       "      <th>100000</th>\n",
       "      <td>x0.7 (35 ms)</td>\n",
       "      <td>x0.6 (41 ms)</td>\n",
       "      <td>x0.7 (77 ms)</td>\n",
       "      <td>x0.6 (215 ms)</td>\n",
       "      <td>x0.5 (1 s)</td>\n",
       "    </tr>\n",
       "    <tr>\n",
       "      <th>400000</th>\n",
       "      <td>x1.1 (143 ms)</td>\n",
       "      <td>x0.9 (164 ms)</td>\n",
       "      <td>x0.9 (308 ms)</td>\n",
       "      <td>x0.8 (842 ms)</td>\n",
       "      <td>x0.6 (4 s)</td>\n",
       "    </tr>\n",
       "  </tbody>\n",
       "</table>\n",
       "</div>"
      ],
      "text/plain": [
       "n_features           2              10             50             200   \\\n",
       "n_samples                                                                \n",
       "1000          x0.8 (1 ms)    x0.8 (1 ms)    x0.9 (2 ms)    x0.9 (3 ms)   \n",
       "4000          x0.7 (2 ms)    x0.7 (2 ms)    x0.8 (3 ms)    x0.7 (7 ms)   \n",
       "10000         x0.6 (4 ms)    x0.7 (5 ms)    x0.7 (6 ms)   x0.7 (18 ms)   \n",
       "40000        x0.7 (14 ms)   x0.7 (17 ms)   x0.8 (26 ms)   x0.7 (86 ms)   \n",
       "100000       x0.7 (35 ms)   x0.6 (41 ms)   x0.7 (77 ms)  x0.6 (215 ms)   \n",
       "400000      x1.1 (143 ms)  x0.9 (164 ms)  x0.9 (308 ms)  x0.8 (842 ms)   \n",
       "\n",
       "n_features           1000  \n",
       "n_samples                  \n",
       "1000         x1.0 (23 ms)  \n",
       "4000        x1.2 (109 ms)  \n",
       "10000       x0.7 (143 ms)  \n",
       "40000       x0.6 (476 ms)  \n",
       "100000         x0.5 (1 s)  \n",
       "400000         x0.6 (4 s)  "
      ]
     },
     "metadata": {},
     "output_type": "display_data"
    },
    {
     "name": "stdout",
     "output_type": "stream",
     "text": [
      "CPU times: user 2min 48s, sys: 11.2 s, total: 3min\n",
      "Wall time: 1min 2s\n"
     ]
    }
   ],
   "source": [
    "%%time\n",
    "\n",
    "from sklearn.linear_model import LogisticRegression\n",
    "\n",
    "res = bench_estimators_relative(\n",
    "    GeneralizedLinearRegressor(solver=\"lbfgs\", family=\"binomial\"),\n",
    "    estimator_ref=LogisticRegression(solver=\"lbfgs\", max_iter=100),\n",
    "    repeat=1,\n",
    "    task=\"classification\"\n",
    ")\n",
    "display(res)"
   ]
  },
  {
   "cell_type": "markdown",
   "metadata": {},
   "source": [
    "Relative error for `intercept_` | `coef_`"
   ]
  },
  {
   "cell_type": "code",
   "execution_count": 275,
   "metadata": {},
   "outputs": [
    {
     "data": {
      "application/vnd.jupyter.widget-view+json": {
       "model_id": "",
       "version_major": 2,
       "version_minor": 0
      },
      "text/plain": [
       "HBox(children=(IntProgress(value=0, max=6), HTML(value='')))"
      ]
     },
     "metadata": {},
     "output_type": "display_data"
    },
    {
     "data": {
      "text/html": [
       "<div>\n",
       "<style scoped>\n",
       "    .dataframe tbody tr th:only-of-type {\n",
       "        vertical-align: middle;\n",
       "    }\n",
       "\n",
       "    .dataframe tbody tr th {\n",
       "        vertical-align: top;\n",
       "    }\n",
       "\n",
       "    .dataframe thead th {\n",
       "        text-align: right;\n",
       "    }\n",
       "</style>\n",
       "<table border=\"1\" class=\"dataframe\">\n",
       "  <thead>\n",
       "    <tr style=\"text-align: right;\">\n",
       "      <th>n_features</th>\n",
       "      <th>2</th>\n",
       "      <th>10</th>\n",
       "      <th>50</th>\n",
       "      <th>200</th>\n",
       "      <th>1000</th>\n",
       "    </tr>\n",
       "    <tr>\n",
       "      <th>n_samples</th>\n",
       "      <th></th>\n",
       "      <th></th>\n",
       "      <th></th>\n",
       "      <th></th>\n",
       "      <th></th>\n",
       "    </tr>\n",
       "  </thead>\n",
       "  <tbody>\n",
       "    <tr>\n",
       "      <th>1000</th>\n",
       "      <td>7.5e-03 | 7.9e-01</td>\n",
       "      <td>3.1e-02 | 8.0e-01</td>\n",
       "      <td>2.9e-01 | 8.8e-01</td>\n",
       "      <td>6.1e-01 | 9.8e-01</td>\n",
       "      <td>6.9e-01 | 1.0e+00</td>\n",
       "    </tr>\n",
       "    <tr>\n",
       "      <th>4000</th>\n",
       "      <td>6.5e-02 | 8.0e-01</td>\n",
       "      <td>1.0e-01 | 7.9e-01</td>\n",
       "      <td>1.2e+00 | 7.9e-01</td>\n",
       "      <td>8.3e-01 | 8.2e-01</td>\n",
       "      <td>9.5e-01 | 9.9e-01</td>\n",
       "    </tr>\n",
       "    <tr>\n",
       "      <th>10000</th>\n",
       "      <td>4.9e-03 | 8.0e-01</td>\n",
       "      <td>1.2e-01 | 8.0e-01</td>\n",
       "      <td>1.8e-01 | 9.7e-01</td>\n",
       "      <td>1.6e+00 | 8.2e-01</td>\n",
       "      <td>1.5e+00 | 1.3e+00</td>\n",
       "    </tr>\n",
       "    <tr>\n",
       "      <th>40000</th>\n",
       "      <td>2.1e-03 | 8.0e-01</td>\n",
       "      <td>3.2e-02 | 7.9e-01</td>\n",
       "      <td>2.6e-01 | 8.1e-01</td>\n",
       "      <td>1.0e+03 | 9.3e-01</td>\n",
       "      <td>1.7e+00 | 1.0e+00</td>\n",
       "    </tr>\n",
       "    <tr>\n",
       "      <th>100000</th>\n",
       "      <td>2.1e-02 | 8.1e-01</td>\n",
       "      <td>6.0e-03 | 8.0e-01</td>\n",
       "      <td>1.1e-01 | 8.1e-01</td>\n",
       "      <td>1.3e+00 | 1.0e+00</td>\n",
       "      <td>3.6e+00 | 1.4e+00</td>\n",
       "    </tr>\n",
       "    <tr>\n",
       "      <th>400000</th>\n",
       "      <td>4.8e-06 | 8.0e-01</td>\n",
       "      <td>5.7e-04 | 8.0e-01</td>\n",
       "      <td>2.4e-01 | 8.4e-01</td>\n",
       "      <td>1.1e+00 | 1.1e+00</td>\n",
       "      <td>1.0e+00 | 1.2e+00</td>\n",
       "    </tr>\n",
       "  </tbody>\n",
       "</table>\n",
       "</div>"
      ],
      "text/plain": [
       "n_features               2                  10                 50    \\\n",
       "n_samples                                                             \n",
       "1000        7.5e-03 | 7.9e-01  3.1e-02 | 8.0e-01  2.9e-01 | 8.8e-01   \n",
       "4000        6.5e-02 | 8.0e-01  1.0e-01 | 7.9e-01  1.2e+00 | 7.9e-01   \n",
       "10000       4.9e-03 | 8.0e-01  1.2e-01 | 8.0e-01  1.8e-01 | 9.7e-01   \n",
       "40000       2.1e-03 | 8.0e-01  3.2e-02 | 7.9e-01  2.6e-01 | 8.1e-01   \n",
       "100000      2.1e-02 | 8.1e-01  6.0e-03 | 8.0e-01  1.1e-01 | 8.1e-01   \n",
       "400000      4.8e-06 | 8.0e-01  5.7e-04 | 8.0e-01  2.4e-01 | 8.4e-01   \n",
       "\n",
       "n_features               200                1000  \n",
       "n_samples                                         \n",
       "1000        6.1e-01 | 9.8e-01  6.9e-01 | 1.0e+00  \n",
       "4000        8.3e-01 | 8.2e-01  9.5e-01 | 9.9e-01  \n",
       "10000       1.6e+00 | 8.2e-01  1.5e+00 | 1.3e+00  \n",
       "40000       1.0e+03 | 9.3e-01  1.7e+00 | 1.0e+00  \n",
       "100000      1.3e+00 | 1.0e+00  3.6e+00 | 1.4e+00  \n",
       "400000      1.1e+00 | 1.1e+00  1.0e+00 | 1.2e+00  "
      ]
     },
     "metadata": {},
     "output_type": "display_data"
    }
   ],
   "source": [
    "from sklearn.linear_model import LogisticRegression\n",
    "\n",
    "res = bench_estimators_relative(\n",
    "    GeneralizedLinearRegressor(solver=\"lbfgs\", family=\"binomial\"),\n",
    "    estimator_ref=LogisticRegression(solver=\"lbfgs\", max_iter=100),\n",
    "    repeat=1,\n",
    "    task=\"classification\",\n",
    "    metric=\"intercept_coef_err\"\n",
    ")\n",
    "display(res)"
   ]
  },
  {
   "cell_type": "markdown",
   "metadata": {},
   "source": [
    "accuracy for the reference implementation and the GLM implementation on the train | test datasets"
   ]
  },
  {
   "cell_type": "code",
   "execution_count": 13,
   "metadata": {},
   "outputs": [
    {
     "data": {
      "text/html": [
       "<div>\n",
       "<style scoped>\n",
       "    .dataframe tbody tr th:only-of-type {\n",
       "        vertical-align: middle;\n",
       "    }\n",
       "\n",
       "    .dataframe tbody tr th {\n",
       "        vertical-align: top;\n",
       "    }\n",
       "\n",
       "    .dataframe thead th {\n",
       "        text-align: right;\n",
       "    }\n",
       "</style>\n",
       "<table border=\"1\" class=\"dataframe\">\n",
       "  <thead>\n",
       "    <tr style=\"text-align: right;\">\n",
       "      <th>n_features</th>\n",
       "      <th>2</th>\n",
       "      <th>10</th>\n",
       "      <th>50</th>\n",
       "      <th>200</th>\n",
       "      <th>1000</th>\n",
       "    </tr>\n",
       "    <tr>\n",
       "      <th>n_samples</th>\n",
       "      <th></th>\n",
       "      <th></th>\n",
       "      <th></th>\n",
       "      <th></th>\n",
       "      <th></th>\n",
       "    </tr>\n",
       "  </thead>\n",
       "  <tbody>\n",
       "    <tr>\n",
       "      <th>1000</th>\n",
       "      <td>ref: 0.475 | 0.508 - GLM: 0.500 | 0.508</td>\n",
       "      <td>ref: 0.457 | 0.492 - GLM: 0.501 | 0.492</td>\n",
       "      <td>ref: 0.355 | 0.416 - GLM: 0.493 | 0.416</td>\n",
       "      <td>ref: 0.208 | 0.428 - GLM: 0.486 | 0.428</td>\n",
       "      <td>ref: 0.000 | 0.308 - GLM: 0.453 | 0.308</td>\n",
       "    </tr>\n",
       "    <tr>\n",
       "      <th>4000</th>\n",
       "      <td>ref: 0.488 | 0.502 - GLM: 0.500 | 0.502</td>\n",
       "      <td>ref: 0.467 | 0.501 - GLM: 0.500 | 0.501</td>\n",
       "      <td>ref: 0.386 | 0.421 - GLM: 0.495 | 0.421</td>\n",
       "      <td>ref: 0.309 | 0.377 - GLM: 0.486 | 0.377</td>\n",
       "      <td>ref: 0.003 | 0.287 - GLM: 0.448 | 0.287</td>\n",
       "    </tr>\n",
       "    <tr>\n",
       "      <th>10000</th>\n",
       "      <td>ref: 0.500 | 0.494 - GLM: 0.500 | 0.494</td>\n",
       "      <td>ref: 0.491 | 0.494 - GLM: 0.500 | 0.494</td>\n",
       "      <td>ref: 0.389 | 0.408 - GLM: 0.493 | 0.408</td>\n",
       "      <td>ref: 0.325 | 0.351 - GLM: 0.484 | 0.351</td>\n",
       "      <td>ref: 0.117 | 0.192 - GLM: 0.442 | 0.192</td>\n",
       "    </tr>\n",
       "    <tr>\n",
       "      <th>40000</th>\n",
       "      <td>ref: 0.497 | 0.510 - GLM: 0.500 | 0.510</td>\n",
       "      <td>ref: 0.495 | 0.508 - GLM: 0.500 | 0.508</td>\n",
       "      <td>ref: 0.393 | 0.401 - GLM: 0.493 | 0.401</td>\n",
       "      <td>ref: 0.335 | 0.343 - GLM: 0.484 | 0.343</td>\n",
       "      <td>ref: 0.148 | 0.169 - GLM: 0.439 | 0.169</td>\n",
       "    </tr>\n",
       "    <tr>\n",
       "      <th>100000</th>\n",
       "      <td>ref: 0.498 | 0.503 - GLM: 0.500 | 0.503</td>\n",
       "      <td>ref: 0.496 | 0.505 - GLM: 0.500 | 0.505</td>\n",
       "      <td>ref: 0.396 | 0.395 - GLM: 0.493 | 0.395</td>\n",
       "      <td>ref: 0.341 | 0.341 - GLM: 0.484 | 0.341</td>\n",
       "      <td>ref: 0.155 | 0.162 - GLM: 0.439 | 0.162</td>\n",
       "    </tr>\n",
       "    <tr>\n",
       "      <th>400000</th>\n",
       "      <td>ref: 0.499 | 0.503 - GLM: 0.500 | 0.503</td>\n",
       "      <td>ref: 0.498 | 0.501 - GLM: 0.500 | 0.501</td>\n",
       "      <td>ref: 0.396 | 0.394 - GLM: 0.493 | 0.394</td>\n",
       "      <td>ref: 0.340 | 0.340 - GLM: 0.484 | 0.340</td>\n",
       "      <td>ref: 0.156 | 0.161 - GLM: 0.438 | 0.161</td>\n",
       "    </tr>\n",
       "  </tbody>\n",
       "</table>\n",
       "</div>"
      ],
      "text/plain": [
       "n_features                                     2     \\\n",
       "n_samples                                             \n",
       "1000        ref: 0.475 | 0.508 - GLM: 0.500 | 0.508   \n",
       "4000        ref: 0.488 | 0.502 - GLM: 0.500 | 0.502   \n",
       "10000       ref: 0.500 | 0.494 - GLM: 0.500 | 0.494   \n",
       "40000       ref: 0.497 | 0.510 - GLM: 0.500 | 0.510   \n",
       "100000      ref: 0.498 | 0.503 - GLM: 0.500 | 0.503   \n",
       "400000      ref: 0.499 | 0.503 - GLM: 0.500 | 0.503   \n",
       "\n",
       "n_features                                     10    \\\n",
       "n_samples                                             \n",
       "1000        ref: 0.457 | 0.492 - GLM: 0.501 | 0.492   \n",
       "4000        ref: 0.467 | 0.501 - GLM: 0.500 | 0.501   \n",
       "10000       ref: 0.491 | 0.494 - GLM: 0.500 | 0.494   \n",
       "40000       ref: 0.495 | 0.508 - GLM: 0.500 | 0.508   \n",
       "100000      ref: 0.496 | 0.505 - GLM: 0.500 | 0.505   \n",
       "400000      ref: 0.498 | 0.501 - GLM: 0.500 | 0.501   \n",
       "\n",
       "n_features                                     50    \\\n",
       "n_samples                                             \n",
       "1000        ref: 0.355 | 0.416 - GLM: 0.493 | 0.416   \n",
       "4000        ref: 0.386 | 0.421 - GLM: 0.495 | 0.421   \n",
       "10000       ref: 0.389 | 0.408 - GLM: 0.493 | 0.408   \n",
       "40000       ref: 0.393 | 0.401 - GLM: 0.493 | 0.401   \n",
       "100000      ref: 0.396 | 0.395 - GLM: 0.493 | 0.395   \n",
       "400000      ref: 0.396 | 0.394 - GLM: 0.493 | 0.394   \n",
       "\n",
       "n_features                                     200   \\\n",
       "n_samples                                             \n",
       "1000        ref: 0.208 | 0.428 - GLM: 0.486 | 0.428   \n",
       "4000        ref: 0.309 | 0.377 - GLM: 0.486 | 0.377   \n",
       "10000       ref: 0.325 | 0.351 - GLM: 0.484 | 0.351   \n",
       "40000       ref: 0.335 | 0.343 - GLM: 0.484 | 0.343   \n",
       "100000      ref: 0.341 | 0.341 - GLM: 0.484 | 0.341   \n",
       "400000      ref: 0.340 | 0.340 - GLM: 0.484 | 0.340   \n",
       "\n",
       "n_features                                     1000  \n",
       "n_samples                                            \n",
       "1000        ref: 0.000 | 0.308 - GLM: 0.453 | 0.308  \n",
       "4000        ref: 0.003 | 0.287 - GLM: 0.448 | 0.287  \n",
       "10000       ref: 0.117 | 0.192 - GLM: 0.442 | 0.192  \n",
       "40000       ref: 0.148 | 0.169 - GLM: 0.439 | 0.169  \n",
       "100000      ref: 0.155 | 0.162 - GLM: 0.439 | 0.162  \n",
       "400000      ref: 0.156 | 0.161 - GLM: 0.438 | 0.161  "
      ]
     },
     "metadata": {},
     "output_type": "display_data"
    }
   ],
   "source": [
    "from sklearn.linear_model import LogisticRegression\n",
    "\n",
    "res = bench_estimators_relative(\n",
    "    GeneralizedLinearRegressor(solver=\"lbfgs\", family=\"binomial\"),\n",
    "    estimator_ref=LogisticRegression(solver=\"lbfgs\", max_iter=100),\n",
    "    repeat=1,\n",
    "    task=\"classification\",\n",
    "    metric=\"train_test_err\"\n",
    ")\n",
    "display(res)"
   ]
  },
  {
   "cell_type": "markdown",
   "metadata": {},
   "source": [
    "#### 2.3.2 irls-lbfgs solver, dense"
   ]
  },
  {
   "cell_type": "code",
   "execution_count": 181,
   "metadata": {},
   "outputs": [
    {
     "data": {
      "application/vnd.jupyter.widget-view+json": {
       "model_id": "",
       "version_major": 2,
       "version_minor": 0
      },
      "text/plain": [
       "HBox(children=(IntProgress(value=0, max=60), HTML(value='')))"
      ]
     },
     "metadata": {},
     "output_type": "display_data"
    },
    {
     "data": {
      "text/html": [
       "<div>\n",
       "<style scoped>\n",
       "    .dataframe tbody tr th:only-of-type {\n",
       "        vertical-align: middle;\n",
       "    }\n",
       "\n",
       "    .dataframe tbody tr th {\n",
       "        vertical-align: top;\n",
       "    }\n",
       "\n",
       "    .dataframe thead th {\n",
       "        text-align: right;\n",
       "    }\n",
       "</style>\n",
       "<table border=\"1\" class=\"dataframe\">\n",
       "  <thead>\n",
       "    <tr style=\"text-align: right;\">\n",
       "      <th>n_features</th>\n",
       "      <th>2</th>\n",
       "      <th>10</th>\n",
       "      <th>50</th>\n",
       "      <th>200</th>\n",
       "      <th>1000</th>\n",
       "    </tr>\n",
       "    <tr>\n",
       "      <th>n_samples</th>\n",
       "      <th></th>\n",
       "      <th></th>\n",
       "      <th></th>\n",
       "      <th></th>\n",
       "      <th></th>\n",
       "    </tr>\n",
       "  </thead>\n",
       "  <tbody>\n",
       "    <tr>\n",
       "      <th>1000</th>\n",
       "      <td>x1.6 (1 ms)</td>\n",
       "      <td>x1.9 (1 ms)</td>\n",
       "      <td>x1.1 (2 ms)</td>\n",
       "      <td>x0.4 (3 ms)</td>\n",
       "      <td>x0.1 (25 ms)</td>\n",
       "    </tr>\n",
       "    <tr>\n",
       "      <th>4000</th>\n",
       "      <td>x1.8 (2 ms)</td>\n",
       "      <td>x1.8 (2 ms)</td>\n",
       "      <td>x1.1 (3 ms)</td>\n",
       "      <td>x0.4 (6 ms)</td>\n",
       "      <td>x0.3 (99 ms)</td>\n",
       "    </tr>\n",
       "    <tr>\n",
       "      <th>10000</th>\n",
       "      <td>x1.9 (4 ms)</td>\n",
       "      <td>x1.7 (5 ms)</td>\n",
       "      <td>x1.0 (6 ms)</td>\n",
       "      <td>x0.6 (17 ms)</td>\n",
       "      <td>x0.3 (138 ms)</td>\n",
       "    </tr>\n",
       "    <tr>\n",
       "      <th>40000</th>\n",
       "      <td>x1.7 (15 ms)</td>\n",
       "      <td>x1.6 (17 ms)</td>\n",
       "      <td>x1.1 (26 ms)</td>\n",
       "      <td>x0.6 (80 ms)</td>\n",
       "      <td>x0.4 (476 ms)</td>\n",
       "    </tr>\n",
       "    <tr>\n",
       "      <th>100000</th>\n",
       "      <td>x1.7 (35 ms)</td>\n",
       "      <td>x1.6 (42 ms)</td>\n",
       "      <td>x0.9 (77 ms)</td>\n",
       "      <td>x0.6 (198 ms)</td>\n",
       "      <td>x0.4 (1 s)</td>\n",
       "    </tr>\n",
       "    <tr>\n",
       "      <th>400000</th>\n",
       "      <td>x1.7 (141 ms)</td>\n",
       "      <td>x1.3 (165 ms)</td>\n",
       "      <td>x0.9 (307 ms)</td>\n",
       "      <td>x0.6 (775 ms)</td>\n",
       "      <td>x0.4 (5 s)</td>\n",
       "    </tr>\n",
       "  </tbody>\n",
       "</table>\n",
       "</div>"
      ],
      "text/plain": [
       "n_features           2              10             50             200   \\\n",
       "n_samples                                                                \n",
       "1000          x1.6 (1 ms)    x1.9 (1 ms)    x1.1 (2 ms)    x0.4 (3 ms)   \n",
       "4000          x1.8 (2 ms)    x1.8 (2 ms)    x1.1 (3 ms)    x0.4 (6 ms)   \n",
       "10000         x1.9 (4 ms)    x1.7 (5 ms)    x1.0 (6 ms)   x0.6 (17 ms)   \n",
       "40000        x1.7 (15 ms)   x1.6 (17 ms)   x1.1 (26 ms)   x0.6 (80 ms)   \n",
       "100000       x1.7 (35 ms)   x1.6 (42 ms)   x0.9 (77 ms)  x0.6 (198 ms)   \n",
       "400000      x1.7 (141 ms)  x1.3 (165 ms)  x0.9 (307 ms)  x0.6 (775 ms)   \n",
       "\n",
       "n_features           1000  \n",
       "n_samples                  \n",
       "1000         x0.1 (25 ms)  \n",
       "4000         x0.3 (99 ms)  \n",
       "10000       x0.3 (138 ms)  \n",
       "40000       x0.4 (476 ms)  \n",
       "100000         x0.4 (1 s)  \n",
       "400000         x0.4 (5 s)  "
      ]
     },
     "metadata": {},
     "output_type": "display_data"
    }
   ],
   "source": [
    "from sklearn.linear_model import LogisticRegression\n",
    "\n",
    "res = bench_estimators_relative(\n",
    "    GeneralizedLinearRegressor(solver=\"irls\", family=\"binomial\"),\n",
    "    estimator_ref=LogisticRegression(solver=\"lbfgs\", max_iter=100),\n",
    "    repeat=3,\n",
    "    task=\"classification\"\n",
    ")\n",
    "display(res)"
   ]
  },
  {
   "cell_type": "markdown",
   "metadata": {},
   "source": [
    "`GeneralizedLinearRegressor(solver=\"irls\", family=\"binomial\")` is faster than `LogisticRegression(solver=\"lbfgs\")` when n_features ≲ 20."
   ]
  },
  {
   "cell_type": "code",
   "execution_count": null,
   "metadata": {},
   "outputs": [],
   "source": []
  }
 ],
 "metadata": {
  "kernelspec": {
   "display_name": "Python 3",
   "language": "python",
   "name": "python3"
  },
  "language_info": {
   "codemirror_mode": {
    "name": "ipython",
    "version": 3
   },
   "file_extension": ".py",
   "mimetype": "text/x-python",
   "name": "python",
   "nbconvert_exporter": "python",
   "pygments_lexer": "ipython3",
   "version": "3.7.3"
  }
 },
 "nbformat": 4,
 "nbformat_minor": 2
}
