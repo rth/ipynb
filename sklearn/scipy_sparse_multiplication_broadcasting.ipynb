{
 "cells": [
  {
   "cell_type": "markdown",
   "metadata": {},
   "source": [
    "# Sparse broadcasting benchmarks"
   ]
  },
  {
   "cell_type": "code",
   "execution_count": 8,
   "metadata": {},
   "outputs": [],
   "source": [
    "import scipy.sparse\n",
    "import numpy as np"
   ]
  },
  {
   "cell_type": "code",
   "execution_count": 2,
   "metadata": {},
   "outputs": [],
   "source": [
    "import scipy.sparse"
   ]
  },
  {
   "cell_type": "code",
   "execution_count": 176,
   "metadata": {},
   "outputs": [],
   "source": [
    "from sklearn.utils.fixes import _astype_copy_false\n",
    "\n",
    "def _multiply_sparse_1d(X, y, format_: str ='csc', copy: bool=True):\n",
    "    \"\"\"Multiply a scipy.sparse matrix by a 1d array row or column wise\n",
    "    \n",
    "    Parameters\n",
    "    ----------\n",
    "    X : scipy.sparse\n",
    "    y : array\n",
    "    format : str\n",
    "    \"\"\"\n",
    "    X = X.asformat(format_, **_astype_copy_false(X))\n",
    "    if (X.shape[0] != y.shape[0]) and (X.shape[1] != y.shape[0]):\n",
    "        raise ValueError(\n",
    "            f\"Can't broadcast array:\"\n",
    "            f\"X.shape={X.shape} and y.shape={y.shape}\"\n",
    "        )\n",
    "    if copy:\n",
    "        X = X.copy()\n",
    "    X.data *= y[X.indices] \n",
    "    return X\n",
    "\n",
    "\n",
    "def _has_shape_one(x):\n",
    "    return x.shape[0] == 1 or x.shape[1] == 1\n",
    "\n",
    "\n",
    "def safe_multiply_broadcast(X, Y, copy=True):\n",
    "    \"\"\"Multiply 2D array, with broadcasting and scipy.sparse support\n",
    "       \n",
    "    Without broadcasting support in scipy.sparse, the current workaround\n",
    "    is to convert 1D array a 2D diagonal\n",
    "    sparse array and perform a dot product which is significantly slower.\n",
    "    \n",
    "    Parameters\n",
    "    ----------\n",
    "    X : {scipy.sparse.csr_matrix, np.ndarray}, shape=(n_x0, n_x1)\n",
    "       a csr_matrix or a 1D array\n",
    "    y : {scipy.sparse.csr_matrix, np.ndarray}, shape=(n_y0, n_x1)\n",
    "       a csr_matrix or a 1D array\n",
    "      \n",
    "    Returns\n",
    "    -------\n",
    "    >>> import numpy as np\n",
    "    >>> import scipy.sparse\n",
    "    >>> \n",
    "    \"\"\"\n",
    "    if not (X.ndim == 2 and Y.ndim == 2):\n",
    "        raise ValueError(\n",
    "            f'Input array/matrices must be 2D, '\n",
    "            f'got X.shape={X.shape}, Y.shape={Y.shape}'\n",
    "        )   \n",
    "    \n",
    "    if scipy.sparse.issparse(X) and isinstance(Y, np.ndarray) and _has_shape_one(Y):\n",
    "        if Y.shape[0] == 1:\n",
    "            return _multiply_sparse_1d(X, Y[0], format_='csr', copy=copy)\n",
    "        elif Y.shape[1] == 1:\n",
    "            return _multiply_sparse_1d(X, Y[:, 0], format_='csc', copy=copy)\n",
    "        else:\n",
    "            raise ValueError(f'Could not multiply X={X} and Y={Y}')\n",
    "    elif scipy.sparse.issparse(Y) and isinstance(X, np.ndarray) and _has_shape_one(X):\n",
    "        # multiplication is commutative\n",
    "        return safe_multiply_broadcast(Y, X, copy=copy)  \n",
    "    else:\n",
    "        if copy is False:\n",
    "            raise NotImplementedError\n",
    "        return np.multiply(X, Y)"
   ]
  },
  {
   "cell_type": "code",
   "execution_count": 1,
   "metadata": {},
   "outputs": [
    {
     "name": "stdout",
     "output_type": "stream",
     "text": [
      "Requirement already satisfied: memory_profiler in /home/rth/miniconda3/envs/sklearn-dev/lib/python3.8/site-packages (0.57.0)\r\n",
      "Requirement already satisfied: psutil in /home/rth/miniconda3/envs/sklearn-dev/lib/python3.8/site-packages (from memory_profiler) (5.7.2)\r\n"
     ]
    }
   ],
   "source": [
    "!pip install memory_profiler"
   ]
  },
  {
   "cell_type": "code",
   "execution_count": 179,
   "metadata": {},
   "outputs": [],
   "source": [
    "n = 10000\n",
    "m = 20000\n",
    "\n",
    "X = scipy.sparse.rand(n, m, density=0.001, random_state=1, format='csr')"
   ]
  },
  {
   "cell_type": "code",
   "execution_count": 180,
   "metadata": {},
   "outputs": [],
   "source": [
    "w = np.arange(m) + 1\n",
    "W_diag = scipy.sparse.diags(w, shape=(m, m), offsets=0, format='csr')"
   ]
  },
  {
   "cell_type": "code",
   "execution_count": 181,
   "metadata": {},
   "outputs": [
    {
     "name": "stdout",
     "output_type": "stream",
     "text": [
      "2.09 ms ± 33.6 µs per loop (mean ± std. dev. of 7 runs, 1000 loops each)\n"
     ]
    }
   ],
   "source": [
    "%%timeit \n",
    "\n",
    "X * W_diag"
   ]
  },
  {
   "cell_type": "code",
   "execution_count": 182,
   "metadata": {},
   "outputs": [
    {
     "name": "stdout",
     "output_type": "stream",
     "text": [
      "477 µs ± 6.13 µs per loop (mean ± std. dev. of 7 runs, 1000 loops each)\n"
     ]
    }
   ],
   "source": [
    "%%timeit\n",
    "\n",
    "X2 = safe_multiply_broadcast(X, w[None, :])"
   ]
  },
  {
   "cell_type": "code",
   "execution_count": 183,
   "metadata": {},
   "outputs": [],
   "source": [
    "from numpy.testing import assert_allclose\n",
    "\n",
    "\n",
    "res1 = X @ W_diag\n",
    "res1.sort_indices()\n",
    "\n",
    "res2 = safe_multiply_broadcast(X, w[None, :])\n",
    "\n",
    "assert res1.format == res2.format\n",
    "assert res1.shape == res2.shape\n",
    "assert_allclose(res1.data, res2.data)"
   ]
  },
  {
   "cell_type": "code",
   "execution_count": null,
   "metadata": {},
   "outputs": [],
   "source": []
  }
 ],
 "metadata": {
  "kernelspec": {
   "display_name": "Python 3",
   "language": "python",
   "name": "python3"
  },
  "language_info": {
   "codemirror_mode": {
    "name": "ipython",
    "version": 3
   },
   "file_extension": ".py",
   "mimetype": "text/x-python",
   "name": "python",
   "nbconvert_exporter": "python",
   "pygments_lexer": "ipython3",
   "version": "3.8.0"
  }
 },
 "nbformat": 4,
 "nbformat_minor": 2
}
