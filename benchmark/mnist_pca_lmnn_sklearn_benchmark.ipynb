{
 "cells": [
  {
   "cell_type": "markdown",
   "metadata": {},
   "source": [
    "# Large Margin Nearest Neighbor classifier benchmark\n",
    "*Comparing NN-1, metric-learn and scikit-learn implementation on a subset of the MNIST dataset*\n",
    "\n",
    "\n",
    "*Date*: 18 May 2017\n",
    "\n",
    "**Dependencies:** Python 3.6, scikit-learn 18.1, metric-learn 0.3.0, memory_profiler, psutil"
   ]
  },
  {
   "cell_type": "code",
   "execution_count": 6,
   "metadata": {},
   "outputs": [
    {
     "name": "stdout",
     "output_type": "stream",
     "text": [
      "The memory_profiler extension is already loaded. To reload it, use:\n",
      "  %reload_ext memory_profiler\n",
      "Applying PCA (n_components=50) on a None sample subset of MNIST\n",
      "Classes in the training set: [ 0.  1.  2.  3.  4.  5.  6.  7.  8.  9.]\n",
      "Classes in the training set: [ 0.  1.  2.  3.  4.  5.  6.  7.  8.  9.]\n"
     ]
    }
   ],
   "source": [
    "import numpy as np\n",
    "\n",
    "from sklearn.model_selection import train_test_split\n",
    "from sklearn.datasets import fetch_mldata\n",
    "from sklearn.utils.random import choice as random_choice\n",
    "from sklearn.decomposition import PCA\n",
    "from sklearn.neighbors import KNeighborsClassifier\n",
    "# implementation from PR https://github.com/scikit-learn/scikit-learn/pull/8602\n",
    "from lmnn import LargeMarginNearestNeighbor  \n",
    "from metric_learn.lmnn import python_LMNN\n",
    "\n",
    "%load_ext memory_profiler\n",
    "\n",
    "random_state = 43\n",
    "\n",
    "n_samples = None   # to betchmark metric-learn on a subset of MNIST data\n",
    "n_components = 50\n",
    "\n",
    "mnist = fetch_mldata('MNIST original')\n",
    "\n",
    "if n_samples is not None:\n",
    "    mask = random_choice(np.arange(len(mnist.target)), size=(n_samples,), replace=False,\n",
    "                         random_state=random_state)\n",
    "else:\n",
    "    mask = slice(None)\n",
    "\n",
    "X_train, X_test, y_train, y_test = train_test_split(mnist.data[mask], mnist.target[mask],\n",
    "                                                    test_size=0.3, random_state=random_state)\n",
    "\n",
    "pca = PCA(n_components=n_components)\n",
    "X_train_pca = pca.fit_transform(X_train)\n",
    "X_test_pca = pca.transform(X_test)\n",
    "\n",
    "print('Applying PCA (n_components={}) on a {} sample subset of MNIST'\n",
    "      .format(n_components, n_samples))\n",
    "print('Classes in the training set:', np.sort(np.unique(y_test)))\n",
    "print('Classes in the training set:', np.sort(np.unique(y_train)))"
   ]
  },
  {
   "cell_type": "code",
   "execution_count": 7,
   "metadata": {},
   "outputs": [
    {
     "name": "stdout",
     "output_type": "stream",
     "text": [
      "Accuracy score: 0.975\n",
      "peak memory: 16158.90 MiB, increment: 15643.79 MiB\n",
      "CPU times: user 12.4 s, sys: 3.08 s, total: 15.5 s\n",
      "Wall time: 10.6 s\n"
     ]
    }
   ],
   "source": [
    "%%time\n",
    "%%memit -r 1\n",
    "\n",
    "nn = KNeighborsClassifier(n_neighbors=1, algorithm='brute')\n",
    "nn.fit(X_train_pca, y_train)\n",
    "print('Accuracy score: {:.3f}'.format(nn.score(X_test_pca, y_test)))"
   ]
  },
  {
   "cell_type": "code",
   "execution_count": 14,
   "metadata": {
    "scrolled": true
   },
   "outputs": [
    {
     "name": "stdout",
     "output_type": "stream",
     "text": [
      "Skipping the metric-learn LMNN implementation for large datasets as it does not scale well.\n",
      "Skipping the metric-learn LMNN implementation for large datasets as it does not scale well.\n",
      "Skipping the metric-learn LMNN implementation for large datasets as it does not scale well.\n",
      "Skipping the metric-learn LMNN implementation for large datasets as it does not scale well.\n",
      "Skipping the metric-learn LMNN implementation for large datasets as it does not scale well.\n",
      "Skipping the metric-learn LMNN implementation for large datasets as it does not scale well.\n",
      "Skipping the metric-learn LMNN implementation for large datasets as it does not scale well.\n",
      "peak memory: 312.84 MiB, increment: 0.00 MiB\n",
      "CPU times: user 44 ms, sys: 60 ms, total: 104 ms\n",
      "Wall time: 238 ms\n"
     ]
    }
   ],
   "source": [
    "%%time\n",
    "%%memit -r 1\n",
    "\n",
    "# metric-learn implementation\n",
    "if n_samples is None or n_samples > 2000:\n",
    "    print('Skipping the metric-learn LMNN implementation for large datasets '\n",
    "          'as it does not scale well.')\n",
    "    \n",
    "else:\n",
    "\n",
    "    lmnn = python_LMNN(k=1)\n",
    "\n",
    "    lmnn.fit(X_train_pca, y_train)\n",
    "\n",
    "    # project into the LM space\n",
    "    X_train_pca_lmnn = lmnn.transform(X_train_pca)\n",
    "    X_test_pca_lmnn = lmnn.transform(X_test_pca)\n",
    "                                 \n",
    "    nn = KNeighborsClassifier(n_neighbors=1, algorithm='brute')\n",
    "    nn.fit(X_train_pca_lmnn, y_train)\n",
    "    print('Accuracy score: {:.3f}'.format(nn.score(X_test_pca_lmnn, y_test)))"
   ]
  },
  {
   "cell_type": "code",
   "execution_count": 15,
   "metadata": {},
   "outputs": [
    {
     "name": "stdout",
     "output_type": "stream",
     "text": [
      "Accuracy score: 0.977\n",
      "peak memory: 2105.35 MiB, increment: 1792.51 MiB\n",
      "CPU times: user 3h 46min 32s, sys: 3min 7s, total: 3h 49min 39s\n",
      "Wall time: 1h 2min 31s\n"
     ]
    }
   ],
   "source": [
    "%%time\n",
    "%%memit -r 1\n",
    "\n",
    "nn = LargeMarginNearestNeighbor(n_neighbors=1, random_state=random_state)\n",
    "nn.fit(X_train_pca, y_train)\n",
    "print('Accuracy score: {:.3f}'.format(nn.score(X_test_pca, y_test)))"
   ]
  },
  {
   "cell_type": "code",
   "execution_count": null,
   "metadata": {
    "collapsed": true
   },
   "outputs": [],
   "source": []
  }
 ],
 "metadata": {
  "kernelspec": {
   "display_name": "Python 3",
   "language": "python",
   "name": "python3"
  },
  "language_info": {
   "codemirror_mode": {
    "name": "ipython",
    "version": 3
   },
   "file_extension": ".py",
   "mimetype": "text/x-python",
   "name": "python",
   "nbconvert_exporter": "python",
   "pygments_lexer": "ipython3",
   "version": "3.6.1"
  }
 },
 "nbformat": 4,
 "nbformat_minor": 2
}
