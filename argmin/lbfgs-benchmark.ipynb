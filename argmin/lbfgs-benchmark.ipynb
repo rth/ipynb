{
 "cells": [
  {
   "cell_type": "markdown",
   "metadata": {},
   "source": [
    "## Benchmarking L-BFGS solvers on the logistic regression problem\n",
    "\n",
    "*Comparing argmin implementation with that available in scipy.optimize*\n",
    "\n",
    "Date: April 06, 2020.\n",
    "\n",
    "Requirements:\n",
    " - pyargmin (dev, including [pyargmin#27](https://github.com/argmin-rs/pyargmin/pull/27))\n",
    " - scipy, matplotlib\n",
    " - scikit-learn 0.22.* (we use private API)"
   ]
  },
  {
   "cell_type": "code",
   "execution_count": 3,
   "metadata": {},
   "outputs": [],
   "source": [
    "import numpy as np\n",
    "from numpy.testing import assert_allclose\n",
    "import matplotlib.pyplot as plt\n",
    "\n",
    "import scipy.optimize\n",
    "\n",
    "from sklearn.preprocessing import StandardScaler\n",
    "from sklearn.linear_model import LogisticRegression\n",
    "from sklearn.linear_model._logistic import (_logistic_loss, _logistic_loss_and_grad)\n",
    "from sklearn.datasets import fetch_covtype\n",
    "import argmin"
   ]
  },
  {
   "cell_type": "markdown",
   "metadata": {},
   "source": [
    "### 1. Load a dataset"
   ]
  },
  {
   "cell_type": "code",
   "execution_count": 4,
   "metadata": {},
   "outputs": [],
   "source": [
    "X, y = fetch_covtype(return_X_y=True)"
   ]
  },
  {
   "cell_type": "code",
   "execution_count": 5,
   "metadata": {},
   "outputs": [],
   "source": [
    "mask = (y == 2) | (y == 3)\n",
    "X = X[mask]\n",
    "y = y[mask]\n",
    "y_bin = np.ones(y.shape)\n",
    "y_bin[y == 2] = -1 \n",
    " \n",
    "X = StandardScaler().fit_transform(X)"
   ]
  },
  {
   "cell_type": "code",
   "execution_count": 6,
   "metadata": {},
   "outputs": [
    {
     "data": {
      "text/plain": [
       "(319055, 54)"
      ]
     },
     "execution_count": 6,
     "metadata": {},
     "output_type": "execute_result"
    }
   ],
   "source": [
    "X.shape"
   ]
  },
  {
   "cell_type": "markdown",
   "metadata": {},
   "source": [
    "## 2. Train Logistic Regression model with L-BFGS\n",
    "\n",
    "Using scikit-learn's estimator,"
   ]
  },
  {
   "cell_type": "code",
   "execution_count": 7,
   "metadata": {},
   "outputs": [
    {
     "name": "stdout",
     "output_type": "stream",
     "text": [
      "CPU times: user 7.19 s, sys: 15.4 ms, total: 7.21 s\n",
      "Wall time: 7.21 s\n"
     ]
    },
    {
     "data": {
      "text/plain": [
       "LogisticRegression(C=1.0, class_weight=None, dual=False, fit_intercept=True,\n",
       "                   intercept_scaling=1, l1_ratio=None, max_iter=500,\n",
       "                   multi_class='ovr', n_jobs=None, penalty='l2',\n",
       "                   random_state=None, solver='lbfgs', tol=0.0001, verbose=0,\n",
       "                   warm_start=False)"
      ]
     },
     "execution_count": 7,
     "metadata": {},
     "output_type": "execute_result"
    }
   ],
   "source": [
    "%%time\n",
    "\n",
    "est = LogisticRegression(solver='lbfgs', multi_class='ovr', max_iter=500)\n",
    "est.fit(X, y_bin)"
   ]
  },
  {
   "cell_type": "markdown",
   "metadata": {},
   "source": [
    "and manually via the  `scipy.optimize.minimize` funtion,"
   ]
  },
  {
   "cell_type": "code",
   "execution_count": 8,
   "metadata": {},
   "outputs": [
    {
     "name": "stdout",
     "output_type": "stream",
     "text": [
      "CPU times: user 7.16 s, sys: 2.27 ms, total: 7.16 s\n",
      "Wall time: 7.17 s\n"
     ]
    }
   ],
   "source": [
    "%%time\n",
    "\n",
    "w0 = np.zeros(X.shape[1] + 1)\n",
    "\n",
    "opt_res = scipy.optimize.minimize(\n",
    "    _logistic_loss_and_grad,\n",
    "    w0,\n",
    "    method=\"L-BFGS-B\",\n",
    "    jac=True,\n",
    "    args=(X, y_bin, 1.0),\n",
    "    options={\"gtol\": 1e-4, \"maxiter\": 500},\n",
    ")\n",
    "\n",
    "coef = opt_res['x'][:-1]\n",
    "intercept = opt_res['x'][-1]\n",
    "\n",
    "assert_allclose(coef, est.coef_[0, :], rtol=1e-4, atol=1e-4)\n",
    "assert_allclose(intercept, est.intercept_, rtol=1e-4, atol=1e-4)"
   ]
  },
  {
   "cell_type": "code",
   "execution_count": 9,
   "metadata": {},
   "outputs": [
    {
     "name": "stdout",
     "output_type": "stream",
     "text": [
      "CPU times: user 10.8 s, sys: 1.03 ms, total: 10.8 s\n",
      "Wall time: 10.8 s\n"
     ]
    }
   ],
   "source": [
    "%%time\n",
    "\n",
    "w0 = np.zeros(X.shape[1] + 1)\n",
    "\n",
    "opt_res = scipy.optimize.minimize(\n",
    "    _logistic_loss,\n",
    "    w0,\n",
    "    method=\"L-BFGS-B\",\n",
    "    jac=lambda *args, **kwargs: _logistic_loss_and_grad(*args, **kwargs)[1],\n",
    "    args=(X, y_bin, 1.0),\n",
    "    options={\"gtol\": 1e-4, \"maxiter\": 500},\n",
    ")\n",
    "\n",
    "coef = opt_res['x'][:-1]\n",
    "intercept = opt_res['x'][-1]\n",
    "\n",
    "assert_allclose(coef, est.coef_[0, :], rtol=1e-4, atol=1e-4)\n",
    "assert_allclose(intercept, est.intercept_, rtol=1e-4, atol=1e-4)"
   ]
  },
  {
   "cell_type": "code",
   "execution_count": 10,
   "metadata": {},
   "outputs": [
    {
     "name": "stdout",
     "output_type": "stream",
     "text": [
      "CPU times: user 42.1 s, sys: 96.7 ms, total: 42.2 s\n",
      "Wall time: 42 s\n"
     ]
    }
   ],
   "source": [
    "%%time\n",
    "\n",
    "class LogisticLoss:\n",
    "    def __init__(self, X, y, alpha=1.0):\n",
    "        self.X = X\n",
    "        self.y = y\n",
    "        self.alpha = alpha\n",
    "\n",
    "    def apply(self, w):\n",
    "        cost = _logistic_loss(w, self.X, self.y, self.alpha)\n",
    "        return cost\n",
    "\n",
    "    def gradient(self, w):\n",
    "        _, grad = _logistic_loss_and_grad(w, self.X, self.y, self.alpha)\n",
    "        return grad\n",
    "    \n",
    "    \n",
    "loss = LogisticLoss(X, y_bin)\n",
    "loss.gradient(w0)\n",
    "\n",
    "solver = argmin.lbfgs(m=10, tol_grad=1e-5)\n",
    "\n",
    "executor = argmin.executor(loss, solver, w0, max_iter=500)\n",
    "x_opt = executor.run()"
   ]
  },
  {
   "cell_type": "code",
   "execution_count": 16,
   "metadata": {},
   "outputs": [
    {
     "ename": "AssertionError",
     "evalue": "\nNot equal to tolerance rtol=0.02, atol=0.02\n\nMismatched elements: 6 / 54 (11.1%)\nMax absolute difference: 0.15058643\nMax relative difference: 6.83202872\n x: array([-4.097064e+00,  2.034346e-01, -3.002162e-01,  1.029803e+00,\n        6.069836e-02,  8.965370e-01, -9.269159e-01,  8.329707e-01,\n       -1.572041e+00, -6.943207e-02, -1.530025e+00, -5.625123e-02,...\n y: array([-4.096513e+00,  2.032744e-01, -3.004393e-01,  1.029694e+00,\n        6.068366e-02,  8.962305e-01, -9.266363e-01,  8.323696e-01,\n       -1.571307e+00, -7.003769e-02, -1.517910e+00,  9.433520e-02,...",
     "output_type": "error",
     "traceback": [
      "\u001b[0;31m---------------------------------------------------------------------------\u001b[0m",
      "\u001b[0;31mAssertionError\u001b[0m                            Traceback (most recent call last)",
      "\u001b[0;32m<ipython-input-16-d28ad5531752>\u001b[0m in \u001b[0;36m<module>\u001b[0;34m\u001b[0m\n\u001b[0;32m----> 1\u001b[0;31m \u001b[0massert_allclose\u001b[0m\u001b[0;34m(\u001b[0m\u001b[0mx_opt\u001b[0m\u001b[0;34m[\u001b[0m\u001b[0;34m:\u001b[0m\u001b[0;34m-\u001b[0m\u001b[0;36m1\u001b[0m\u001b[0;34m]\u001b[0m\u001b[0;34m,\u001b[0m \u001b[0mest\u001b[0m\u001b[0;34m.\u001b[0m\u001b[0mcoef_\u001b[0m\u001b[0;34m[\u001b[0m\u001b[0;36m0\u001b[0m\u001b[0;34m,\u001b[0m \u001b[0;34m:\u001b[0m\u001b[0;34m]\u001b[0m\u001b[0;34m,\u001b[0m \u001b[0mrtol\u001b[0m\u001b[0;34m=\u001b[0m\u001b[0;36m2e-2\u001b[0m\u001b[0;34m,\u001b[0m \u001b[0matol\u001b[0m\u001b[0;34m=\u001b[0m\u001b[0;36m2e-2\u001b[0m\u001b[0;34m)\u001b[0m\u001b[0;34m\u001b[0m\u001b[0;34m\u001b[0m\u001b[0m\n\u001b[0m",
      "\u001b[0;32m~/miniconda3/envs/argmin-env/lib/python3.8/site-packages/numpy/testing/_private/utils.py\u001b[0m in \u001b[0;36massert_allclose\u001b[0;34m(actual, desired, rtol, atol, equal_nan, err_msg, verbose)\u001b[0m\n\u001b[1;32m   1530\u001b[0m     \u001b[0mactual\u001b[0m\u001b[0;34m,\u001b[0m \u001b[0mdesired\u001b[0m \u001b[0;34m=\u001b[0m \u001b[0mnp\u001b[0m\u001b[0;34m.\u001b[0m\u001b[0masanyarray\u001b[0m\u001b[0;34m(\u001b[0m\u001b[0mactual\u001b[0m\u001b[0;34m)\u001b[0m\u001b[0;34m,\u001b[0m \u001b[0mnp\u001b[0m\u001b[0;34m.\u001b[0m\u001b[0masanyarray\u001b[0m\u001b[0;34m(\u001b[0m\u001b[0mdesired\u001b[0m\u001b[0;34m)\u001b[0m\u001b[0;34m\u001b[0m\u001b[0;34m\u001b[0m\u001b[0m\n\u001b[1;32m   1531\u001b[0m     \u001b[0mheader\u001b[0m \u001b[0;34m=\u001b[0m \u001b[0;34m'Not equal to tolerance rtol=%g, atol=%g'\u001b[0m \u001b[0;34m%\u001b[0m \u001b[0;34m(\u001b[0m\u001b[0mrtol\u001b[0m\u001b[0;34m,\u001b[0m \u001b[0matol\u001b[0m\u001b[0;34m)\u001b[0m\u001b[0;34m\u001b[0m\u001b[0;34m\u001b[0m\u001b[0m\n\u001b[0;32m-> 1532\u001b[0;31m     assert_array_compare(compare, actual, desired, err_msg=str(err_msg),\n\u001b[0m\u001b[1;32m   1533\u001b[0m                          verbose=verbose, header=header, equal_nan=equal_nan)\n\u001b[1;32m   1534\u001b[0m \u001b[0;34m\u001b[0m\u001b[0m\n",
      "\u001b[0;32m~/miniconda3/envs/argmin-env/lib/python3.8/site-packages/numpy/testing/_private/utils.py\u001b[0m in \u001b[0;36massert_array_compare\u001b[0;34m(comparison, x, y, err_msg, verbose, header, precision, equal_nan, equal_inf)\u001b[0m\n\u001b[1;32m    844\u001b[0m                                 \u001b[0mverbose\u001b[0m\u001b[0;34m=\u001b[0m\u001b[0mverbose\u001b[0m\u001b[0;34m,\u001b[0m \u001b[0mheader\u001b[0m\u001b[0;34m=\u001b[0m\u001b[0mheader\u001b[0m\u001b[0;34m,\u001b[0m\u001b[0;34m\u001b[0m\u001b[0;34m\u001b[0m\u001b[0m\n\u001b[1;32m    845\u001b[0m                                 names=('x', 'y'), precision=precision)\n\u001b[0;32m--> 846\u001b[0;31m             \u001b[0;32mraise\u001b[0m \u001b[0mAssertionError\u001b[0m\u001b[0;34m(\u001b[0m\u001b[0mmsg\u001b[0m\u001b[0;34m)\u001b[0m\u001b[0;34m\u001b[0m\u001b[0;34m\u001b[0m\u001b[0m\n\u001b[0m\u001b[1;32m    847\u001b[0m     \u001b[0;32mexcept\u001b[0m \u001b[0mValueError\u001b[0m\u001b[0;34m:\u001b[0m\u001b[0;34m\u001b[0m\u001b[0;34m\u001b[0m\u001b[0m\n\u001b[1;32m    848\u001b[0m         \u001b[0;32mimport\u001b[0m \u001b[0mtraceback\u001b[0m\u001b[0;34m\u001b[0m\u001b[0;34m\u001b[0m\u001b[0m\n",
      "\u001b[0;31mAssertionError\u001b[0m: \nNot equal to tolerance rtol=0.02, atol=0.02\n\nMismatched elements: 6 / 54 (11.1%)\nMax absolute difference: 0.15058643\nMax relative difference: 6.83202872\n x: array([-4.097064e+00,  2.034346e-01, -3.002162e-01,  1.029803e+00,\n        6.069836e-02,  8.965370e-01, -9.269159e-01,  8.329707e-01,\n       -1.572041e+00, -6.943207e-02, -1.530025e+00, -5.625123e-02,...\n y: array([-4.096513e+00,  2.032744e-01, -3.004393e-01,  1.029694e+00,\n        6.068366e-02,  8.962305e-01, -9.266363e-01,  8.323696e-01,\n       -1.571307e+00, -7.003769e-02, -1.517910e+00,  9.433520e-02,..."
     ]
    }
   ],
   "source": [
    "assert_allclose(x_opt[:-1], est.coef_[0, :], rtol=2e-2, atol=2e-2)"
   ]
  },
  {
   "cell_type": "markdown",
   "metadata": {},
   "source": [
    "## Evaluating convergence"
   ]
  },
  {
   "cell_type": "code",
   "execution_count": 17,
   "metadata": {},
   "outputs": [],
   "source": [
    "w0 = np.zeros(X.shape[1] + 1)\n",
    "\n",
    "loss_hist = []\n",
    "grad_hist = []\n",
    "\n",
    "def callback(w):\n",
    "    cost, grad = _logistic_loss_and_grad(w, X, y_bin, 1.0)\n",
    "    loss_hist.append(cost)\n",
    "    grad_hist.append(np.linalg.norm(grad, ord=2))\n",
    "    \n",
    "\n",
    "opt_res = scipy.optimize.minimize(\n",
    "    _logistic_loss,\n",
    "    w0,\n",
    "    method=\"L-BFGS-B\",\n",
    "    jac=lambda *args, **kwargs: _logistic_loss_and_grad(*args, **kwargs)[1],\n",
    "    args=(X, y_bin, 1.0),\n",
    "    options={\"gtol\": 1e-4, \"maxiter\": 500},\n",
    "    callback=callback\n",
    ")"
   ]
  },
  {
   "cell_type": "code",
   "execution_count": 18,
   "metadata": {},
   "outputs": [
    {
     "data": {
      "text/plain": [
       "Text(0, 0.5, 'L2 gradient norm')"
      ]
     },
     "execution_count": 18,
     "metadata": {},
     "output_type": "execute_result"
    },
    {
     "data": {
      "image/png": "[encoded data removed]",
      "text/plain": [
       "<Figure size 1008x288 with 2 Axes>"
      ]
     },
     "metadata": {
      "needs_background": "light"
     },
     "output_type": "display_data"
    }
   ],
   "source": [
    "fig, ax = plt.subplots(1, 2,figsize=(14, 4))\n",
    "\n",
    "ax[0].plot(loss_hist, label='scipy.optimize')\n",
    "\n",
    "ax[1].plot(grad_hist)\n",
    "ax[1].set_yscale('log')\n",
    "ax[0].legend()\n",
    "\n",
    "for axi in ax:\n",
    "    axi.set_xlabel('Number of iterations')\n",
    "ax[0].set_ylabel('Cost function')\n",
    "ax[1].set_ylabel('L2 gradient norm')"
   ]
  },
  {
   "cell_type": "code",
   "execution_count": 19,
   "metadata": {},
   "outputs": [
    {
     "data": {
      "text/plain": [
       "1.4901161193847656e-08"
      ]
     },
     "execution_count": 19,
     "metadata": {},
     "output_type": "execute_result"
    }
   ],
   "source": [
    "np.sqrt(2.2204460492503131E-16)"
   ]
  },
  {
   "cell_type": "code",
   "execution_count": null,
   "metadata": {},
   "outputs": [],
   "source": []
  }
 ],
 "metadata": {
  "kernelspec": {
   "display_name": "Python 3",
   "language": "python",
   "name": "python3"
  },
  "language_info": {
   "codemirror_mode": {
    "name": "ipython",
    "version": 3
   },
   "file_extension": ".py",
   "mimetype": "text/x-python",
   "name": "python",
   "nbconvert_exporter": "python",
   "pygments_lexer": "ipython3",
   "version": "3.8.2"
  }
 },
 "nbformat": 4,
 "nbformat_minor": 4
}
