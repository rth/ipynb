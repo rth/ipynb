{
 "cells": [
  {
   "cell_type": "markdown",
   "metadata": {},
   "source": [
    "# Comment regarding FT income inequality distribution visualizations\n",
    "\n",
    "The visualization of the income distribution https://twitter.com/RobinKwong/status/810563661945274368 (18 dec 2016) by FT suggests that there is an increase in the income inequality for 1971 - 2014 as,\n",
    "  - the latter is a broader (with a larger high revenue distribution tail)\n",
    "  - the absolute hight of the spike of +150 k£ increases\n",
    "\n",
    "However, while there is has been increase in the income inequality in UK and US (cf evolution of the Gini index), this visualiation is inconclusive because,\n",
    "  - at constant income inequality, the widening of the hight revenue distribution tail can be compensated by the increase of the mean/median income \n",
    "  - the +150 k£ spike is purely a visualization artifact,\n",
    "  \n",
    "Here is a counterexample,"
   ]
  },
  {
   "cell_type": "code",
   "execution_count": 1,
   "metadata": {
    "collapsed": true
   },
   "outputs": [],
   "source": [
    "%matplotlib inline\n",
    "import matplotlib.pyplot as plt\n",
    "import numpy as np\n",
    "from scipy.stats import beta\n",
    "import matplotlib as mpl\n",
    "#mpl.rc(\"savefig\", dpi=300)"
   ]
  },
  {
   "cell_type": "code",
   "execution_count": 2,
   "metadata": {
    "collapsed": false
   },
   "outputs": [
    {
     "data": {
      "image/png": "[encoded data removed]",
      "text/plain": [
       "<matplotlib.figure.Figure at 0x7fb9ccae1470>"
      ]
     },
     "metadata": {},
     "output_type": "display_data"
    }
   ],
   "source": [
    "N_hist = 60\n",
    "threashold = 150\n",
    "\n",
    "def gini(x):\n",
    "    # http://stackoverflow.com/a/39513799/1791279\n",
    "\n",
    "    # Mean absolute difference\n",
    "    mad = np.abs(np.subtract.outer(x, x)).mean()\n",
    "    # Relative mean absolute difference\n",
    "    rmad = mad/np.mean(x)\n",
    "    # Gini coefficient\n",
    "    g = 0.5 * rmad\n",
    "    return g\n",
    "\n",
    "y = np.random.beta(1.8, 6, size=10000)\n",
    "y *= 200\n",
    "fig, ax = plt.subplots(1,1, dpi=300)\n",
    "\n",
    "ax.text(8, 0.010, 'Gini idx: {:.2f}'.format(gini(y)), size=9, backgroundcolor='w')\n",
    "_ = ax.hist(np.fmin(y, threashold), N_hist, normed=True, alpha=0.3, color='b')\n",
    "\n",
    "y += 30\n",
    "ax.text(60, 0.010, 'Gini idx: {:.2f}'.format(gini(y)), size=9, backgroundcolor='w')\n",
    "_ = ax.hist(np.fmin(y, threashold), N_hist, normed=True, alpha=0.3, color='r')\n",
    "ax.set_xlim(0, 155)\n",
    "ax.set_ylim(0, 0.02)\n",
    "ax.set_xlabel('Household income')\n",
    "ax.yaxis.set_visible(False)"
   ]
  },
  {
   "cell_type": "code",
   "execution_count": null,
   "metadata": {
    "collapsed": true
   },
   "outputs": [],
   "source": []
  }
 ],
 "metadata": {
  "kernelspec": {
   "display_name": "Python 3",
   "language": "python",
   "name": "python3"
  },
  "language_info": {
   "codemirror_mode": {
    "name": "ipython",
    "version": 3
   },
   "file_extension": ".py",
   "mimetype": "text/x-python",
   "name": "python",
   "nbconvert_exporter": "python",
   "pygments_lexer": "ipython3",
   "version": "3.5.2"
  }
 },
 "nbformat": 4,
 "nbformat_minor": 2
}
